{
 "cells": [
  {
   "cell_type": "markdown",
   "id": "893990ab",
   "metadata": {},
   "source": [
    "## Solving systems of linear equations"
   ]
  },
  {
   "cell_type": "code",
   "execution_count": 1,
   "id": "5c94ff58",
   "metadata": {},
   "outputs": [],
   "source": [
    "import numpy as np\n",
    "import matplotlib.pyplot as plt"
   ]
  },
  {
   "cell_type": "markdown",
   "id": "361c474c",
   "metadata": {},
   "source": [
    "### y = 3x + 2\n",
    "### y = 2x + 1"
   ]
  },
  {
   "cell_type": "code",
   "execution_count": 2,
   "id": "76dcccc2",
   "metadata": {},
   "outputs": [],
   "source": [
    "x = np.linspace(-5, 5, 100)\n",
    "y1 = 3 * x + 2\n",
    "y2 = 2 * x + 1"
   ]
  },
  {
   "cell_type": "code",
   "execution_count": 3,
   "id": "52b4ed40",
   "metadata": {},
   "outputs": [
    {
     "data": {
      "text/plain": [
       "array([-5.        , -4.8989899 , -4.7979798 , -4.6969697 , -4.5959596 ,\n",
       "       -4.49494949, -4.39393939, -4.29292929, -4.19191919, -4.09090909,\n",
       "       -3.98989899, -3.88888889, -3.78787879, -3.68686869, -3.58585859,\n",
       "       -3.48484848, -3.38383838, -3.28282828, -3.18181818, -3.08080808,\n",
       "       -2.97979798, -2.87878788, -2.77777778, -2.67676768, -2.57575758,\n",
       "       -2.47474747, -2.37373737, -2.27272727, -2.17171717, -2.07070707,\n",
       "       -1.96969697, -1.86868687, -1.76767677, -1.66666667, -1.56565657,\n",
       "       -1.46464646, -1.36363636, -1.26262626, -1.16161616, -1.06060606,\n",
       "       -0.95959596, -0.85858586, -0.75757576, -0.65656566, -0.55555556,\n",
       "       -0.45454545, -0.35353535, -0.25252525, -0.15151515, -0.05050505,\n",
       "        0.05050505,  0.15151515,  0.25252525,  0.35353535,  0.45454545,\n",
       "        0.55555556,  0.65656566,  0.75757576,  0.85858586,  0.95959596,\n",
       "        1.06060606,  1.16161616,  1.26262626,  1.36363636,  1.46464646,\n",
       "        1.56565657,  1.66666667,  1.76767677,  1.86868687,  1.96969697,\n",
       "        2.07070707,  2.17171717,  2.27272727,  2.37373737,  2.47474747,\n",
       "        2.57575758,  2.67676768,  2.77777778,  2.87878788,  2.97979798,\n",
       "        3.08080808,  3.18181818,  3.28282828,  3.38383838,  3.48484848,\n",
       "        3.58585859,  3.68686869,  3.78787879,  3.88888889,  3.98989899,\n",
       "        4.09090909,  4.19191919,  4.29292929,  4.39393939,  4.49494949,\n",
       "        4.5959596 ,  4.6969697 ,  4.7979798 ,  4.8989899 ,  5.        ])"
      ]
     },
     "execution_count": 3,
     "metadata": {},
     "output_type": "execute_result"
    }
   ],
   "source": [
    "x"
   ]
  },
  {
   "cell_type": "code",
   "execution_count": 4,
   "id": "087e7c0e",
   "metadata": {},
   "outputs": [
    {
     "data": {
      "text/plain": [
       "array([-13.        , -12.6969697 , -12.39393939, -12.09090909,\n",
       "       -11.78787879, -11.48484848, -11.18181818, -10.87878788,\n",
       "       -10.57575758, -10.27272727,  -9.96969697,  -9.66666667,\n",
       "        -9.36363636,  -9.06060606,  -8.75757576,  -8.45454545,\n",
       "        -8.15151515,  -7.84848485,  -7.54545455,  -7.24242424,\n",
       "        -6.93939394,  -6.63636364,  -6.33333333,  -6.03030303,\n",
       "        -5.72727273,  -5.42424242,  -5.12121212,  -4.81818182,\n",
       "        -4.51515152,  -4.21212121,  -3.90909091,  -3.60606061,\n",
       "        -3.3030303 ,  -3.        ,  -2.6969697 ,  -2.39393939,\n",
       "        -2.09090909,  -1.78787879,  -1.48484848,  -1.18181818,\n",
       "        -0.87878788,  -0.57575758,  -0.27272727,   0.03030303,\n",
       "         0.33333333,   0.63636364,   0.93939394,   1.24242424,\n",
       "         1.54545455,   1.84848485,   2.15151515,   2.45454545,\n",
       "         2.75757576,   3.06060606,   3.36363636,   3.66666667,\n",
       "         3.96969697,   4.27272727,   4.57575758,   4.87878788,\n",
       "         5.18181818,   5.48484848,   5.78787879,   6.09090909,\n",
       "         6.39393939,   6.6969697 ,   7.        ,   7.3030303 ,\n",
       "         7.60606061,   7.90909091,   8.21212121,   8.51515152,\n",
       "         8.81818182,   9.12121212,   9.42424242,   9.72727273,\n",
       "        10.03030303,  10.33333333,  10.63636364,  10.93939394,\n",
       "        11.24242424,  11.54545455,  11.84848485,  12.15151515,\n",
       "        12.45454545,  12.75757576,  13.06060606,  13.36363636,\n",
       "        13.66666667,  13.96969697,  14.27272727,  14.57575758,\n",
       "        14.87878788,  15.18181818,  15.48484848,  15.78787879,\n",
       "        16.09090909,  16.39393939,  16.6969697 ,  17.        ])"
      ]
     },
     "execution_count": 4,
     "metadata": {},
     "output_type": "execute_result"
    }
   ],
   "source": [
    "y1"
   ]
  },
  {
   "cell_type": "code",
   "execution_count": 5,
   "id": "4a110d69",
   "metadata": {},
   "outputs": [
    {
     "data": {
      "text/plain": [
       "array([-9.        , -8.7979798 , -8.5959596 , -8.39393939, -8.19191919,\n",
       "       -7.98989899, -7.78787879, -7.58585859, -7.38383838, -7.18181818,\n",
       "       -6.97979798, -6.77777778, -6.57575758, -6.37373737, -6.17171717,\n",
       "       -5.96969697, -5.76767677, -5.56565657, -5.36363636, -5.16161616,\n",
       "       -4.95959596, -4.75757576, -4.55555556, -4.35353535, -4.15151515,\n",
       "       -3.94949495, -3.74747475, -3.54545455, -3.34343434, -3.14141414,\n",
       "       -2.93939394, -2.73737374, -2.53535354, -2.33333333, -2.13131313,\n",
       "       -1.92929293, -1.72727273, -1.52525253, -1.32323232, -1.12121212,\n",
       "       -0.91919192, -0.71717172, -0.51515152, -0.31313131, -0.11111111,\n",
       "        0.09090909,  0.29292929,  0.49494949,  0.6969697 ,  0.8989899 ,\n",
       "        1.1010101 ,  1.3030303 ,  1.50505051,  1.70707071,  1.90909091,\n",
       "        2.11111111,  2.31313131,  2.51515152,  2.71717172,  2.91919192,\n",
       "        3.12121212,  3.32323232,  3.52525253,  3.72727273,  3.92929293,\n",
       "        4.13131313,  4.33333333,  4.53535354,  4.73737374,  4.93939394,\n",
       "        5.14141414,  5.34343434,  5.54545455,  5.74747475,  5.94949495,\n",
       "        6.15151515,  6.35353535,  6.55555556,  6.75757576,  6.95959596,\n",
       "        7.16161616,  7.36363636,  7.56565657,  7.76767677,  7.96969697,\n",
       "        8.17171717,  8.37373737,  8.57575758,  8.77777778,  8.97979798,\n",
       "        9.18181818,  9.38383838,  9.58585859,  9.78787879,  9.98989899,\n",
       "       10.19191919, 10.39393939, 10.5959596 , 10.7979798 , 11.        ])"
      ]
     },
     "execution_count": 5,
     "metadata": {},
     "output_type": "execute_result"
    }
   ],
   "source": [
    "y2"
   ]
  },
  {
   "cell_type": "code",
   "execution_count": 8,
   "id": "7c2e1353",
   "metadata": {},
   "outputs": [
    {
     "data": {
      "text/plain": [
       "<matplotlib.lines.Line2D at 0x7fcd94c4e8b0>"
      ]
     },
     "execution_count": 8,
     "metadata": {},
     "output_type": "execute_result"
    },
    {
     "data": {
      "image/png": "[encoded data removed]",
      "text/plain": [
       "<Figure size 432x288 with 1 Axes>"
      ]
     },
     "metadata": {
      "needs_background": "light"
     },
     "output_type": "display_data"
    }
   ],
   "source": [
    "plt.plot(x, y1, c='r')\n",
    "plt.plot(x, y2, c='g')\n",
    "\n",
    "plt.axhline(0, c='grey', zorder=0)\n",
    "plt.axvline(0, c='grey', zorder=0)"
   ]
  },
  {
   "cell_type": "code",
   "execution_count": 9,
   "id": "21dd7634",
   "metadata": {},
   "outputs": [],
   "source": [
    "A = np.array([[1, -3],\n",
    "              [1, -2]])\n",
    "\n",
    "b = np.array([2,1])"
   ]
  },
  {
   "cell_type": "markdown",
   "id": "36d28304",
   "metadata": {},
   "source": [
    "## Solving the system using :\n",
    "\n",
    "$$\n",
    "\\begin{aligned}\n",
    "x = A^{-1}b\n",
    "\\end{aligned}\n",
    "$$"
   ]
  },
  {
   "cell_type": "code",
   "execution_count": 10,
   "id": "d0098b54",
   "metadata": {},
   "outputs": [
    {
     "data": {
      "text/plain": [
       "array([-1., -1.])"
      ]
     },
     "execution_count": 10,
     "metadata": {},
     "output_type": "execute_result"
    }
   ],
   "source": [
    "x = np.linalg.inv(A) @ b\n",
    "\n",
    "x"
   ]
  },
  {
   "cell_type": "code",
   "execution_count": null,
   "id": "0fc5ba0f",
   "metadata": {},
   "outputs": [],
   "source": []
  }
 ],
 "metadata": {
  "kernelspec": {
   "display_name": "Python 3",
   "language": "python",
   "name": "python3"
  },
  "language_info": {
   "codemirror_mode": {
    "name": "ipython",
    "version": 3
   },
   "file_extension": ".py",
   "mimetype": "text/x-python",
   "name": "python",
   "nbconvert_exporter": "python",
   "pygments_lexer": "ipython3",
   "version": "3.9.5"
  }
 },
 "nbformat": 4,
 "nbformat_minor": 5
}
