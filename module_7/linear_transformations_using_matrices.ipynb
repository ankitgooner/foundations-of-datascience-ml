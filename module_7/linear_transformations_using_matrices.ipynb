{
 "cells": [
  {
   "cell_type": "markdown",
   "id": "5fa97791",
   "metadata": {},
   "source": [
    "## Linear Transformation using Matrices"
   ]
  },
  {
   "cell_type": "code",
   "execution_count": 1,
   "id": "0327f759",
   "metadata": {},
   "outputs": [],
   "source": [
    "import numpy as np"
   ]
  },
  {
   "cell_type": "code",
   "execution_count": 2,
   "id": "24c8aefe",
   "metadata": {},
   "outputs": [],
   "source": [
    "xy_data = np.array([[2,3,4],\n",
    "                    [4,5,6]])"
   ]
  },
  {
   "cell_type": "code",
   "execution_count": 3,
   "id": "3e59cdc7",
   "metadata": {},
   "outputs": [
    {
     "data": {
      "text/plain": [
       "array([[2, 3, 4],\n",
       "       [4, 5, 6]])"
      ]
     },
     "execution_count": 3,
     "metadata": {},
     "output_type": "execute_result"
    }
   ],
   "source": [
    "xy_data"
   ]
  },
  {
   "cell_type": "code",
   "execution_count": 6,
   "id": "b4616a8b",
   "metadata": {},
   "outputs": [
    {
     "data": {
      "text/plain": [
       "<matplotlib.lines.Line2D at 0x7fd199628b50>"
      ]
     },
     "execution_count": 6,
     "metadata": {},
     "output_type": "execute_result"
    },
    {
     "data": {
      "image/png": "[encoded data removed]",
      "text/plain": [
       "<Figure size 432x288 with 1 Axes>"
      ]
     },
     "metadata": {
      "needs_background": "light"
     },
     "output_type": "display_data"
    }
   ],
   "source": [
    "from matplotlib import pyplot as plt\n",
    "\n",
    "plt.scatter(xy_data[0, :], xy_data[1, :])\n",
    "plt.xlim([-10, 10])\n",
    "plt.ylim([-10, 10])\n",
    "\n",
    "plt.axhline(0, c='grey', zorder=0)\n",
    "plt.axvline(0, c='grey', zorder=0)"
   ]
  },
  {
   "cell_type": "code",
   "execution_count": 7,
   "id": "f437ec97",
   "metadata": {},
   "outputs": [
    {
     "data": {
      "text/plain": [
       "array([[-1,  0],\n",
       "       [ 0, -1]])"
      ]
     },
     "execution_count": 7,
     "metadata": {},
     "output_type": "execute_result"
    }
   ],
   "source": [
    "## define transformation matrix\n",
    "\n",
    "T = np.array([[-1, 0],\n",
    "              [0, -1]])\n",
    "\n",
    "T"
   ]
  },
  {
   "cell_type": "code",
   "execution_count": 9,
   "id": "35199982",
   "metadata": {},
   "outputs": [
    {
     "data": {
      "text/plain": [
       "array([[-2, -3, -4],\n",
       "       [-4, -5, -6]])"
      ]
     },
     "execution_count": 9,
     "metadata": {},
     "output_type": "execute_result"
    }
   ],
   "source": [
    "## apply transformation matrix by left multiplying\n",
    "\n",
    "xy_transformed = T @ xy_data\n",
    "xy_transformed"
   ]
  },
  {
   "cell_type": "code",
   "execution_count": 11,
   "id": "e1fe7484",
   "metadata": {},
   "outputs": [
    {
     "data": {
      "text/plain": [
       "<matplotlib.lines.Line2D at 0x7fd19a06fc70>"
      ]
     },
     "execution_count": 11,
     "metadata": {},
     "output_type": "execute_result"
    },
    {
     "data": {
      "image/png": "[encoded data removed]",
      "text/plain": [
       "<Figure size 432x288 with 1 Axes>"
      ]
     },
     "metadata": {
      "needs_background": "light"
     },
     "output_type": "display_data"
    }
   ],
   "source": [
    "plt.scatter(xy_data[0, :], xy_data[1, :])\n",
    "plt.scatter(xy_transformed[0, :], xy_transformed[1, :], c='red')\n",
    "plt.xlim([-10, 10])\n",
    "plt.ylim([-10, 10])\n",
    "\n",
    "plt.axhline(0, c='grey', zorder=0)\n",
    "plt.axvline(0, c='grey', zorder=0)"
   ]
  },
  {
   "cell_type": "markdown",
   "id": "c7792baa",
   "metadata": {},
   "source": [
    "## Reverting the transformation"
   ]
  },
  {
   "cell_type": "code",
   "execution_count": 12,
   "id": "45c6c57d",
   "metadata": {},
   "outputs": [
    {
     "data": {
      "text/plain": [
       "array([[-1., -0.],\n",
       "       [-0., -1.]])"
      ]
     },
     "execution_count": 12,
     "metadata": {},
     "output_type": "execute_result"
    }
   ],
   "source": [
    "T_inv = np.linalg.inv(T)\n",
    "\n",
    "T_inv"
   ]
  },
  {
   "cell_type": "code",
   "execution_count": 13,
   "id": "fd3b412a",
   "metadata": {},
   "outputs": [
    {
     "data": {
      "text/plain": [
       "array([[2., 3., 4.],\n",
       "       [4., 5., 6.]])"
      ]
     },
     "execution_count": 13,
     "metadata": {},
     "output_type": "execute_result"
    }
   ],
   "source": [
    "T_inv @ xy_transformed"
   ]
  },
  {
   "cell_type": "code",
   "execution_count": null,
   "id": "98219848",
   "metadata": {},
   "outputs": [],
   "source": []
  }
 ],
 "metadata": {
  "kernelspec": {
   "display_name": "Python 3",
   "language": "python",
   "name": "python3"
  },
  "language_info": {
   "codemirror_mode": {
    "name": "ipython",
    "version": 3
   },
   "file_extension": ".py",
   "mimetype": "text/x-python",
   "name": "python",
   "nbconvert_exporter": "python",
   "pygments_lexer": "ipython3",
   "version": "3.9.5"
  }
 },
 "nbformat": 4,
 "nbformat_minor": 5
}
