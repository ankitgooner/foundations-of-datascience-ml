{
 "cells": [
  {
   "cell_type": "code",
   "execution_count": 2,
   "id": "e0e1e16b",
   "metadata": {},
   "outputs": [],
   "source": [
    "import numpy as np\n",
    "import matplotlib.pyplot as plt"
   ]
  },
  {
   "cell_type": "code",
   "execution_count": 3,
   "id": "dec7e349",
   "metadata": {},
   "outputs": [
    {
     "data": {
      "text/plain": [
       "<matplotlib.collections.PathCollection at 0x7fef83805640>"
      ]
     },
     "execution_count": 3,
     "metadata": {},
     "output_type": "execute_result"
    },
    {
     "data": {
      "image/png": "[encoded data removed]",
      "text/plain": [
       "<Figure size 432x288 with 1 Axes>"
      ]
     },
     "metadata": {
      "needs_background": "light"
     },
     "output_type": "display_data"
    }
   ],
   "source": [
    "x = np.array([170, 165, 172, 180])\n",
    "y = np.array([78, 65, 79, 91])\n",
    "\n",
    "plt.scatter(x, y)"
   ]
  },
  {
   "cell_type": "code",
   "execution_count": 4,
   "id": "d3a43a0b",
   "metadata": {},
   "outputs": [],
   "source": [
    "X = np.array([\n",
    "    [170, 1],\n",
    "    [165, 1],\n",
    "    [172, 1],\n",
    "    [180, 1]])\n",
    "\n",
    "y = np.array([78, 65, 79, 91])"
   ]
  },
  {
   "cell_type": "code",
   "execution_count": 5,
   "id": "37be2ebd",
   "metadata": {},
   "outputs": [],
   "source": [
    "m = (np.linalg.inv(X.T @ X)) @ X.T @ y"
   ]
  },
  {
   "cell_type": "code",
   "execution_count": 6,
   "id": "5df5d6a3",
   "metadata": {},
   "outputs": [
    {
     "data": {
      "text/plain": [
       "array([   1.67237687, -208.98072805])"
      ]
     },
     "execution_count": 6,
     "metadata": {},
     "output_type": "execute_result"
    }
   ],
   "source": [
    "m"
   ]
  },
  {
   "cell_type": "code",
   "execution_count": 13,
   "id": "72be82d2",
   "metadata": {},
   "outputs": [
    {
     "data": {
      "text/plain": [
       "<matplotlib.collections.PathCollection at 0x7fef83f68280>"
      ]
     },
     "execution_count": 13,
     "metadata": {},
     "output_type": "execute_result"
    },
    {
     "data": {
      "image/png": "[encoded data removed]",
      "text/plain": [
       "<Figure size 432x288 with 1 Axes>"
      ]
     },
     "metadata": {
      "needs_background": "light"
     },
     "output_type": "display_data"
    }
   ],
   "source": [
    "xhat = np.linspace(150,200, 100)\n",
    "yhat = 1.67 * xhat - 208.98\n",
    "plt.plot(xhat, yhat)\n",
    "\n",
    "x = np.array([170, 165, 172, 180])\n",
    "y = np.array([78, 65, 79, 91])\n",
    "\n",
    "plt.scatter(x, y)\n"
   ]
  },
  {
   "cell_type": "code",
   "execution_count": null,
   "id": "b9ebbc8f",
   "metadata": {},
   "outputs": [],
   "source": []
  }
 ],
 "metadata": {
  "kernelspec": {
   "display_name": "Python 3",
   "language": "python",
   "name": "python3"
  },
  "language_info": {
   "codemirror_mode": {
    "name": "ipython",
    "version": 3
   },
   "file_extension": ".py",
   "mimetype": "text/x-python",
   "name": "python",
   "nbconvert_exporter": "python",
   "pygments_lexer": "ipython3",
   "version": "3.9.5"
  }
 },
 "nbformat": 4,
 "nbformat_minor": 5
}
