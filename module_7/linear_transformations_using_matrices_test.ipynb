{
 "cells": [
  {
   "cell_type": "code",
   "execution_count": 56,
   "id": "2ccadea6",
   "metadata": {},
   "outputs": [],
   "source": [
    "import numpy as np"
   ]
  },
  {
   "cell_type": "code",
   "execution_count": 57,
   "id": "44145b46",
   "metadata": {},
   "outputs": [
    {
     "data": {
      "text/plain": [
       "array([[-1.5,  0. ],\n",
       "       [ 0. , -1.5]])"
      ]
     },
     "execution_count": 57,
     "metadata": {},
     "output_type": "execute_result"
    }
   ],
   "source": [
    "T = np.array([[-1.5, 0],\n",
    "             [0, -1.5]])\n",
    "\n",
    "T"
   ]
  },
  {
   "cell_type": "code",
   "execution_count": 58,
   "id": "94b1e54b",
   "metadata": {},
   "outputs": [
    {
     "data": {
      "text/plain": [
       "array([[2, 3, 4],\n",
       "       [4, 5, 6]])"
      ]
     },
     "execution_count": 58,
     "metadata": {},
     "output_type": "execute_result"
    }
   ],
   "source": [
    "xy_data = np.array([[2,3,4],\n",
    "                   [4,5,6]])\n",
    "\n",
    "xy_data"
   ]
  },
  {
   "cell_type": "code",
   "execution_count": 59,
   "id": "4cc928c6",
   "metadata": {},
   "outputs": [],
   "source": [
    "from matplotlib import pyplot as plt\n",
    "from matplotlib import ticker"
   ]
  },
  {
   "cell_type": "code",
   "execution_count": 60,
   "id": "c88cb172",
   "metadata": {
    "scrolled": true
   },
   "outputs": [
    {
     "data": {
      "text/plain": [
       "(-10.0, 10.0)"
      ]
     },
     "execution_count": 60,
     "metadata": {},
     "output_type": "execute_result"
    },
    {
     "data": {
      "image/png": "[encoded data removed]",
      "text/plain": [
       "<Figure size 432x288 with 1 Axes>"
      ]
     },
     "metadata": {
      "needs_background": "light"
     },
     "output_type": "display_data"
    }
   ],
   "source": [
    "plt.scatter(xy_data[0, :], xy_data[1,:])\n",
    "plt.xlim([-10, 10])\n",
    "plt.ylim([-10, 10])"
   ]
  },
  {
   "cell_type": "code",
   "execution_count": 61,
   "id": "e15bda8e",
   "metadata": {},
   "outputs": [
    {
     "data": {
      "text/plain": [
       "array([[-3. , -4.5, -6. ],\n",
       "       [-6. , -7.5, -9. ]])"
      ]
     },
     "execution_count": 61,
     "metadata": {},
     "output_type": "execute_result"
    }
   ],
   "source": [
    "xy_transformed = T @ xy_data\n",
    "\n",
    "xy_transformed"
   ]
  },
  {
   "cell_type": "code",
   "execution_count": 62,
   "id": "b67dc756",
   "metadata": {},
   "outputs": [
    {
     "data": {
      "text/plain": [
       "<matplotlib.lines.Line2D at 0x7f7fb0ded940>"
      ]
     },
     "execution_count": 62,
     "metadata": {},
     "output_type": "execute_result"
    },
    {
     "data": {
      "image/png": "[encoded data removed]",
      "text/plain": [
       "<Figure size 432x288 with 1 Axes>"
      ]
     },
     "metadata": {
      "needs_background": "light"
     },
     "output_type": "display_data"
    }
   ],
   "source": [
    "plt.scatter(xy_data[0, :], xy_data[1,:])\n",
    "plt.scatter(xy_transformed[0, :], xy_transformed[1, :], c='r')\n",
    "\n",
    "plt.xlim([-10, 10])\n",
    "plt.ylim([-10, 10])\n",
    "\n",
    "# draw axes\n",
    "plt.axhline(0, c='grey', zorder=0)\n",
    "plt.axvline(0, c='grey', zorder=0)"
   ]
  },
  {
   "cell_type": "code",
   "execution_count": null,
   "id": "f5dc81aa",
   "metadata": {},
   "outputs": [],
   "source": []
  },
  {
   "cell_type": "code",
   "execution_count": 63,
   "id": "0b36f3c5",
   "metadata": {},
   "outputs": [],
   "source": [
    "reverse = T @ xy_transformed"
   ]
  },
  {
   "cell_type": "code",
   "execution_count": 64,
   "id": "ed2f8642",
   "metadata": {},
   "outputs": [
    {
     "data": {
      "text/plain": [
       "array([[ 4.5 ,  6.75,  9.  ],\n",
       "       [ 9.  , 11.25, 13.5 ]])"
      ]
     },
     "execution_count": 64,
     "metadata": {},
     "output_type": "execute_result"
    }
   ],
   "source": [
    "reverse"
   ]
  },
  {
   "cell_type": "code",
   "execution_count": 65,
   "id": "1859be1b",
   "metadata": {},
   "outputs": [
    {
     "data": {
      "text/plain": [
       "array([[-0.66666667, -0.        ],\n",
       "       [-0.        , -0.66666667]])"
      ]
     },
     "execution_count": 65,
     "metadata": {},
     "output_type": "execute_result"
    }
   ],
   "source": [
    "np.linalg.inv(T)"
   ]
  },
  {
   "cell_type": "code",
   "execution_count": 66,
   "id": "ca6e16f4",
   "metadata": {},
   "outputs": [],
   "source": [
    "import pandas as pd"
   ]
  },
  {
   "cell_type": "code",
   "execution_count": 67,
   "id": "e48dc0d8",
   "metadata": {},
   "outputs": [
    {
     "data": {
      "text/html": [
       "<div>\n",
       "<style scoped>\n",
       "    .dataframe tbody tr th:only-of-type {\n",
       "        vertical-align: middle;\n",
       "    }\n",
       "\n",
       "    .dataframe tbody tr th {\n",
       "        vertical-align: top;\n",
       "    }\n",
       "\n",
       "    .dataframe thead th {\n",
       "        text-align: right;\n",
       "    }\n",
       "</style>\n",
       "<table border=\"1\" class=\"dataframe\">\n",
       "  <thead>\n",
       "    <tr style=\"text-align: right;\">\n",
       "      <th></th>\n",
       "      <th>sport</th>\n",
       "      <th>event</th>\n",
       "      <th>year</th>\n",
       "      <th>athlete_id</th>\n",
       "      <th>country_id</th>\n",
       "      <th>medal</th>\n",
       "    </tr>\n",
       "  </thead>\n",
       "  <tbody>\n",
       "    <tr>\n",
       "      <th>0</th>\n",
       "      <td>Gymnastics</td>\n",
       "      <td>Gymnastics Men's Individual All-Around</td>\n",
       "      <td>2016-01-01</td>\n",
       "      <td>51</td>\n",
       "      <td>173</td>\n",
       "      <td>NaN</td>\n",
       "    </tr>\n",
       "    <tr>\n",
       "      <th>1</th>\n",
       "      <td>Gymnastics</td>\n",
       "      <td>Gymnastics Men's Floor Exercise</td>\n",
       "      <td>2016-01-01</td>\n",
       "      <td>51</td>\n",
       "      <td>173</td>\n",
       "      <td>NaN</td>\n",
       "    </tr>\n",
       "    <tr>\n",
       "      <th>2</th>\n",
       "      <td>Gymnastics</td>\n",
       "      <td>Gymnastics Men's Parallel Bars</td>\n",
       "      <td>2016-01-01</td>\n",
       "      <td>51</td>\n",
       "      <td>173</td>\n",
       "      <td>NaN</td>\n",
       "    </tr>\n",
       "    <tr>\n",
       "      <th>3</th>\n",
       "      <td>Gymnastics</td>\n",
       "      <td>Gymnastics Men's Horizontal Bar</td>\n",
       "      <td>2016-01-01</td>\n",
       "      <td>51</td>\n",
       "      <td>173</td>\n",
       "      <td>NaN</td>\n",
       "    </tr>\n",
       "    <tr>\n",
       "      <th>4</th>\n",
       "      <td>Gymnastics</td>\n",
       "      <td>Gymnastics Men's Rings</td>\n",
       "      <td>2016-01-01</td>\n",
       "      <td>51</td>\n",
       "      <td>173</td>\n",
       "      <td>NaN</td>\n",
       "    </tr>\n",
       "  </tbody>\n",
       "</table>\n",
       "</div>"
      ],
      "text/plain": [
       "        sport                                   event        year  athlete_id  \\\n",
       "0  Gymnastics  Gymnastics Men's Individual All-Around  2016-01-01          51   \n",
       "1  Gymnastics         Gymnastics Men's Floor Exercise  2016-01-01          51   \n",
       "2  Gymnastics          Gymnastics Men's Parallel Bars  2016-01-01          51   \n",
       "3  Gymnastics         Gymnastics Men's Horizontal Bar  2016-01-01          51   \n",
       "4  Gymnastics                  Gymnastics Men's Rings  2016-01-01          51   \n",
       "\n",
       "   country_id medal  \n",
       "0         173   NaN  \n",
       "1         173   NaN  \n",
       "2         173   NaN  \n",
       "3         173   NaN  \n",
       "4         173   NaN  "
      ]
     },
     "execution_count": 67,
     "metadata": {},
     "output_type": "execute_result"
    }
   ],
   "source": [
    "df = pd.read_csv(\"/Users/harshittyagi/client_projects/lil/sql_code_challenges/data/summer_games.csv\")\n",
    "df.head()"
   ]
  },
  {
   "cell_type": "code",
   "execution_count": 68,
   "id": "bec3224c",
   "metadata": {},
   "outputs": [
    {
     "data": {
      "text/html": [
       "<div>\n",
       "<style scoped>\n",
       "    .dataframe tbody tr th:only-of-type {\n",
       "        vertical-align: middle;\n",
       "    }\n",
       "\n",
       "    .dataframe tbody tr th {\n",
       "        vertical-align: top;\n",
       "    }\n",
       "\n",
       "    .dataframe thead th {\n",
       "        text-align: right;\n",
       "    }\n",
       "</style>\n",
       "<table border=\"1\" class=\"dataframe\">\n",
       "  <thead>\n",
       "    <tr style=\"text-align: right;\">\n",
       "      <th></th>\n",
       "      <th>sport</th>\n",
       "      <th>event</th>\n",
       "      <th>year</th>\n",
       "      <th>athlete_id</th>\n",
       "      <th>country_id</th>\n",
       "      <th>medal</th>\n",
       "      <th>Bronze</th>\n",
       "      <th>Gold</th>\n",
       "      <th>Silver</th>\n",
       "    </tr>\n",
       "  </thead>\n",
       "  <tbody>\n",
       "    <tr>\n",
       "      <th>0</th>\n",
       "      <td>Gymnastics</td>\n",
       "      <td>Gymnastics Men's Individual All-Around</td>\n",
       "      <td>2016-01-01</td>\n",
       "      <td>51</td>\n",
       "      <td>173</td>\n",
       "      <td>NaN</td>\n",
       "      <td>0</td>\n",
       "      <td>0</td>\n",
       "      <td>0</td>\n",
       "    </tr>\n",
       "    <tr>\n",
       "      <th>1</th>\n",
       "      <td>Gymnastics</td>\n",
       "      <td>Gymnastics Men's Floor Exercise</td>\n",
       "      <td>2016-01-01</td>\n",
       "      <td>51</td>\n",
       "      <td>173</td>\n",
       "      <td>NaN</td>\n",
       "      <td>0</td>\n",
       "      <td>0</td>\n",
       "      <td>0</td>\n",
       "    </tr>\n",
       "    <tr>\n",
       "      <th>2</th>\n",
       "      <td>Gymnastics</td>\n",
       "      <td>Gymnastics Men's Parallel Bars</td>\n",
       "      <td>2016-01-01</td>\n",
       "      <td>51</td>\n",
       "      <td>173</td>\n",
       "      <td>NaN</td>\n",
       "      <td>0</td>\n",
       "      <td>0</td>\n",
       "      <td>0</td>\n",
       "    </tr>\n",
       "    <tr>\n",
       "      <th>3</th>\n",
       "      <td>Gymnastics</td>\n",
       "      <td>Gymnastics Men's Horizontal Bar</td>\n",
       "      <td>2016-01-01</td>\n",
       "      <td>51</td>\n",
       "      <td>173</td>\n",
       "      <td>NaN</td>\n",
       "      <td>0</td>\n",
       "      <td>0</td>\n",
       "      <td>0</td>\n",
       "    </tr>\n",
       "    <tr>\n",
       "      <th>4</th>\n",
       "      <td>Gymnastics</td>\n",
       "      <td>Gymnastics Men's Rings</td>\n",
       "      <td>2016-01-01</td>\n",
       "      <td>51</td>\n",
       "      <td>173</td>\n",
       "      <td>NaN</td>\n",
       "      <td>0</td>\n",
       "      <td>0</td>\n",
       "      <td>0</td>\n",
       "    </tr>\n",
       "    <tr>\n",
       "      <th>...</th>\n",
       "      <td>...</td>\n",
       "      <td>...</td>\n",
       "      <td>...</td>\n",
       "      <td>...</td>\n",
       "      <td>...</td>\n",
       "      <td>...</td>\n",
       "      <td>...</td>\n",
       "      <td>...</td>\n",
       "      <td>...</td>\n",
       "    </tr>\n",
       "    <tr>\n",
       "      <th>4932</th>\n",
       "      <td>Swimming</td>\n",
       "      <td>Swimming Women's 200 metres Backstroke</td>\n",
       "      <td>2016-01-01</td>\n",
       "      <td>135489</td>\n",
       "      <td>152</td>\n",
       "      <td>NaN</td>\n",
       "      <td>0</td>\n",
       "      <td>0</td>\n",
       "      <td>0</td>\n",
       "    </tr>\n",
       "    <tr>\n",
       "      <th>4933</th>\n",
       "      <td>Swimming</td>\n",
       "      <td>Swimming Women's 4 x 100 metres Medley Relay</td>\n",
       "      <td>2016-01-01</td>\n",
       "      <td>135489</td>\n",
       "      <td>152</td>\n",
       "      <td>NaN</td>\n",
       "      <td>0</td>\n",
       "      <td>0</td>\n",
       "      <td>0</td>\n",
       "    </tr>\n",
       "    <tr>\n",
       "      <th>4934</th>\n",
       "      <td>Track and Field</td>\n",
       "      <td>Women's 100 metres</td>\n",
       "      <td>2016-01-01</td>\n",
       "      <td>135547</td>\n",
       "      <td>96</td>\n",
       "      <td>NaN</td>\n",
       "      <td>0</td>\n",
       "      <td>0</td>\n",
       "      <td>0</td>\n",
       "    </tr>\n",
       "    <tr>\n",
       "      <th>4935</th>\n",
       "      <td>Track and Field</td>\n",
       "      <td>Women's 200 metres</td>\n",
       "      <td>2016-01-01</td>\n",
       "      <td>135547</td>\n",
       "      <td>96</td>\n",
       "      <td>NaN</td>\n",
       "      <td>0</td>\n",
       "      <td>0</td>\n",
       "      <td>0</td>\n",
       "    </tr>\n",
       "    <tr>\n",
       "      <th>4936</th>\n",
       "      <td>Track and Field</td>\n",
       "      <td>Women's 4 x 100 metres Relay</td>\n",
       "      <td>2016-01-01</td>\n",
       "      <td>135547</td>\n",
       "      <td>96</td>\n",
       "      <td>NaN</td>\n",
       "      <td>0</td>\n",
       "      <td>0</td>\n",
       "      <td>0</td>\n",
       "    </tr>\n",
       "  </tbody>\n",
       "</table>\n",
       "<p>4937 rows × 9 columns</p>\n",
       "</div>"
      ],
      "text/plain": [
       "                sport                                         event  \\\n",
       "0          Gymnastics        Gymnastics Men's Individual All-Around   \n",
       "1          Gymnastics               Gymnastics Men's Floor Exercise   \n",
       "2          Gymnastics                Gymnastics Men's Parallel Bars   \n",
       "3          Gymnastics               Gymnastics Men's Horizontal Bar   \n",
       "4          Gymnastics                        Gymnastics Men's Rings   \n",
       "...               ...                                           ...   \n",
       "4932         Swimming        Swimming Women's 200 metres Backstroke   \n",
       "4933         Swimming  Swimming Women's 4 x 100 metres Medley Relay   \n",
       "4934  Track and Field                            Women's 100 metres   \n",
       "4935  Track and Field                            Women's 200 metres   \n",
       "4936  Track and Field                  Women's 4 x 100 metres Relay   \n",
       "\n",
       "            year  athlete_id  country_id medal  Bronze  Gold  Silver  \n",
       "0     2016-01-01          51         173   NaN       0     0       0  \n",
       "1     2016-01-01          51         173   NaN       0     0       0  \n",
       "2     2016-01-01          51         173   NaN       0     0       0  \n",
       "3     2016-01-01          51         173   NaN       0     0       0  \n",
       "4     2016-01-01          51         173   NaN       0     0       0  \n",
       "...          ...         ...         ...   ...     ...   ...     ...  \n",
       "4932  2016-01-01      135489         152   NaN       0     0       0  \n",
       "4933  2016-01-01      135489         152   NaN       0     0       0  \n",
       "4934  2016-01-01      135547          96   NaN       0     0       0  \n",
       "4935  2016-01-01      135547          96   NaN       0     0       0  \n",
       "4936  2016-01-01      135547          96   NaN       0     0       0  \n",
       "\n",
       "[4937 rows x 9 columns]"
      ]
     },
     "execution_count": 68,
     "metadata": {},
     "output_type": "execute_result"
    }
   ],
   "source": [
    "one_hot = pd.get_dummies(df['medal'])\n",
    "df.drop('medal', axis=1)\n",
    "df = df.join(one_hot)\n",
    "df"
   ]
  },
  {
   "cell_type": "code",
   "execution_count": 69,
   "id": "072f979e",
   "metadata": {},
   "outputs": [],
   "source": [
    "df.to_csv(\"/Users/harshittyagi/client_projects/lil/sql_code_challenges/data/summer_games.csv\", index=False)"
   ]
  },
  {
   "cell_type": "code",
   "execution_count": null,
   "id": "dd36fe21",
   "metadata": {},
   "outputs": [],
   "source": []
  }
 ],
 "metadata": {
  "kernelspec": {
   "display_name": "Python 3",
   "language": "python",
   "name": "python3"
  },
  "language_info": {
   "codemirror_mode": {
    "name": "ipython",
    "version": 3
   },
   "file_extension": ".py",
   "mimetype": "text/x-python",
   "name": "python",
   "nbconvert_exporter": "python",
   "pygments_lexer": "ipython3",
   "version": "3.9.5"
  }
 },
 "nbformat": 4,
 "nbformat_minor": 5
}
