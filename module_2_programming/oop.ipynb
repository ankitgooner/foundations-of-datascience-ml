{
 "cells": [
  {
   "cell_type": "markdown",
   "id": "611adf9a",
   "metadata": {},
   "source": [
    "## Learning Objectives\n",
    "\n",
    "* Understanding classes and objects\n",
    "* How to define classes - the blueprint of the objects\n",
    "* Inheritance"
   ]
  },
  {
   "cell_type": "code",
   "execution_count": 1,
   "id": "24e57fdf",
   "metadata": {},
   "outputs": [
    {
     "name": "stdout",
     "output_type": "stream",
     "text": [
      "<class 'int'>\n"
     ]
    }
   ],
   "source": [
    "a = 15\n",
    "print(type(a))"
   ]
  },
  {
   "cell_type": "code",
   "execution_count": 2,
   "id": "d4ac8179",
   "metadata": {},
   "outputs": [
    {
     "name": "stdout",
     "output_type": "stream",
     "text": [
      "<class 'list'>\n"
     ]
    }
   ],
   "source": [
    "alist = [1,2,3]\n",
    "print(type(alist))"
   ]
  },
  {
   "cell_type": "markdown",
   "id": "680d2fca",
   "metadata": {},
   "source": [
    "## Defining custom classes"
   ]
  },
  {
   "cell_type": "code",
   "execution_count": 3,
   "id": "93dd4397",
   "metadata": {},
   "outputs": [],
   "source": [
    "class Student:\n",
    "    \n",
    "    def __init__(self, fname, lname, age):\n",
    "        self.fname = fname\n",
    "        self.lname = lname\n",
    "        self.age = age"
   ]
  },
  {
   "cell_type": "code",
   "execution_count": 4,
   "id": "ba53b4c4",
   "metadata": {},
   "outputs": [
    {
     "name": "stdout",
     "output_type": "stream",
     "text": [
      "<__main__.Student object at 0x7f9495bb3b50>\n"
     ]
    }
   ],
   "source": [
    "s1 = Student(\"Jake\", \"Harper\", 12)\n",
    "print(s1)"
   ]
  },
  {
   "cell_type": "code",
   "execution_count": 5,
   "id": "796b8a65",
   "metadata": {},
   "outputs": [
    {
     "name": "stdout",
     "output_type": "stream",
     "text": [
      "<class '__main__.Student'>\n"
     ]
    }
   ],
   "source": [
    "print(type(s1))"
   ]
  },
  {
   "cell_type": "code",
   "execution_count": 6,
   "id": "5929cfd3",
   "metadata": {},
   "outputs": [],
   "source": [
    "s2 = Student(\"Mak\", \"Pitt\", 13)"
   ]
  },
  {
   "cell_type": "code",
   "execution_count": 7,
   "id": "fb9d7527",
   "metadata": {},
   "outputs": [
    {
     "data": {
      "text/plain": [
       "'Jake'"
      ]
     },
     "execution_count": 7,
     "metadata": {},
     "output_type": "execute_result"
    }
   ],
   "source": [
    "s1.fname"
   ]
  },
  {
   "cell_type": "code",
   "execution_count": 8,
   "id": "05ec8469",
   "metadata": {},
   "outputs": [
    {
     "data": {
      "text/plain": [
       "12"
      ]
     },
     "execution_count": 8,
     "metadata": {},
     "output_type": "execute_result"
    }
   ],
   "source": [
    "s1.age"
   ]
  },
  {
   "cell_type": "code",
   "execution_count": 9,
   "id": "9365073a",
   "metadata": {},
   "outputs": [
    {
     "data": {
      "text/plain": [
       "'Mak'"
      ]
     },
     "execution_count": 9,
     "metadata": {},
     "output_type": "execute_result"
    }
   ],
   "source": [
    "s2.fname"
   ]
  },
  {
   "cell_type": "markdown",
   "id": "07ade2f5",
   "metadata": {},
   "source": [
    "## Class attr vs Instance attrs"
   ]
  },
  {
   "cell_type": "code",
   "execution_count": 10,
   "id": "4bd99d65",
   "metadata": {},
   "outputs": [],
   "source": [
    "class Student:\n",
    "    \n",
    "    school = \"MIT\"\n",
    "    \n",
    "    def __init__(self, fname, lname, age):\n",
    "        self.fname = fname\n",
    "        self.lname = lname\n",
    "        self.age = age\n"
   ]
  },
  {
   "cell_type": "code",
   "execution_count": 11,
   "id": "b5c31e39",
   "metadata": {},
   "outputs": [],
   "source": [
    "s3 = Student(\"Mak\", \"Pitt\", 18)\n",
    "s4 = Student(\"Tom\", \"Cook\", 19)"
   ]
  },
  {
   "cell_type": "code",
   "execution_count": 12,
   "id": "1f25fcec",
   "metadata": {},
   "outputs": [
    {
     "data": {
      "text/plain": [
       "'MIT'"
      ]
     },
     "execution_count": 12,
     "metadata": {},
     "output_type": "execute_result"
    }
   ],
   "source": [
    "s3.school"
   ]
  },
  {
   "cell_type": "code",
   "execution_count": 13,
   "id": "ed645b4e",
   "metadata": {},
   "outputs": [
    {
     "data": {
      "text/plain": [
       "'MIT'"
      ]
     },
     "execution_count": 13,
     "metadata": {},
     "output_type": "execute_result"
    }
   ],
   "source": [
    "s4.school"
   ]
  },
  {
   "cell_type": "markdown",
   "id": "e018c0ed",
   "metadata": {},
   "source": [
    "## Defining instance methods"
   ]
  },
  {
   "cell_type": "code",
   "execution_count": 18,
   "id": "9f8eb465",
   "metadata": {},
   "outputs": [],
   "source": [
    "class Student:\n",
    "    \n",
    "    school = \"MIT\"\n",
    "    \n",
    "    def __init__(self, fname, lname, course, pronoun, age):\n",
    "        self.fname = fname\n",
    "        self.lname = lname\n",
    "        self.course = course\n",
    "        self.pronoun = pronoun\n",
    "        self.age = age\n",
    "        \n",
    "    ##create student profile\n",
    "    def create_student_profile(self):\n",
    "        \"\"\"\n",
    "        \"\"\"\n",
    "        message = f\"{self.fname} is {self.age} years old student enrolled in the course {self.course}.\"\n",
    "        print(message)"
   ]
  },
  {
   "cell_type": "code",
   "execution_count": 19,
   "id": "9bcb641a",
   "metadata": {},
   "outputs": [
    {
     "data": {
      "text/plain": [
       "'MS'"
      ]
     },
     "execution_count": 19,
     "metadata": {},
     "output_type": "execute_result"
    }
   ],
   "source": [
    "st1 = Student(\"Tom\", \"Cook\", \"MS\", \"He\", 19)\n",
    "st1.course"
   ]
  },
  {
   "cell_type": "code",
   "execution_count": 20,
   "id": "2a7fa1b9",
   "metadata": {},
   "outputs": [
    {
     "name": "stdout",
     "output_type": "stream",
     "text": [
      "Tom is 19 years old student enrolled in the course MS.\n"
     ]
    }
   ],
   "source": [
    "st1.create_student_profile()"
   ]
  },
  {
   "cell_type": "code",
   "execution_count": 21,
   "id": "c1e117a4",
   "metadata": {},
   "outputs": [],
   "source": [
    "class Student:\n",
    "    \n",
    "    school = \"MIT\"\n",
    "    \n",
    "    def __init__(self, fname, lname, course, pronoun, age):\n",
    "        self.fname = fname\n",
    "        self.lname = lname\n",
    "        self.course = course\n",
    "        self.pronoun = pronoun\n",
    "        self.age = age\n",
    "        \n",
    "    ##create student profile\n",
    "    def create_student_profile(self):\n",
    "        \"\"\"\n",
    "        \"\"\"\n",
    "        message = f\"{self.fname} is {self.age} years old student enrolled in the course {self.course}.\"\n",
    "        print(message)\n",
    "        \n",
    "    ##instance method\n",
    "    def calculate_percentage(self, sub1_score, sub2_score):\n",
    "        total_score = sub1_score + sub2_score\n",
    "        percentage = (total_score / 200) * 100\n",
    "        return percentage"
   ]
  },
  {
   "cell_type": "code",
   "execution_count": 22,
   "id": "7db850ba",
   "metadata": {},
   "outputs": [],
   "source": [
    "st2 = Student(\"Tom\", \"Cook\", \"MS\", \"He\", 19)"
   ]
  },
  {
   "cell_type": "code",
   "execution_count": 23,
   "id": "33eb6a7b",
   "metadata": {},
   "outputs": [
    {
     "data": {
      "text/plain": [
       "<__main__.Student at 0x7f9495bb3ac0>"
      ]
     },
     "execution_count": 23,
     "metadata": {},
     "output_type": "execute_result"
    }
   ],
   "source": [
    "st2"
   ]
  },
  {
   "cell_type": "code",
   "execution_count": 24,
   "id": "663500f5",
   "metadata": {},
   "outputs": [
    {
     "data": {
      "text/plain": [
       "92.5"
      ]
     },
     "execution_count": 24,
     "metadata": {},
     "output_type": "execute_result"
    }
   ],
   "source": [
    "st2.calculate_percentage(98, 87)"
   ]
  },
  {
   "cell_type": "markdown",
   "id": "ee96a6f1",
   "metadata": {},
   "source": [
    "## Inheritance"
   ]
  },
  {
   "cell_type": "code",
   "execution_count": 25,
   "id": "6c69be64",
   "metadata": {},
   "outputs": [],
   "source": [
    "class Participant(Student):\n",
    "    pass"
   ]
  },
  {
   "cell_type": "code",
   "execution_count": 26,
   "id": "fdf2a088",
   "metadata": {},
   "outputs": [],
   "source": [
    "p1 = Participant(\"Rahul\", \"Sharma\", \"MS\", \"He\", 20)"
   ]
  },
  {
   "cell_type": "code",
   "execution_count": 27,
   "id": "2346ba5c",
   "metadata": {},
   "outputs": [
    {
     "data": {
      "text/plain": [
       "__main__.Participant"
      ]
     },
     "execution_count": 27,
     "metadata": {},
     "output_type": "execute_result"
    }
   ],
   "source": [
    "type(p1)"
   ]
  },
  {
   "cell_type": "code",
   "execution_count": 28,
   "id": "c6389c39",
   "metadata": {},
   "outputs": [
    {
     "data": {
      "text/plain": [
       "True"
      ]
     },
     "execution_count": 28,
     "metadata": {},
     "output_type": "execute_result"
    }
   ],
   "source": [
    "isinstance(p1, Student)"
   ]
  },
  {
   "cell_type": "code",
   "execution_count": 32,
   "id": "fa1b62f6",
   "metadata": {},
   "outputs": [],
   "source": [
    "class Participant(Student):\n",
    "    \n",
    "    \n",
    "    def participant_profile(self, contest):\n",
    "        \n",
    "        message = f\"\"\"{self.fname} is {self.age} years old student in the {self.school} school. \n",
    "{self.pronoun} has participated in the contest: {contest}.\"\"\"\n",
    "        print(message)\n",
    "        \n",
    "        \n",
    "        \n",
    "        "
   ]
  },
  {
   "cell_type": "code",
   "execution_count": 33,
   "id": "6a9d9e00",
   "metadata": {},
   "outputs": [],
   "source": [
    "p2 = Participant(\"Rahul\", \"Sharma\", \"MS\", \"He\", 20)"
   ]
  },
  {
   "cell_type": "code",
   "execution_count": 34,
   "id": "9bce961a",
   "metadata": {},
   "outputs": [
    {
     "name": "stdout",
     "output_type": "stream",
     "text": [
      "Rahul is 20 years old student in the MIT school. \n",
      "He has participated in the contest: Buildathon!.\n"
     ]
    }
   ],
   "source": [
    "p2.participant_profile(\"Buildathon!\")"
   ]
  },
  {
   "cell_type": "code",
   "execution_count": null,
   "id": "5c63f9cb",
   "metadata": {},
   "outputs": [],
   "source": []
  },
  {
   "cell_type": "code",
   "execution_count": null,
   "id": "86ff8e2e",
   "metadata": {},
   "outputs": [],
   "source": []
  },
  {
   "cell_type": "code",
   "execution_count": null,
   "id": "31639414",
   "metadata": {},
   "outputs": [],
   "source": []
  }
 ],
 "metadata": {
  "kernelspec": {
   "display_name": "Python 3",
   "language": "python",
   "name": "python3"
  },
  "language_info": {
   "codemirror_mode": {
    "name": "ipython",
    "version": 3
   },
   "file_extension": ".py",
   "mimetype": "text/x-python",
   "name": "python",
   "nbconvert_exporter": "python",
   "pygments_lexer": "ipython3",
   "version": "3.9.5"
  }
 },
 "nbformat": 4,
 "nbformat_minor": 5
}
