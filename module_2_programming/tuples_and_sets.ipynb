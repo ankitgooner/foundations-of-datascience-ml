{
 "cells": [
  {
   "cell_type": "markdown",
   "id": "15878731",
   "metadata": {},
   "source": [
    "## Learning objectives:\n",
    "\n",
    "* How to define tuples and tuples.\n",
    "* Main difference between sets, tuples and lists"
   ]
  },
  {
   "cell_type": "code",
   "execution_count": 2,
   "id": "97f1137c",
   "metadata": {},
   "outputs": [
    {
     "name": "stdout",
     "output_type": "stream",
     "text": [
      "(228, 228, 3)\n"
     ]
    }
   ],
   "source": [
    "shape = (228, 228, 3)\n",
    "print(shape)"
   ]
  },
  {
   "cell_type": "code",
   "execution_count": 5,
   "id": "085b6587",
   "metadata": {},
   "outputs": [
    {
     "ename": "IndexError",
     "evalue": "tuple index out of range",
     "output_type": "error",
     "traceback": [
      "\u001b[0;31m---------------------------------------------------------------------------\u001b[0m",
      "\u001b[0;31mIndexError\u001b[0m                                Traceback (most recent call last)",
      "\u001b[0;32m<ipython-input-5-c7a43414328a>\u001b[0m in \u001b[0;36m<module>\u001b[0;34m\u001b[0m\n\u001b[0;32m----> 1\u001b[0;31m \u001b[0mshape\u001b[0m\u001b[0;34m[\u001b[0m\u001b[0;36m3\u001b[0m\u001b[0;34m]\u001b[0m\u001b[0;34m\u001b[0m\u001b[0;34m\u001b[0m\u001b[0m\n\u001b[0m",
      "\u001b[0;31mIndexError\u001b[0m: tuple index out of range"
     ]
    }
   ],
   "source": [
    "shape[3]"
   ]
  },
  {
   "cell_type": "code",
   "execution_count": 6,
   "id": "11f0bcf3",
   "metadata": {},
   "outputs": [
    {
     "data": {
      "text/plain": [
       "(228, 3)"
      ]
     },
     "execution_count": 6,
     "metadata": {},
     "output_type": "execute_result"
    }
   ],
   "source": [
    "shape[1:]"
   ]
  },
  {
   "cell_type": "code",
   "execution_count": 7,
   "id": "5d0be5fd",
   "metadata": {},
   "outputs": [
    {
     "ename": "TypeError",
     "evalue": "'tuple' object does not support item assignment",
     "output_type": "error",
     "traceback": [
      "\u001b[0;31m---------------------------------------------------------------------------\u001b[0m",
      "\u001b[0;31mTypeError\u001b[0m                                 Traceback (most recent call last)",
      "\u001b[0;32m<ipython-input-7-044f5a1c3df7>\u001b[0m in \u001b[0;36m<module>\u001b[0;34m\u001b[0m\n\u001b[0;32m----> 1\u001b[0;31m \u001b[0mshape\u001b[0m\u001b[0;34m[\u001b[0m\u001b[0;36m1\u001b[0m\u001b[0;34m]\u001b[0m \u001b[0;34m=\u001b[0m \u001b[0;36m128\u001b[0m\u001b[0;34m\u001b[0m\u001b[0;34m\u001b[0m\u001b[0m\n\u001b[0m",
      "\u001b[0;31mTypeError\u001b[0m: 'tuple' object does not support item assignment"
     ]
    }
   ],
   "source": [
    "shape[1] = 128"
   ]
  },
  {
   "cell_type": "code",
   "execution_count": 8,
   "id": "53b5e059",
   "metadata": {},
   "outputs": [
    {
     "name": "stdout",
     "output_type": "stream",
     "text": [
      "228\n",
      "228\n",
      "3\n"
     ]
    }
   ],
   "source": [
    "## tuple iteration\n",
    "for dim in shape:\n",
    "    print(dim)"
   ]
  },
  {
   "cell_type": "code",
   "execution_count": 12,
   "id": "7a8e1945",
   "metadata": {},
   "outputs": [
    {
     "data": {
      "text/plain": [
       "0"
      ]
     },
     "execution_count": 12,
     "metadata": {},
     "output_type": "execute_result"
    }
   ],
   "source": [
    "shape.count(-1)"
   ]
  },
  {
   "cell_type": "markdown",
   "id": "c6e1e1b8",
   "metadata": {},
   "source": [
    "## Sets"
   ]
  },
  {
   "cell_type": "code",
   "execution_count": 13,
   "id": "dbcd6aa6",
   "metadata": {},
   "outputs": [
    {
     "data": {
      "text/plain": [
       "{'bag', 'book', 'kite', 'laptop'}"
      ]
     },
     "execution_count": 13,
     "metadata": {},
     "output_type": "execute_result"
    }
   ],
   "source": [
    "set1 = set(['laptop', 'bag', 'book', 'laptop', 'book', 'kite'])\n",
    "set1"
   ]
  },
  {
   "cell_type": "code",
   "execution_count": 15,
   "id": "7f4bf958",
   "metadata": {},
   "outputs": [
    {
     "name": "stdout",
     "output_type": "stream",
     "text": [
      "book\n",
      "kite\n",
      "bag\n",
      "laptop\n"
     ]
    }
   ],
   "source": [
    "for item in set1:\n",
    "    print(item)"
   ]
  },
  {
   "cell_type": "code",
   "execution_count": 16,
   "id": "e508765e",
   "metadata": {},
   "outputs": [],
   "source": [
    "set1.add(\"cake\")"
   ]
  },
  {
   "cell_type": "code",
   "execution_count": 17,
   "id": "dfd06caa",
   "metadata": {},
   "outputs": [
    {
     "data": {
      "text/plain": [
       "{'bag', 'book', 'cake', 'kite', 'laptop'}"
      ]
     },
     "execution_count": 17,
     "metadata": {},
     "output_type": "execute_result"
    }
   ],
   "source": [
    "set1"
   ]
  },
  {
   "cell_type": "code",
   "execution_count": 18,
   "id": "2eaadb8b",
   "metadata": {},
   "outputs": [
    {
     "data": {
      "text/plain": [
       "'kite'"
      ]
     },
     "execution_count": 18,
     "metadata": {},
     "output_type": "execute_result"
    }
   ],
   "source": [
    "set1.pop()"
   ]
  },
  {
   "cell_type": "code",
   "execution_count": 19,
   "id": "7f2ed512",
   "metadata": {},
   "outputs": [
    {
     "data": {
      "text/plain": [
       "{'bag', 'book', 'cake', 'laptop'}"
      ]
     },
     "execution_count": 19,
     "metadata": {},
     "output_type": "execute_result"
    }
   ],
   "source": [
    "set1"
   ]
  },
  {
   "cell_type": "markdown",
   "id": "a1ea8ba8",
   "metadata": {},
   "source": [
    "## Set operators"
   ]
  },
  {
   "cell_type": "code",
   "execution_count": 20,
   "id": "583a8802",
   "metadata": {},
   "outputs": [],
   "source": [
    "seta = set(['card', 'upi', 'paypal', 'cash'])\n",
    "setb = set(['paypal', 'revolut', 'n26'])\n"
   ]
  },
  {
   "cell_type": "code",
   "execution_count": 22,
   "id": "f71bdfc7",
   "metadata": {},
   "outputs": [],
   "source": [
    "setc = seta | setb"
   ]
  },
  {
   "cell_type": "code",
   "execution_count": 23,
   "id": "b98af0df",
   "metadata": {},
   "outputs": [
    {
     "data": {
      "text/plain": [
       "{'card', 'cash', 'n26', 'paypal', 'revolut', 'upi'}"
      ]
     },
     "execution_count": 23,
     "metadata": {},
     "output_type": "execute_result"
    }
   ],
   "source": [
    "setc"
   ]
  },
  {
   "cell_type": "code",
   "execution_count": 24,
   "id": "6f7222a3",
   "metadata": {},
   "outputs": [
    {
     "data": {
      "text/plain": [
       "{'paypal'}"
      ]
     },
     "execution_count": 24,
     "metadata": {},
     "output_type": "execute_result"
    }
   ],
   "source": [
    "seta & setb"
   ]
  },
  {
   "cell_type": "code",
   "execution_count": 25,
   "id": "488bcce1",
   "metadata": {},
   "outputs": [
    {
     "data": {
      "text/plain": [
       "{'paypal'}"
      ]
     },
     "execution_count": 25,
     "metadata": {},
     "output_type": "execute_result"
    }
   ],
   "source": [
    "seta.intersection(setb)"
   ]
  },
  {
   "cell_type": "code",
   "execution_count": 26,
   "id": "26642d94",
   "metadata": {},
   "outputs": [
    {
     "data": {
      "text/plain": [
       "{'card', 'cash', 'upi'}"
      ]
     },
     "execution_count": 26,
     "metadata": {},
     "output_type": "execute_result"
    }
   ],
   "source": [
    "seta - setb"
   ]
  },
  {
   "cell_type": "code",
   "execution_count": 27,
   "id": "9e22bd73",
   "metadata": {},
   "outputs": [
    {
     "data": {
      "text/plain": [
       "{'card', 'cash', 'n26', 'revolut', 'upi'}"
      ]
     },
     "execution_count": 27,
     "metadata": {},
     "output_type": "execute_result"
    }
   ],
   "source": [
    "seta ^ setb"
   ]
  },
  {
   "cell_type": "code",
   "execution_count": null,
   "id": "d377ebdd",
   "metadata": {},
   "outputs": [],
   "source": []
  },
  {
   "cell_type": "code",
   "execution_count": null,
   "id": "6fb01776",
   "metadata": {},
   "outputs": [],
   "source": []
  }
 ],
 "metadata": {
  "kernelspec": {
   "display_name": "Python 3",
   "language": "python",
   "name": "python3"
  },
  "language_info": {
   "codemirror_mode": {
    "name": "ipython",
    "version": 3
   },
   "file_extension": ".py",
   "mimetype": "text/x-python",
   "name": "python",
   "nbconvert_exporter": "python",
   "pygments_lexer": "ipython3",
   "version": "3.9.5"
  }
 },
 "nbformat": 4,
 "nbformat_minor": 5
}
