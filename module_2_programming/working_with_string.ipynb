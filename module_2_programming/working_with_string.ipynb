{
 "cells": [
  {
   "cell_type": "markdown",
   "id": "6795fdc5",
   "metadata": {},
   "source": [
    "## Working with strings\n",
    "\n",
    "* Important methods to use with strings.\n",
    "* How to manipulate strings.\n",
    "* Immutable in nature.\n"
   ]
  },
  {
   "cell_type": "code",
   "execution_count": 7,
   "id": "b245807a",
   "metadata": {},
   "outputs": [
    {
     "name": "stdout",
     "output_type": "stream",
     "text": [
      "hi! I am learning Python\n"
     ]
    }
   ],
   "source": [
    "message = \"hi! I am learning Python\"\n",
    "print(message)"
   ]
  },
  {
   "cell_type": "code",
   "execution_count": 2,
   "id": "52c0565c",
   "metadata": {},
   "outputs": [
    {
     "data": {
      "text/plain": [
       "str"
      ]
     },
     "execution_count": 2,
     "metadata": {},
     "output_type": "execute_result"
    }
   ],
   "source": [
    "type(message)"
   ]
  },
  {
   "cell_type": "code",
   "execution_count": 3,
   "id": "e133bd2d",
   "metadata": {},
   "outputs": [
    {
     "data": {
      "text/plain": [
       "'Hi! I Am Learning Python'"
      ]
     },
     "execution_count": 3,
     "metadata": {},
     "output_type": "execute_result"
    }
   ],
   "source": [
    "message.title()"
   ]
  },
  {
   "cell_type": "code",
   "execution_count": 4,
   "id": "4b140dd5",
   "metadata": {},
   "outputs": [
    {
     "data": {
      "text/plain": [
       "'hi! i am learning python'"
      ]
     },
     "execution_count": 4,
     "metadata": {},
     "output_type": "execute_result"
    }
   ],
   "source": [
    "##other methods for case conversion\n",
    "message.lower()"
   ]
  },
  {
   "cell_type": "code",
   "execution_count": 5,
   "id": "f468673f",
   "metadata": {},
   "outputs": [
    {
     "data": {
      "text/plain": [
       "'hi! I am learning Python'"
      ]
     },
     "execution_count": 5,
     "metadata": {},
     "output_type": "execute_result"
    }
   ],
   "source": [
    "message"
   ]
  },
  {
   "cell_type": "code",
   "execution_count": 8,
   "id": "2e443e06",
   "metadata": {},
   "outputs": [
    {
     "data": {
      "text/plain": [
       "'HI! I AM LEARNING PYTHON'"
      ]
     },
     "execution_count": 8,
     "metadata": {},
     "output_type": "execute_result"
    }
   ],
   "source": [
    "message.upper()"
   ]
  },
  {
   "cell_type": "code",
   "execution_count": 9,
   "id": "c3f05573",
   "metadata": {},
   "outputs": [
    {
     "data": {
      "text/plain": [
       "'Hi! i am learning python'"
      ]
     },
     "execution_count": 9,
     "metadata": {},
     "output_type": "execute_result"
    }
   ],
   "source": [
    "message.capitalize()"
   ]
  },
  {
   "cell_type": "markdown",
   "id": "4590f770",
   "metadata": {},
   "source": [
    "## Cleaning methods for strings"
   ]
  },
  {
   "cell_type": "code",
   "execution_count": 10,
   "id": "9c121db9",
   "metadata": {},
   "outputs": [],
   "source": [
    "col_name = \"Number of Sales  \""
   ]
  },
  {
   "cell_type": "code",
   "execution_count": 11,
   "id": "a817fea2",
   "metadata": {},
   "outputs": [
    {
     "data": {
      "text/plain": [
       "'Number of Sales'"
      ]
     },
     "execution_count": 11,
     "metadata": {},
     "output_type": "execute_result"
    }
   ],
   "source": [
    "col_name.strip()"
   ]
  },
  {
   "cell_type": "code",
   "execution_count": 12,
   "id": "3c256cf1",
   "metadata": {},
   "outputs": [
    {
     "data": {
      "text/plain": [
       "'number of sales'"
      ]
     },
     "execution_count": 12,
     "metadata": {},
     "output_type": "execute_result"
    }
   ],
   "source": [
    "col_name.strip().lower()"
   ]
  },
  {
   "cell_type": "code",
   "execution_count": 13,
   "id": "ddfeb19b",
   "metadata": {},
   "outputs": [
    {
     "data": {
      "text/plain": [
       "'Number of Sales'"
      ]
     },
     "execution_count": 13,
     "metadata": {},
     "output_type": "execute_result"
    }
   ],
   "source": [
    "col_name.rstrip()"
   ]
  },
  {
   "cell_type": "code",
   "execution_count": 14,
   "id": "86312208",
   "metadata": {},
   "outputs": [
    {
     "data": {
      "text/plain": [
       "'Number of Sales  '"
      ]
     },
     "execution_count": 14,
     "metadata": {},
     "output_type": "execute_result"
    }
   ],
   "source": [
    "col_name.lstrip()"
   ]
  },
  {
   "cell_type": "code",
   "execution_count": 15,
   "id": "f0f6bfcc",
   "metadata": {},
   "outputs": [
    {
     "data": {
      "text/plain": [
       "'hi! I am learning Python'"
      ]
     },
     "execution_count": 15,
     "metadata": {},
     "output_type": "execute_result"
    }
   ],
   "source": [
    "message"
   ]
  },
  {
   "cell_type": "code",
   "execution_count": 19,
   "id": "d1c9602c",
   "metadata": {},
   "outputs": [
    {
     "data": {
      "text/plain": [
       "'Hi, i am learning python'"
      ]
     },
     "execution_count": 19,
     "metadata": {},
     "output_type": "execute_result"
    }
   ],
   "source": [
    "new_message = message.replace(\"!\", \",\").capitalize()\n",
    "new_message"
   ]
  },
  {
   "cell_type": "code",
   "execution_count": 18,
   "id": "0b5b5d48",
   "metadata": {},
   "outputs": [
    {
     "data": {
      "text/plain": [
       "'hi! I am learning Python'"
      ]
     },
     "execution_count": 18,
     "metadata": {},
     "output_type": "execute_result"
    }
   ],
   "source": [
    "message"
   ]
  },
  {
   "cell_type": "markdown",
   "id": "d88a1166",
   "metadata": {},
   "source": [
    "## String formatting"
   ]
  },
  {
   "cell_type": "code",
   "execution_count": 30,
   "id": "d6b36b2e",
   "metadata": {},
   "outputs": [],
   "source": [
    "name = \"Eric\"\n"
   ]
  },
  {
   "cell_type": "code",
   "execution_count": 31,
   "id": "594fe444",
   "metadata": {},
   "outputs": [
    {
     "data": {
      "text/plain": [
       "'I am Eric.'"
      ]
     },
     "execution_count": 31,
     "metadata": {},
     "output_type": "execute_result"
    }
   ],
   "source": [
    "intro_msg = f\"I am {name}.\"\n",
    "intro_msg"
   ]
  },
  {
   "cell_type": "code",
   "execution_count": 32,
   "id": "ab11547e",
   "metadata": {},
   "outputs": [],
   "source": [
    "name = \"Mak\"\n",
    "ft = 5\n",
    "inches = 11\n",
    "\n",
    "msg = f\"I am {name} and I am {ft} ft and {inches} inches tall!\""
   ]
  },
  {
   "cell_type": "code",
   "execution_count": 33,
   "id": "a67d0955",
   "metadata": {
    "scrolled": true
   },
   "outputs": [
    {
     "name": "stdout",
     "output_type": "stream",
     "text": [
      "I am Mak and I am 5 ft and 11 inches tall!\n"
     ]
    }
   ],
   "source": [
    "print(msg)"
   ]
  },
  {
   "cell_type": "code",
   "execution_count": 35,
   "id": "c0473a1e",
   "metadata": {},
   "outputs": [
    {
     "name": "stdout",
     "output_type": "stream",
     "text": [
      "My name is Mak. I am 5 ft and 11 inches tall.\n"
     ]
    }
   ],
   "source": [
    "##c-style formatting\n",
    "\n",
    "print(\"My name is %s. I am %d ft and %d inches tall.\" %(name, ft, inches))\n"
   ]
  },
  {
   "cell_type": "code",
   "execution_count": 36,
   "id": "112a5d07",
   "metadata": {},
   "outputs": [
    {
     "data": {
      "text/plain": [
       "'I am MAK and I am 5 ft and 11 inches tall!'"
      ]
     },
     "execution_count": 36,
     "metadata": {},
     "output_type": "execute_result"
    }
   ],
   "source": [
    "msg = f\"I am {name.upper()} and I am {ft} ft and {inches} inches tall!\"\n",
    "msg"
   ]
  },
  {
   "cell_type": "markdown",
   "id": "3830c90d",
   "metadata": {},
   "source": [
    "## Add new line, tab and quotes to a string"
   ]
  },
  {
   "cell_type": "code",
   "execution_count": 38,
   "id": "fe0306ec",
   "metadata": {},
   "outputs": [
    {
     "data": {
      "text/plain": [
       "'We are going to cover Python Math and Statistics'"
      ]
     },
     "execution_count": 38,
     "metadata": {},
     "output_type": "execute_result"
    }
   ],
   "source": [
    "message = \"We are going to cover Python Math and Statistics\"\n",
    "message"
   ]
  },
  {
   "cell_type": "code",
   "execution_count": 40,
   "id": "9118e137",
   "metadata": {},
   "outputs": [
    {
     "name": "stdout",
     "output_type": "stream",
     "text": [
      "We are going to cover \n",
      "Python \n",
      "Math and \n",
      "Statistics\n"
     ]
    }
   ],
   "source": [
    "message = \"We are going to cover \\nPython \\nMath and \\nStatistics\"\n",
    "print(message)"
   ]
  },
  {
   "cell_type": "code",
   "execution_count": 45,
   "id": "f6b373fb",
   "metadata": {},
   "outputs": [
    {
     "name": "stdout",
     "output_type": "stream",
     "text": [
      "We are going to cover \n",
      "\t1.Python \n",
      "\t2.Math and \n",
      "\t3.Statistics\n"
     ]
    }
   ],
   "source": [
    "message = \"We are going to cover \\n\\t1.Python \\n\\t2.Math and \\n\\t3.Statistics\"\n",
    "print(message)"
   ]
  },
  {
   "cell_type": "code",
   "execution_count": 52,
   "id": "7e9e874e",
   "metadata": {},
   "outputs": [
    {
     "name": "stdout",
     "output_type": "stream",
     "text": [
      "Albert Einstein: \"Imagination is more important than knowledge.\"\n"
     ]
    }
   ],
   "source": [
    "name = \"Albert Einstein\"\n",
    "quote = \"Imagination is more important than knowledge.\"\n",
    "print(f\"{name}: \\\"{quote}\\\"\")"
   ]
  },
  {
   "cell_type": "code",
   "execution_count": null,
   "id": "68832b21",
   "metadata": {},
   "outputs": [],
   "source": []
  }
 ],
 "metadata": {
  "kernelspec": {
   "display_name": "Python 3",
   "language": "python",
   "name": "python3"
  },
  "language_info": {
   "codemirror_mode": {
    "name": "ipython",
    "version": 3
   },
   "file_extension": ".py",
   "mimetype": "text/x-python",
   "name": "python",
   "nbconvert_exporter": "python",
   "pygments_lexer": "ipython3",
   "version": "3.9.5"
  }
 },
 "nbformat": 4,
 "nbformat_minor": 5
}
