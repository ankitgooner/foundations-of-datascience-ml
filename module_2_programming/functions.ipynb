{
 "cells": [
  {
   "cell_type": "markdown",
   "id": "e19e8af9",
   "metadata": {},
   "source": [
    "## Learning Objectives:\n",
    "\n",
    "* How to define your own function\n",
    "* What are the different ways of calling a function\n",
    "* How to pass information to functions"
   ]
  },
  {
   "cell_type": "code",
   "execution_count": 1,
   "id": "814d57fe",
   "metadata": {},
   "outputs": [],
   "source": [
    "def display_thanks_message():\n",
    "    \"\"\"\n",
    "    Displays the thank you message.\n",
    "    \"\"\"\n",
    "    message = \"Thank you for ordering from our website. See you soon!\"\n",
    "    print(message)"
   ]
  },
  {
   "cell_type": "code",
   "execution_count": 2,
   "id": "2cb14ace",
   "metadata": {},
   "outputs": [
    {
     "name": "stdout",
     "output_type": "stream",
     "text": [
      "Thank you for ordering from our website. See you soon!\n"
     ]
    }
   ],
   "source": [
    "display_thanks_message()"
   ]
  },
  {
   "cell_type": "code",
   "execution_count": 3,
   "id": "952a0081",
   "metadata": {},
   "outputs": [
    {
     "name": "stdout",
     "output_type": "stream",
     "text": [
      "Thank you for ordering from our website. See you soon!\n",
      "Thank you for ordering from our website. See you soon!\n",
      "Thank you for ordering from our website. See you soon!\n"
     ]
    }
   ],
   "source": [
    "display_thanks_message()\n",
    "display_thanks_message()\n",
    "display_thanks_message()"
   ]
  },
  {
   "cell_type": "code",
   "execution_count": 7,
   "id": "6c87254d",
   "metadata": {},
   "outputs": [],
   "source": [
    "def display_thanks_message(name):\n",
    "    \"\"\"\n",
    "    Displays the thank you message.\n",
    "    \"\"\"\n",
    "    message = f\"Thanks {name} for ordering from our website. See you soon!\"\n",
    "    print(message)"
   ]
  },
  {
   "cell_type": "code",
   "execution_count": 10,
   "id": "b87cc197",
   "metadata": {},
   "outputs": [
    {
     "name": "stdout",
     "output_type": "stream",
     "text": [
      "Thanks Kelly for ordering from our website. See you soon!\n"
     ]
    }
   ],
   "source": [
    "display_thanks_message(\"Kelly\")"
   ]
  },
  {
   "cell_type": "code",
   "execution_count": 11,
   "id": "a31a5c78",
   "metadata": {},
   "outputs": [],
   "source": [
    "def fahr_to_celsius(temp):\n",
    "    \"\"\"\n",
    "    This function converts temperature from fahrenheit\n",
    "    to celsius\n",
    "    Args - temp in fahr\n",
    "    Returns - temp in celsius\n",
    "    \"\"\"\n",
    "    temp_in_cel = (temp - 32) * 5/9\n",
    "    return temp_in_cel"
   ]
  },
  {
   "cell_type": "code",
   "execution_count": 12,
   "id": "9bea51eb",
   "metadata": {},
   "outputs": [
    {
     "data": {
      "text/plain": [
       "7.222222222222222"
      ]
     },
     "execution_count": 12,
     "metadata": {},
     "output_type": "execute_result"
    }
   ],
   "source": [
    "fahr_to_celsius(45)"
   ]
  },
  {
   "cell_type": "markdown",
   "id": "846eeaa9",
   "metadata": {},
   "source": [
    "## Functions with more than one args"
   ]
  },
  {
   "cell_type": "code",
   "execution_count": 17,
   "id": "5b109006",
   "metadata": {},
   "outputs": [],
   "source": [
    "def calculate_cart_value(prod_price_dict, tax, discount):\n",
    "    \"\"\"\n",
    "    Calculate the total cart value.\n",
    "    \"\"\"\n",
    "    total = 0\n",
    "    for prod, price in prod_price_dict.items():\n",
    "        total += price + ((price * tax) / 100) - ((price * discount) / 100)\n",
    "        \n",
    "    return total\n",
    "    "
   ]
  },
  {
   "cell_type": "code",
   "execution_count": 18,
   "id": "b89cb4da",
   "metadata": {},
   "outputs": [
    {
     "data": {
      "text/plain": [
       "1711.8"
      ]
     },
     "execution_count": 18,
     "metadata": {},
     "output_type": "execute_result"
    }
   ],
   "source": [
    "prod_items = {'laptop': 1500, 'bag': 50, 'book': 35}\n",
    "discount = 10\n",
    "tax = 18\n",
    "\n",
    "calculate_cart_value(prod_price_dict=prod_items, tax=tax, discount=discount)"
   ]
  },
  {
   "cell_type": "code",
   "execution_count": 19,
   "id": "508c82e9",
   "metadata": {},
   "outputs": [
    {
     "ename": "TypeError",
     "evalue": "calculate_cart_value() missing 2 required positional arguments: 'tax' and 'discount'",
     "output_type": "error",
     "traceback": [
      "\u001b[0;31m---------------------------------------------------------------------------\u001b[0m",
      "\u001b[0;31mTypeError\u001b[0m                                 Traceback (most recent call last)",
      "\u001b[0;32m<ipython-input-19-7a659204fffe>\u001b[0m in \u001b[0;36m<module>\u001b[0;34m\u001b[0m\n\u001b[0;32m----> 1\u001b[0;31m \u001b[0mcalculate_cart_value\u001b[0m\u001b[0;34m(\u001b[0m\u001b[0mprod_price_dict\u001b[0m\u001b[0;34m=\u001b[0m\u001b[0mprod_items\u001b[0m\u001b[0;34m)\u001b[0m\u001b[0;34m\u001b[0m\u001b[0;34m\u001b[0m\u001b[0m\n\u001b[0m",
      "\u001b[0;31mTypeError\u001b[0m: calculate_cart_value() missing 2 required positional arguments: 'tax' and 'discount'"
     ]
    }
   ],
   "source": [
    "calculate_cart_value(prod_price_dict=prod_items)"
   ]
  },
  {
   "cell_type": "markdown",
   "id": "45bb5f3a",
   "metadata": {},
   "source": [
    "## Functions with default arg value"
   ]
  },
  {
   "cell_type": "code",
   "execution_count": 21,
   "id": "1df47e7d",
   "metadata": {},
   "outputs": [],
   "source": [
    "def calculate_cart_value_default(prod_price_dict, tax=18, discount=10):\n",
    "    \"\"\"\n",
    "    Calculate the total cart value.\n",
    "    \"\"\"\n",
    "    total = 0\n",
    "    for prod, price in prod_price_dict.items():\n",
    "        total += price + ((price * tax) / 100) - ((price * discount) / 100)\n",
    "        \n",
    "    return total\n",
    "    "
   ]
  },
  {
   "cell_type": "code",
   "execution_count": 23,
   "id": "fc721621",
   "metadata": {},
   "outputs": [
    {
     "data": {
      "text/plain": [
       "1664.25"
      ]
     },
     "execution_count": 23,
     "metadata": {},
     "output_type": "execute_result"
    }
   ],
   "source": [
    "calculate_cart_value_default(prod_price_dict=prod_items, tax=15)"
   ]
  },
  {
   "cell_type": "code",
   "execution_count": null,
   "id": "7ab8feeb",
   "metadata": {},
   "outputs": [],
   "source": []
  },
  {
   "cell_type": "code",
   "execution_count": null,
   "id": "1a3e1eea",
   "metadata": {},
   "outputs": [],
   "source": []
  }
 ],
 "metadata": {
  "kernelspec": {
   "display_name": "Python 3",
   "language": "python",
   "name": "python3"
  },
  "language_info": {
   "codemirror_mode": {
    "name": "ipython",
    "version": 3
   },
   "file_extension": ".py",
   "mimetype": "text/x-python",
   "name": "python",
   "nbconvert_exporter": "python",
   "pygments_lexer": "ipython3",
   "version": "3.9.5"
  }
 },
 "nbformat": 4,
 "nbformat_minor": 5
}
