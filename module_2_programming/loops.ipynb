{
 "cells": [
  {
   "cell_type": "markdown",
   "id": "7f907663",
   "metadata": {},
   "source": [
    "## Learning objectives\n",
    "\n",
    "* What is a range function?\n",
    "* How to write for loops?\n",
    "* How to loop through an entire list using a few lines of code?\n",
    "* Performing operations over each element of a list.\n",
    "* Creating a new list using the range function."
   ]
  },
  {
   "cell_type": "code",
   "execution_count": 1,
   "id": "95ebf7ff",
   "metadata": {},
   "outputs": [
    {
     "name": "stdout",
     "output_type": "stream",
     "text": [
      "0\n",
      "1\n",
      "2\n",
      "3\n",
      "4\n",
      "5\n",
      "6\n",
      "7\n",
      "8\n",
      "9\n"
     ]
    }
   ],
   "source": [
    "##starting with a while loop\n",
    "\n",
    "i = 0\n",
    "while i < 10:\n",
    "    print(i)\n",
    "    i = i + 1  # += is same as i = i + 1\n"
   ]
  },
  {
   "cell_type": "code",
   "execution_count": 2,
   "id": "bc59bc4d",
   "metadata": {},
   "outputs": [
    {
     "name": "stdout",
     "output_type": "stream",
     "text": [
      "19\n",
      "38\n",
      "57\n",
      "76\n",
      "95\n",
      "114\n",
      "133\n",
      "152\n",
      "171\n",
      "190\n"
     ]
    }
   ],
   "source": [
    "i = 1\n",
    "\n",
    "while i <= 10:\n",
    "    print(19 * i)\n",
    "    i += 1"
   ]
  },
  {
   "cell_type": "markdown",
   "id": "7889e32b",
   "metadata": {},
   "source": [
    "## For loops\n"
   ]
  },
  {
   "cell_type": "code",
   "execution_count": 3,
   "id": "544dd835",
   "metadata": {},
   "outputs": [
    {
     "data": {
      "text/plain": [
       "range(1, 50, 2)"
      ]
     },
     "execution_count": 3,
     "metadata": {},
     "output_type": "execute_result"
    }
   ],
   "source": [
    "range(1, 50, 2)"
   ]
  },
  {
   "cell_type": "code",
   "execution_count": 4,
   "id": "9ccffc0c",
   "metadata": {},
   "outputs": [
    {
     "name": "stdout",
     "output_type": "stream",
     "text": [
      "1\n",
      "9\n",
      "25\n",
      "49\n",
      "81\n",
      "121\n",
      "169\n",
      "225\n",
      "289\n",
      "361\n",
      "441\n",
      "529\n",
      "625\n",
      "729\n",
      "841\n",
      "961\n",
      "1089\n",
      "1225\n",
      "1369\n",
      "1521\n",
      "1681\n",
      "1849\n",
      "2025\n",
      "2209\n",
      "2401\n"
     ]
    }
   ],
   "source": [
    "for i in range(1, 50, 2):\n",
    "    ans = i ** 2\n",
    "    print(ans)"
   ]
  },
  {
   "cell_type": "code",
   "execution_count": 5,
   "id": "f1ea896f",
   "metadata": {},
   "outputs": [
    {
     "name": "stdout",
     "output_type": "stream",
     "text": [
      "0\n",
      "1\n",
      "2\n",
      "3\n",
      "4\n",
      "5\n",
      "6\n",
      "7\n",
      "8\n",
      "9\n",
      "10\n"
     ]
    }
   ],
   "source": [
    "for i in range(11):\n",
    "    print(i)"
   ]
  },
  {
   "cell_type": "code",
   "execution_count": 6,
   "id": "633b40ab",
   "metadata": {},
   "outputs": [],
   "source": [
    "new_list = []\n",
    "\n",
    "for price in range(100, 1200, 50):\n",
    "    new_list.append(price)\n"
   ]
  },
  {
   "cell_type": "code",
   "execution_count": 7,
   "id": "02299054",
   "metadata": {},
   "outputs": [
    {
     "name": "stdout",
     "output_type": "stream",
     "text": [
      "[100, 150, 200, 250, 300, 350, 400, 450, 500, 550, 600, 650, 700, 750, 800, 850, 900, 950, 1000, 1050, 1100, 1150]\n"
     ]
    }
   ],
   "source": [
    "print(new_list)"
   ]
  },
  {
   "cell_type": "code",
   "execution_count": 8,
   "id": "5b06bd5e",
   "metadata": {},
   "outputs": [],
   "source": [
    "new_prices = []\n",
    "\n",
    "for price in new_list:\n",
    "    updated_price = price * 0.5\n",
    "    new_prices.append(updated_price)"
   ]
  },
  {
   "cell_type": "code",
   "execution_count": 9,
   "id": "a2c16ce1",
   "metadata": {},
   "outputs": [
    {
     "data": {
      "text/plain": [
       "[50.0,\n",
       " 75.0,\n",
       " 100.0,\n",
       " 125.0,\n",
       " 150.0,\n",
       " 175.0,\n",
       " 200.0,\n",
       " 225.0,\n",
       " 250.0,\n",
       " 275.0,\n",
       " 300.0,\n",
       " 325.0,\n",
       " 350.0,\n",
       " 375.0,\n",
       " 400.0,\n",
       " 425.0,\n",
       " 450.0,\n",
       " 475.0,\n",
       " 500.0,\n",
       " 525.0,\n",
       " 550.0,\n",
       " 575.0]"
      ]
     },
     "execution_count": 9,
     "metadata": {},
     "output_type": "execute_result"
    }
   ],
   "source": [
    "new_prices"
   ]
  },
  {
   "cell_type": "code",
   "execution_count": 10,
   "id": "1172e7e8",
   "metadata": {},
   "outputs": [
    {
     "data": {
      "text/plain": [
       "[100,\n",
       " 150,\n",
       " 200,\n",
       " 250,\n",
       " 300,\n",
       " 350,\n",
       " 400,\n",
       " 450,\n",
       " 500,\n",
       " 550,\n",
       " 600,\n",
       " 650,\n",
       " 700,\n",
       " 750,\n",
       " 800,\n",
       " 850,\n",
       " 900,\n",
       " 950,\n",
       " 1000,\n",
       " 1050,\n",
       " 1100,\n",
       " 1150]"
      ]
     },
     "execution_count": 10,
     "metadata": {},
     "output_type": "execute_result"
    }
   ],
   "source": [
    "new_list"
   ]
  },
  {
   "cell_type": "code",
   "execution_count": null,
   "id": "85782856",
   "metadata": {},
   "outputs": [],
   "source": []
  }
 ],
 "metadata": {
  "kernelspec": {
   "display_name": "Python 3",
   "language": "python",
   "name": "python3"
  },
  "language_info": {
   "codemirror_mode": {
    "name": "ipython",
    "version": 3
   },
   "file_extension": ".py",
   "mimetype": "text/x-python",
   "name": "python",
   "nbconvert_exporter": "python",
   "pygments_lexer": "ipython3",
   "version": "3.9.5"
  }
 },
 "nbformat": 4,
 "nbformat_minor": 5
}
