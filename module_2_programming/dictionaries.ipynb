{
 "cells": [
  {
   "cell_type": "markdown",
   "id": "7230bd53",
   "metadata": {},
   "source": [
    "## Learning objectives\n",
    "\n",
    "* How to define dictionaries?\n",
    "* Accessing values from a dictionary.\n",
    "* Adding a new key to a dictionary."
   ]
  },
  {
   "cell_type": "code",
   "execution_count": 1,
   "id": "ce368b81",
   "metadata": {},
   "outputs": [
    {
     "name": "stdout",
     "output_type": "stream",
     "text": [
      "{'laptop': 1500}\n"
     ]
    }
   ],
   "source": [
    "cart = {'laptop': 1500}\n",
    "print(cart)"
   ]
  },
  {
   "cell_type": "code",
   "execution_count": 2,
   "id": "d20c7295",
   "metadata": {},
   "outputs": [],
   "source": [
    "cart = {'laptop': 1500, \n",
    "        'car': 35000, \n",
    "        'pen': 2, \n",
    "        'bag': 50\n",
    "       }"
   ]
  },
  {
   "cell_type": "code",
   "execution_count": 3,
   "id": "d41c27ab",
   "metadata": {},
   "outputs": [
    {
     "data": {
      "text/plain": [
       "{'laptop': 1500, 'car': 35000, 'pen': 2, 'bag': 50}"
      ]
     },
     "execution_count": 3,
     "metadata": {},
     "output_type": "execute_result"
    }
   ],
   "source": [
    "cart"
   ]
  },
  {
   "cell_type": "code",
   "execution_count": 4,
   "id": "fe35686e",
   "metadata": {},
   "outputs": [
    {
     "data": {
      "text/plain": [
       "50"
      ]
     },
     "execution_count": 4,
     "metadata": {},
     "output_type": "execute_result"
    }
   ],
   "source": [
    "cart['bag']"
   ]
  },
  {
   "cell_type": "code",
   "execution_count": 5,
   "id": "24484d17",
   "metadata": {},
   "outputs": [
    {
     "data": {
      "text/plain": [
       "1500"
      ]
     },
     "execution_count": 5,
     "metadata": {},
     "output_type": "execute_result"
    }
   ],
   "source": [
    "cart['laptop']"
   ]
  },
  {
   "cell_type": "code",
   "execution_count": 6,
   "id": "377ab55a",
   "metadata": {},
   "outputs": [
    {
     "ename": "KeyError",
     "evalue": "'book'",
     "output_type": "error",
     "traceback": [
      "\u001b[0;31m---------------------------------------------------------------------------\u001b[0m",
      "\u001b[0;31mKeyError\u001b[0m                                  Traceback (most recent call last)",
      "\u001b[0;32m<ipython-input-6-70c3274808af>\u001b[0m in \u001b[0;36m<module>\u001b[0;34m\u001b[0m\n\u001b[0;32m----> 1\u001b[0;31m \u001b[0mcart\u001b[0m\u001b[0;34m[\u001b[0m\u001b[0;34m'book'\u001b[0m\u001b[0;34m]\u001b[0m\u001b[0;34m\u001b[0m\u001b[0;34m\u001b[0m\u001b[0m\n\u001b[0m",
      "\u001b[0;31mKeyError\u001b[0m: 'book'"
     ]
    }
   ],
   "source": [
    "cart['book']"
   ]
  },
  {
   "cell_type": "code",
   "execution_count": 8,
   "id": "5f71897a",
   "metadata": {},
   "outputs": [
    {
     "name": "stdout",
     "output_type": "stream",
     "text": [
      "None\n"
     ]
    }
   ],
   "source": [
    "print(cart.get('book'))"
   ]
  },
  {
   "cell_type": "code",
   "execution_count": 9,
   "id": "0f01022d",
   "metadata": {},
   "outputs": [
    {
     "data": {
      "text/plain": [
       "NoneType"
      ]
     },
     "execution_count": 9,
     "metadata": {},
     "output_type": "execute_result"
    }
   ],
   "source": [
    "type(None)"
   ]
  },
  {
   "cell_type": "code",
   "execution_count": 10,
   "id": "649d6596",
   "metadata": {},
   "outputs": [],
   "source": [
    "cart['book'] = 55"
   ]
  },
  {
   "cell_type": "code",
   "execution_count": 11,
   "id": "2370855d",
   "metadata": {},
   "outputs": [
    {
     "data": {
      "text/plain": [
       "{'laptop': 1500, 'car': 35000, 'pen': 2, 'bag': 50, 'book': 55}"
      ]
     },
     "execution_count": 11,
     "metadata": {},
     "output_type": "execute_result"
    }
   ],
   "source": [
    "cart"
   ]
  },
  {
   "cell_type": "code",
   "execution_count": 12,
   "id": "d8f25802",
   "metadata": {},
   "outputs": [],
   "source": [
    "bank_loan = {}\n",
    "bank_loan['age'] = 25\n",
    "bank_loan['score'] = 750\n",
    "bank_loan['email'] = 'mak@gmail.com'\n"
   ]
  },
  {
   "cell_type": "code",
   "execution_count": 13,
   "id": "f0ef66c4",
   "metadata": {},
   "outputs": [
    {
     "data": {
      "text/plain": [
       "{'age': 25, 'score': 750, 'email': 'mak@gmail.com'}"
      ]
     },
     "execution_count": 13,
     "metadata": {},
     "output_type": "execute_result"
    }
   ],
   "source": [
    "bank_loan"
   ]
  },
  {
   "cell_type": "code",
   "execution_count": 14,
   "id": "02c0897d",
   "metadata": {},
   "outputs": [
    {
     "name": "stdout",
     "output_type": "stream",
     "text": [
      "Mak(mak@gmail.com) is 25 years old and his score is 750\n"
     ]
    }
   ],
   "source": [
    "print(f\"Mak({bank_loan['email']}) is {bank_loan['age']} years old and his score is {bank_loan['score']}\")"
   ]
  },
  {
   "cell_type": "markdown",
   "id": "3bc4121e",
   "metadata": {},
   "source": [
    "## Iterating over a dictionary"
   ]
  },
  {
   "cell_type": "code",
   "execution_count": 15,
   "id": "3bb9ba0e",
   "metadata": {},
   "outputs": [
    {
     "data": {
      "text/plain": [
       "{'laptop': 1500, 'car': 35000, 'pen': 2, 'bag': 50, 'book': 55}"
      ]
     },
     "execution_count": 15,
     "metadata": {},
     "output_type": "execute_result"
    }
   ],
   "source": [
    "cart"
   ]
  },
  {
   "cell_type": "code",
   "execution_count": 18,
   "id": "5c96c412",
   "metadata": {},
   "outputs": [
    {
     "name": "stdout",
     "output_type": "stream",
     "text": [
      "Laptop costs USD 1500\n",
      "Car costs USD 35000\n",
      "Pen costs USD 2\n",
      "Bag costs USD 50\n",
      "Book costs USD 55\n"
     ]
    }
   ],
   "source": [
    "for key, value in cart.items():\n",
    "    print(f\"{key.capitalize()} costs USD {value}\")"
   ]
  },
  {
   "cell_type": "code",
   "execution_count": 19,
   "id": "ad1f90cb",
   "metadata": {},
   "outputs": [
    {
     "name": "stdout",
     "output_type": "stream",
     "text": [
      "laptop\n",
      "car\n",
      "pen\n",
      "bag\n",
      "book\n"
     ]
    }
   ],
   "source": [
    "for k in cart.keys():\n",
    "    print(k)"
   ]
  },
  {
   "cell_type": "code",
   "execution_count": 20,
   "id": "7b169f01",
   "metadata": {},
   "outputs": [
    {
     "name": "stdout",
     "output_type": "stream",
     "text": [
      "1500\n",
      "35000\n",
      "2\n",
      "50\n",
      "55\n"
     ]
    }
   ],
   "source": [
    "for v in cart.values():\n",
    "    print(v)"
   ]
  },
  {
   "cell_type": "markdown",
   "id": "a82d26a1",
   "metadata": {},
   "source": [
    "## Deleting a key value pair from a dictionary"
   ]
  },
  {
   "cell_type": "code",
   "execution_count": 21,
   "id": "61ca742b",
   "metadata": {},
   "outputs": [
    {
     "data": {
      "text/plain": [
       "{'laptop': 1500, 'car': 35000, 'pen': 2, 'bag': 50, 'book': 55}"
      ]
     },
     "execution_count": 21,
     "metadata": {},
     "output_type": "execute_result"
    }
   ],
   "source": [
    "cart"
   ]
  },
  {
   "cell_type": "code",
   "execution_count": 22,
   "id": "f81da5eb",
   "metadata": {},
   "outputs": [
    {
     "data": {
      "text/plain": [
       "{'laptop': 1500, 'car': 35000, 'pen': 2, 'book': 55}"
      ]
     },
     "execution_count": 22,
     "metadata": {},
     "output_type": "execute_result"
    }
   ],
   "source": [
    "del cart['bag']\n",
    "cart"
   ]
  },
  {
   "cell_type": "markdown",
   "id": "79113607",
   "metadata": {},
   "source": [
    "## Write a small program to print the scores of students"
   ]
  },
  {
   "cell_type": "code",
   "execution_count": 25,
   "id": "f0784d78",
   "metadata": {},
   "outputs": [],
   "source": [
    "dict_list = []\n",
    "\n",
    "for i in range(10):\n",
    "    dict_list.append({\"Math\": (i+1) * 10, \"Science\": (i+1)*12, \"Psychology\": (i+1) * 11})\n"
   ]
  },
  {
   "cell_type": "code",
   "execution_count": 26,
   "id": "146fee3d",
   "metadata": {},
   "outputs": [
    {
     "name": "stdout",
     "output_type": "stream",
     "text": [
      "[{'Math': 10, 'Science': 12, 'Psychology': 11}, {'Math': 20, 'Science': 24, 'Psychology': 22}, {'Math': 30, 'Science': 36, 'Psychology': 33}, {'Math': 40, 'Science': 48, 'Psychology': 44}, {'Math': 50, 'Science': 60, 'Psychology': 55}, {'Math': 60, 'Science': 72, 'Psychology': 66}, {'Math': 70, 'Science': 84, 'Psychology': 77}, {'Math': 80, 'Science': 96, 'Psychology': 88}, {'Math': 90, 'Science': 108, 'Psychology': 99}, {'Math': 100, 'Science': 120, 'Psychology': 110}]\n"
     ]
    }
   ],
   "source": [
    "print(dict_list)"
   ]
  },
  {
   "cell_type": "code",
   "execution_count": 28,
   "id": "18d198cc",
   "metadata": {},
   "outputs": [
    {
     "name": "stdout",
     "output_type": "stream",
     "text": [
      "=========================\n",
      "Student 0:- \n",
      "\n",
      "Math: 10\n",
      "\n",
      "Science: 12\n",
      "\n",
      "Psychology: 11\n",
      "\n",
      "=========================\n",
      "Student 1:- \n",
      "\n",
      "Math: 20\n",
      "\n",
      "Science: 24\n",
      "\n",
      "Psychology: 22\n",
      "\n",
      "=========================\n",
      "Student 2:- \n",
      "\n",
      "Math: 30\n",
      "\n",
      "Science: 36\n",
      "\n",
      "Psychology: 33\n",
      "\n",
      "=========================\n",
      "Student 3:- \n",
      "\n",
      "Math: 40\n",
      "\n",
      "Science: 48\n",
      "\n",
      "Psychology: 44\n",
      "\n",
      "=========================\n",
      "Student 4:- \n",
      "\n",
      "Math: 50\n",
      "\n",
      "Science: 60\n",
      "\n",
      "Psychology: 55\n",
      "\n",
      "=========================\n",
      "Student 5:- \n",
      "\n",
      "Math: 60\n",
      "\n",
      "Science: 72\n",
      "\n",
      "Psychology: 66\n",
      "\n",
      "=========================\n",
      "Student 6:- \n",
      "\n",
      "Math: 70\n",
      "\n",
      "Science: 84\n",
      "\n",
      "Psychology: 77\n",
      "\n",
      "=========================\n",
      "Student 7:- \n",
      "\n",
      "Math: 80\n",
      "\n",
      "Science: 96\n",
      "\n",
      "Psychology: 88\n",
      "\n",
      "=========================\n",
      "Student 8:- \n",
      "\n",
      "Math: 90\n",
      "\n",
      "Science: 108\n",
      "\n",
      "Psychology: 99\n",
      "\n",
      "=========================\n",
      "Student 9:- \n",
      "\n",
      "Math: 100\n",
      "\n",
      "Science: 120\n",
      "\n",
      "Psychology: 110\n",
      "\n"
     ]
    }
   ],
   "source": [
    "for i in range(len(dict_list)):\n",
    "    print(\"=========================\")\n",
    "    print(f\"Student {i}:- \\n\")\n",
    "    for key, value in dict_list[i].items():\n",
    "        print(f\"{key.capitalize()}: {value}\\n\")"
   ]
  },
  {
   "cell_type": "code",
   "execution_count": 29,
   "id": "303a3513",
   "metadata": {},
   "outputs": [
    {
     "data": {
      "text/plain": [
       "{'name': ['p1', 'p2', 'p3', 'p4'],\n",
       " 'score_1': [10, 20, 30, 40],\n",
       " 'score_2': [11, 12, 13, 14],\n",
       " 'score_3': [21, 22, 24, 26]}"
      ]
     },
     "execution_count": 29,
     "metadata": {},
     "output_type": "execute_result"
    }
   ],
   "source": [
    "## dictionary with a list of values\n",
    "scores = {\"name\": ['p1', \"p2\", \"p3\", \"p4\"],\n",
    "          \"score_1\": [10, 20, 30, 40],\n",
    "          \"score_2\": [11, 12, 13, 14],\n",
    "          \"score_3\": [21, 22, 24, 26],\n",
    "         }\n",
    "\n",
    "scores"
   ]
  },
  {
   "cell_type": "code",
   "execution_count": null,
   "id": "e38769f3",
   "metadata": {},
   "outputs": [],
   "source": []
  },
  {
   "cell_type": "code",
   "execution_count": null,
   "id": "2b4d0bb8",
   "metadata": {},
   "outputs": [],
   "source": []
  },
  {
   "cell_type": "code",
   "execution_count": null,
   "id": "c39fb06d",
   "metadata": {},
   "outputs": [],
   "source": []
  },
  {
   "cell_type": "code",
   "execution_count": null,
   "id": "e07d582c",
   "metadata": {},
   "outputs": [],
   "source": []
  }
 ],
 "metadata": {
  "kernelspec": {
   "display_name": "Python 3",
   "language": "python",
   "name": "python3"
  },
  "language_info": {
   "codemirror_mode": {
    "name": "ipython",
    "version": 3
   },
   "file_extension": ".py",
   "mimetype": "text/x-python",
   "name": "python",
   "nbconvert_exporter": "python",
   "pygments_lexer": "ipython3",
   "version": "3.9.5"
  }
 },
 "nbformat": 4,
 "nbformat_minor": 5
}
