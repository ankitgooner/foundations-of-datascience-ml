{
 "cells": [
  {
   "cell_type": "markdown",
   "id": "84800b12",
   "metadata": {},
   "source": [
    "## Learning objectives:\n",
    "\n",
    "* A new method of creating lists and dictionaries"
   ]
  },
  {
   "cell_type": "code",
   "execution_count": 1,
   "id": "ce365cab",
   "metadata": {},
   "outputs": [],
   "source": [
    "alist = []\n",
    "\n",
    "for i in range(1, 11):\n",
    "    alist.append(i)\n"
   ]
  },
  {
   "cell_type": "code",
   "execution_count": 2,
   "id": "5d72e18e",
   "metadata": {},
   "outputs": [
    {
     "data": {
      "text/plain": [
       "[1, 2, 3, 4, 5, 6, 7, 8, 9, 10]"
      ]
     },
     "execution_count": 2,
     "metadata": {},
     "output_type": "execute_result"
    }
   ],
   "source": [
    "alist"
   ]
  },
  {
   "cell_type": "code",
   "execution_count": 3,
   "id": "dcdf2ee3",
   "metadata": {},
   "outputs": [
    {
     "data": {
      "text/plain": [
       "[1, 2, 3, 4, 5, 6, 7, 8, 9, 10]"
      ]
     },
     "execution_count": 3,
     "metadata": {},
     "output_type": "execute_result"
    }
   ],
   "source": [
    "[i for i in range(1, 11)]"
   ]
  },
  {
   "cell_type": "code",
   "execution_count": 5,
   "id": "f3f78c3c",
   "metadata": {},
   "outputs": [
    {
     "data": {
      "text/plain": [
       "[1, 8, 27, 64, 125, 216, 343, 512, 729, 1000]"
      ]
     },
     "execution_count": 5,
     "metadata": {},
     "output_type": "execute_result"
    }
   ],
   "source": [
    "[i**3 for i in range(1, 11)]"
   ]
  },
  {
   "cell_type": "code",
   "execution_count": 6,
   "id": "e17b38a6",
   "metadata": {},
   "outputs": [
    {
     "data": {
      "text/plain": [
       "[10, 9, 8, 7, 6, 5, 4, 3, 2, 1, 0, 1, 2, 3, 4, 5, 6, 7, 8, 9]"
      ]
     },
     "execution_count": 6,
     "metadata": {},
     "output_type": "execute_result"
    }
   ],
   "source": [
    "abs_values = [ abs(val) for val in range(-10, 10)]\n",
    "abs_values"
   ]
  },
  {
   "cell_type": "markdown",
   "id": "c3dc10bd",
   "metadata": {},
   "source": [
    "## Dictionary comprehension"
   ]
  },
  {
   "cell_type": "code",
   "execution_count": 7,
   "id": "3939b45e",
   "metadata": {},
   "outputs": [
    {
     "data": {
      "text/plain": [
       "{10: 100,\n",
       " 15: 225,\n",
       " 20: 400,\n",
       " 25: 625,\n",
       " 30: 900,\n",
       " 35: 1225,\n",
       " 40: 1600,\n",
       " 45: 2025,\n",
       " 50: 2500,\n",
       " 55: 3025,\n",
       " 60: 3600,\n",
       " 65: 4225,\n",
       " 70: 4900,\n",
       " 75: 5625,\n",
       " 80: 6400,\n",
       " 85: 7225,\n",
       " 90: 8100,\n",
       " 95: 9025}"
      ]
     },
     "execution_count": 7,
     "metadata": {},
     "output_type": "execute_result"
    }
   ],
   "source": [
    "{i: i**2 for i in range(10, 100, 5)}\n"
   ]
  },
  {
   "cell_type": "code",
   "execution_count": 8,
   "id": "d41e4ae1",
   "metadata": {},
   "outputs": [],
   "source": [
    "items = ['laptop', 'bag', 'book']\n",
    "\n",
    "uppercase = {key : key.upper() for key in items}\n"
   ]
  },
  {
   "cell_type": "code",
   "execution_count": 9,
   "id": "6f4c5617",
   "metadata": {},
   "outputs": [
    {
     "data": {
      "text/plain": [
       "{'laptop': 'LAPTOP', 'bag': 'BAG', 'book': 'BOOK'}"
      ]
     },
     "execution_count": 9,
     "metadata": {},
     "output_type": "execute_result"
    }
   ],
   "source": [
    "uppercase"
   ]
  },
  {
   "cell_type": "code",
   "execution_count": null,
   "id": "3e9c691d",
   "metadata": {},
   "outputs": [],
   "source": []
  },
  {
   "cell_type": "code",
   "execution_count": null,
   "id": "4c52943d",
   "metadata": {},
   "outputs": [],
   "source": []
  },
  {
   "cell_type": "code",
   "execution_count": null,
   "id": "bda0730a",
   "metadata": {},
   "outputs": [],
   "source": []
  }
 ],
 "metadata": {
  "kernelspec": {
   "display_name": "Python 3",
   "language": "python",
   "name": "python3"
  },
  "language_info": {
   "codemirror_mode": {
    "name": "ipython",
    "version": 3
   },
   "file_extension": ".py",
   "mimetype": "text/x-python",
   "name": "python",
   "nbconvert_exporter": "python",
   "pygments_lexer": "ipython3",
   "version": "3.9.5"
  }
 },
 "nbformat": 4,
 "nbformat_minor": 5
}
