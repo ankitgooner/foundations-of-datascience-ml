{
 "cells": [
  {
   "cell_type": "code",
   "execution_count": 5,
   "id": "1eeffadd",
   "metadata": {},
   "outputs": [],
   "source": [
    "with open('sample.txt') as f:\n",
    "    read_data = f.read()\n"
   ]
  },
  {
   "cell_type": "code",
   "execution_count": 6,
   "id": "de271cff",
   "metadata": {},
   "outputs": [
    {
     "data": {
      "text/plain": [
       "'This is sample text in the file sample.txt.\\n\\nHi there'"
      ]
     },
     "execution_count": 6,
     "metadata": {},
     "output_type": "execute_result"
    }
   ],
   "source": [
    "read_data"
   ]
  },
  {
   "cell_type": "code",
   "execution_count": 10,
   "id": "8396e9e7",
   "metadata": {},
   "outputs": [
    {
     "name": "stdout",
     "output_type": "stream",
     "text": [
      "name,address,age\n",
      "\n",
      "Ram,123 Brooklyn,25\n"
     ]
    }
   ],
   "source": [
    "with open('sample.csv', 'r') as f:\n",
    "    for line in f:\n",
    "        print(line)\n",
    "    "
   ]
  },
  {
   "cell_type": "code",
   "execution_count": 13,
   "id": "0d88b563",
   "metadata": {},
   "outputs": [],
   "source": [
    "data = {'name': \"Ram\", 'address': \"142 CA\", 'age': 34}\n",
    "\n",
    "import json\n",
    "\n",
    "\n",
    "with open('sample.csv', 'a') as f:\n",
    "    json.dump(data, f)"
   ]
  },
  {
   "cell_type": "code",
   "execution_count": 15,
   "id": "035263a2",
   "metadata": {},
   "outputs": [
    {
     "name": "stdout",
     "output_type": "stream",
     "text": [
      "There are 0 directories and 3 images in 'chesspy/'.\n"
     ]
    }
   ],
   "source": [
    "import os\n",
    "\n",
    "for dirpath, dirnames, filenames in os.walk(\"chesspy/\"):\n",
    "    print(f\"There are {len(dirnames)} directories and {len(filenames)} images in '{dirpath}'.\")"
   ]
  },
  {
   "cell_type": "code",
   "execution_count": null,
   "id": "9b143549",
   "metadata": {},
   "outputs": [],
   "source": []
  }
 ],
 "metadata": {
  "kernelspec": {
   "display_name": "Python 3",
   "language": "python",
   "name": "python3"
  },
  "language_info": {
   "codemirror_mode": {
    "name": "ipython",
    "version": 3
   },
   "file_extension": ".py",
   "mimetype": "text/x-python",
   "name": "python",
   "nbconvert_exporter": "python",
   "pygments_lexer": "ipython3",
   "version": "3.9.5"
  }
 },
 "nbformat": 4,
 "nbformat_minor": 5
}
