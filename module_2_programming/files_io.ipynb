{
 "cells": [
  {
   "cell_type": "markdown",
   "id": "004dd4a2",
   "metadata": {},
   "source": [
    "## Learning Objectives\n",
    "\n",
    "* How to read data from txt and csv files in python.\n",
    "* How to write/append data to a file.\n",
    "* How to parse through a directory using python's `os` module."
   ]
  },
  {
   "cell_type": "code",
   "execution_count": 1,
   "id": "4baad1e7",
   "metadata": {},
   "outputs": [],
   "source": [
    "with open(\"./sample.txt\", 'r') as f:\n",
    "    data = f.read()"
   ]
  },
  {
   "cell_type": "code",
   "execution_count": 3,
   "id": "b2cfb0ba",
   "metadata": {},
   "outputs": [
    {
     "name": "stdout",
     "output_type": "stream",
     "text": [
      "This is sample text in the file sample.txt.\n",
      "\n",
      "Hi there\n"
     ]
    }
   ],
   "source": [
    "print(data)"
   ]
  },
  {
   "cell_type": "code",
   "execution_count": 8,
   "id": "603ab2c3",
   "metadata": {},
   "outputs": [
    {
     "name": "stdout",
     "output_type": "stream",
     "text": [
      "NAME,ADDRESS,AGE\n",
      "\n",
      "ALEX,123 BROOKLYN,25\n"
     ]
    }
   ],
   "source": [
    "with open(\"./sample.csv\", 'r') as f:\n",
    "    for line in f:\n",
    "        new_line = line.upper()\n",
    "        print(new_line)\n",
    "#     data = f.readline()\n",
    "    "
   ]
  },
  {
   "cell_type": "code",
   "execution_count": 5,
   "id": "4acce991",
   "metadata": {},
   "outputs": [
    {
     "data": {
      "text/plain": [
       "'Name,address,age\\n'"
      ]
     },
     "execution_count": 5,
     "metadata": {},
     "output_type": "execute_result"
    }
   ],
   "source": [
    "data"
   ]
  },
  {
   "cell_type": "code",
   "execution_count": 10,
   "id": "15f2ff90",
   "metadata": {},
   "outputs": [],
   "source": [
    "with open('sample.txt', 'w') as f:\n",
    "    f.write(\"Hi, I am writing the data to a file for the first time.\")"
   ]
  },
  {
   "cell_type": "code",
   "execution_count": 11,
   "id": "d023e47a",
   "metadata": {},
   "outputs": [],
   "source": [
    "with open('sample.txt', 'a') as f:\n",
    "    f.write(\"This is the second time I am writing the data\")"
   ]
  },
  {
   "cell_type": "markdown",
   "id": "96918155",
   "metadata": {},
   "source": [
    "## OS module"
   ]
  },
  {
   "cell_type": "code",
   "execution_count": 13,
   "id": "ecbf69d2",
   "metadata": {},
   "outputs": [],
   "source": [
    "import os\n",
    "\n",
    "os.mkdir(\"./sample_data\")"
   ]
  },
  {
   "cell_type": "code",
   "execution_count": 16,
   "id": "f7505db8",
   "metadata": {},
   "outputs": [
    {
     "data": {
      "text/plain": [
       "<generator object _walk at 0x7fd5497b4e40>"
      ]
     },
     "execution_count": 16,
     "metadata": {},
     "output_type": "execute_result"
    }
   ],
   "source": [
    "os.walk(\"./chesspy/\")"
   ]
  },
  {
   "cell_type": "code",
   "execution_count": 19,
   "id": "2bd61b63",
   "metadata": {},
   "outputs": [
    {
     "name": "stdout",
     "output_type": "stream",
     "text": [
      "There are 0 directories and there are 3 files in the chesspy/\n",
      " and the filenames are ['game.py', 'players.py', 'draw.py'].\n"
     ]
    }
   ],
   "source": [
    "for dirpath, dirnames, filenames in os.walk(\"chesspy/\"):\n",
    "    print(f\"There are {len(dirnames)} directories and there are {len(filenames)} files in the {dirpath}\\n and the filenames are {filenames}.\")"
   ]
  },
  {
   "cell_type": "code",
   "execution_count": null,
   "id": "d809448b",
   "metadata": {},
   "outputs": [],
   "source": []
  },
  {
   "cell_type": "code",
   "execution_count": null,
   "id": "b49ec1df",
   "metadata": {},
   "outputs": [],
   "source": []
  },
  {
   "cell_type": "code",
   "execution_count": null,
   "id": "c24baead",
   "metadata": {},
   "outputs": [],
   "source": []
  },
  {
   "cell_type": "code",
   "execution_count": null,
   "id": "f6f4a29e",
   "metadata": {},
   "outputs": [],
   "source": []
  },
  {
   "cell_type": "code",
   "execution_count": null,
   "id": "0264eb62",
   "metadata": {},
   "outputs": [],
   "source": []
  },
  {
   "cell_type": "code",
   "execution_count": null,
   "id": "58508076",
   "metadata": {},
   "outputs": [],
   "source": []
  }
 ],
 "metadata": {
  "kernelspec": {
   "display_name": "Python 3",
   "language": "python",
   "name": "python3"
  },
  "language_info": {
   "codemirror_mode": {
    "name": "ipython",
    "version": 3
   },
   "file_extension": ".py",
   "mimetype": "text/x-python",
   "name": "python",
   "nbconvert_exporter": "python",
   "pygments_lexer": "ipython3",
   "version": "3.9.5"
  }
 },
 "nbformat": 4,
 "nbformat_minor": 5
}
