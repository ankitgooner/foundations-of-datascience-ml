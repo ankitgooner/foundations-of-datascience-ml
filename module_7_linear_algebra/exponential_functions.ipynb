{
 "cells": [
  {
   "cell_type": "code",
   "execution_count": 1,
   "id": "64f3f305",
   "metadata": {},
   "outputs": [
    {
     "data": {
      "text/plain": [
       "1024"
      ]
     },
     "execution_count": 1,
     "metadata": {},
     "output_type": "execute_result"
    }
   ],
   "source": [
    "def compute_exponential_of_4(x):\n",
    "    return 4 ** x\n",
    "\n",
    "compute_exponential_of_4(5)"
   ]
  },
  {
   "cell_type": "code",
   "execution_count": 2,
   "id": "c120c7cd",
   "metadata": {},
   "outputs": [
    {
     "data": {
      "text/plain": [
       "2.718281828459045"
      ]
     },
     "execution_count": 2,
     "metadata": {},
     "output_type": "execute_result"
    }
   ],
   "source": [
    "from math import e\n",
    "\n",
    "e\n"
   ]
  },
  {
   "cell_type": "code",
   "execution_count": 3,
   "id": "33e0446c",
   "metadata": {},
   "outputs": [
    {
     "data": {
      "text/plain": [
       "54.59815003314423"
      ]
     },
     "execution_count": 3,
     "metadata": {},
     "output_type": "execute_result"
    }
   ],
   "source": [
    "def compute_exponential_of_e(x):\n",
    "    return e ** x\n",
    "\n",
    "\n",
    "compute_exponential_of_e(4)"
   ]
  },
  {
   "cell_type": "code",
   "execution_count": 4,
   "id": "6dc852ad",
   "metadata": {},
   "outputs": [
    {
     "data": {
      "text/plain": [
       "0.9820137900379085"
      ]
     },
     "execution_count": 4,
     "metadata": {},
     "output_type": "execute_result"
    }
   ],
   "source": [
    "def sigmoid_fn(x):\n",
    "    return 1 / (1 + e**(-x))\n",
    "\n",
    "sigmoid_fn(4)"
   ]
  },
  {
   "cell_type": "code",
   "execution_count": null,
   "id": "cac6f462",
   "metadata": {},
   "outputs": [],
   "source": []
  }
 ],
 "metadata": {
  "kernelspec": {
   "display_name": "Python 3",
   "language": "python",
   "name": "python3"
  },
  "language_info": {
   "codemirror_mode": {
    "name": "ipython",
    "version": 3
   },
   "file_extension": ".py",
   "mimetype": "text/x-python",
   "name": "python",
   "nbconvert_exporter": "python",
   "pygments_lexer": "ipython3",
   "version": "3.9.5"
  }
 },
 "nbformat": 4,
 "nbformat_minor": 5
}
