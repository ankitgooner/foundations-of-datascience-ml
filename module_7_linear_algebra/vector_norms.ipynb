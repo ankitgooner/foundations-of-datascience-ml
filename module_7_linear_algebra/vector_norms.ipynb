{
 "cells": [
  {
   "cell_type": "markdown",
   "id": "7c1fa2c6",
   "metadata": {},
   "source": [
    "## Vector Norms"
   ]
  },
  {
   "cell_type": "code",
   "execution_count": 1,
   "id": "5baf93e1",
   "metadata": {},
   "outputs": [],
   "source": [
    "import numpy as np"
   ]
  },
  {
   "cell_type": "code",
   "execution_count": 2,
   "id": "1af917d5",
   "metadata": {},
   "outputs": [
    {
     "data": {
      "text/plain": [
       "15.0"
      ]
     },
     "execution_count": 2,
     "metadata": {},
     "output_type": "execute_result"
    }
   ],
   "source": [
    "x = np.array([1,2,-4,5,3])\n",
    "\n",
    "\n",
    "np.linalg.norm(x, ord=1)"
   ]
  },
  {
   "cell_type": "markdown",
   "id": "dd954927",
   "metadata": {},
   "source": [
    "## L2 Norm"
   ]
  },
  {
   "cell_type": "code",
   "execution_count": 5,
   "id": "5bdd74f2",
   "metadata": {},
   "outputs": [],
   "source": [
    "l2 = np.linalg.norm(x, ord=2)"
   ]
  },
  {
   "cell_type": "code",
   "execution_count": 6,
   "id": "996c573a",
   "metadata": {},
   "outputs": [
    {
     "data": {
      "text/plain": [
       "55.0"
      ]
     },
     "execution_count": 6,
     "metadata": {},
     "output_type": "execute_result"
    }
   ],
   "source": [
    "l2 ** 2"
   ]
  },
  {
   "cell_type": "code",
   "execution_count": null,
   "id": "547196f9",
   "metadata": {},
   "outputs": [],
   "source": []
  }
 ],
 "metadata": {
  "kernelspec": {
   "display_name": "Python 3",
   "language": "python",
   "name": "python3"
  },
  "language_info": {
   "codemirror_mode": {
    "name": "ipython",
    "version": 3
   },
   "file_extension": ".py",
   "mimetype": "text/x-python",
   "name": "python",
   "nbconvert_exporter": "python",
   "pygments_lexer": "ipython3",
   "version": "3.9.5"
  }
 },
 "nbformat": 4,
 "nbformat_minor": 5
}
