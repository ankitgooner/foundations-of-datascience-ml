{
 "cells": [
  {
   "cell_type": "markdown",
   "id": "30516731",
   "metadata": {},
   "source": [
    "## Solving a linear regression problem"
   ]
  },
  {
   "cell_type": "code",
   "execution_count": 1,
   "id": "f845ded9",
   "metadata": {},
   "outputs": [],
   "source": [
    "import numpy as np\n",
    "import matplotlib.pyplot as plt"
   ]
  },
  {
   "cell_type": "markdown",
   "id": "3a442977",
   "metadata": {},
   "source": [
    "### Define the dataset or data points"
   ]
  },
  {
   "cell_type": "code",
   "execution_count": 2,
   "id": "588ac953",
   "metadata": {},
   "outputs": [
    {
     "data": {
      "text/plain": [
       "<matplotlib.collections.PathCollection at 0x7ff50b2b46d0>"
      ]
     },
     "execution_count": 2,
     "metadata": {},
     "output_type": "execute_result"
    },
    {
     "data": {
      "image/png": "[encoded data removed]",
      "text/plain": [
       "<Figure size 432x288 with 1 Axes>"
      ]
     },
     "metadata": {
      "needs_background": "light"
     },
     "output_type": "display_data"
    }
   ],
   "source": [
    "x = np.array([170, 165, 172, 180])\n",
    "y = np.array([78, 65, 79, 91])\n",
    "\n",
    "plt.scatter(x, y)"
   ]
  },
  {
   "cell_type": "markdown",
   "id": "61ed2d74",
   "metadata": {},
   "source": [
    "## Solving using normal equation"
   ]
  },
  {
   "cell_type": "code",
   "execution_count": 3,
   "id": "fd5a3dff",
   "metadata": {},
   "outputs": [],
   "source": [
    "X = np.array([[170, 1],\n",
    "              [165, 1],\n",
    "              [172, 1],\n",
    "              [180, 1]])\n"
   ]
  },
  {
   "cell_type": "code",
   "execution_count": 4,
   "id": "a422cef8",
   "metadata": {},
   "outputs": [
    {
     "name": "stdout",
     "output_type": "stream",
     "text": [
      "[   1.67237687 -208.98072805]\n"
     ]
    }
   ],
   "source": [
    "b = (np.linalg.inv(X.T @ X)) @ X.T @ y\n",
    "\n",
    "print(b)"
   ]
  },
  {
   "cell_type": "code",
   "execution_count": 5,
   "id": "e2cf36b4",
   "metadata": {},
   "outputs": [
    {
     "data": {
      "text/plain": [
       "<matplotlib.collections.PathCollection at 0x7ff50b3edfa0>"
      ]
     },
     "execution_count": 5,
     "metadata": {},
     "output_type": "execute_result"
    },
    {
     "data": {
      "image/png": "[encoded data removed]",
      "text/plain": [
       "<Figure size 432x288 with 1 Axes>"
      ]
     },
     "metadata": {
      "needs_background": "light"
     },
     "output_type": "display_data"
    }
   ],
   "source": [
    "xhat = np.linspace(150, 200, 100)\n",
    "yhat = 1.672 * xhat - 208.980\n",
    "\n",
    "plt.plot(xhat, yhat, c='r')\n",
    "\n",
    "\n",
    "plt.scatter(x, y)"
   ]
  },
  {
   "cell_type": "code",
   "execution_count": null,
   "id": "cfb19f97",
   "metadata": {},
   "outputs": [],
   "source": []
  }
 ],
 "metadata": {
  "kernelspec": {
   "display_name": "Python 3",
   "language": "python",
   "name": "python3"
  },
  "language_info": {
   "codemirror_mode": {
    "name": "ipython",
    "version": 3
   },
   "file_extension": ".py",
   "mimetype": "text/x-python",
   "name": "python",
   "nbconvert_exporter": "python",
   "pygments_lexer": "ipython3",
   "version": "3.9.5"
  }
 },
 "nbformat": 4,
 "nbformat_minor": 5
}
