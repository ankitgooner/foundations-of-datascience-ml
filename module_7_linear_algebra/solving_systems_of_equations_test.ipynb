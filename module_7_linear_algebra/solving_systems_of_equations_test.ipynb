{
 "cells": [
  {
   "cell_type": "code",
   "execution_count": 1,
   "id": "f5d0faee",
   "metadata": {},
   "outputs": [],
   "source": [
    "import numpy as np"
   ]
  },
  {
   "cell_type": "code",
   "execution_count": 14,
   "id": "91d12c1e",
   "metadata": {},
   "outputs": [],
   "source": [
    "x = np.linspace(-5, 5, 100)\n",
    "y1 = 3*x + 2\n",
    "y2 = 2*x + 1"
   ]
  },
  {
   "cell_type": "code",
   "execution_count": 15,
   "id": "d760e01a",
   "metadata": {},
   "outputs": [
    {
     "data": {
      "text/plain": [
       "array([-13.        , -12.6969697 , -12.39393939, -12.09090909,\n",
       "       -11.78787879, -11.48484848, -11.18181818, -10.87878788,\n",
       "       -10.57575758, -10.27272727,  -9.96969697,  -9.66666667,\n",
       "        -9.36363636,  -9.06060606,  -8.75757576,  -8.45454545,\n",
       "        -8.15151515,  -7.84848485,  -7.54545455,  -7.24242424,\n",
       "        -6.93939394,  -6.63636364,  -6.33333333,  -6.03030303,\n",
       "        -5.72727273,  -5.42424242,  -5.12121212,  -4.81818182,\n",
       "        -4.51515152,  -4.21212121,  -3.90909091,  -3.60606061,\n",
       "        -3.3030303 ,  -3.        ,  -2.6969697 ,  -2.39393939,\n",
       "        -2.09090909,  -1.78787879,  -1.48484848,  -1.18181818,\n",
       "        -0.87878788,  -0.57575758,  -0.27272727,   0.03030303,\n",
       "         0.33333333,   0.63636364,   0.93939394,   1.24242424,\n",
       "         1.54545455,   1.84848485,   2.15151515,   2.45454545,\n",
       "         2.75757576,   3.06060606,   3.36363636,   3.66666667,\n",
       "         3.96969697,   4.27272727,   4.57575758,   4.87878788,\n",
       "         5.18181818,   5.48484848,   5.78787879,   6.09090909,\n",
       "         6.39393939,   6.6969697 ,   7.        ,   7.3030303 ,\n",
       "         7.60606061,   7.90909091,   8.21212121,   8.51515152,\n",
       "         8.81818182,   9.12121212,   9.42424242,   9.72727273,\n",
       "        10.03030303,  10.33333333,  10.63636364,  10.93939394,\n",
       "        11.24242424,  11.54545455,  11.84848485,  12.15151515,\n",
       "        12.45454545,  12.75757576,  13.06060606,  13.36363636,\n",
       "        13.66666667,  13.96969697,  14.27272727,  14.57575758,\n",
       "        14.87878788,  15.18181818,  15.48484848,  15.78787879,\n",
       "        16.09090909,  16.39393939,  16.6969697 ,  17.        ])"
      ]
     },
     "execution_count": 15,
     "metadata": {},
     "output_type": "execute_result"
    }
   ],
   "source": [
    "y1"
   ]
  },
  {
   "cell_type": "code",
   "execution_count": 16,
   "id": "9dbe0bf3",
   "metadata": {},
   "outputs": [
    {
     "data": {
      "text/plain": [
       "array([-9.        , -8.7979798 , -8.5959596 , -8.39393939, -8.19191919,\n",
       "       -7.98989899, -7.78787879, -7.58585859, -7.38383838, -7.18181818,\n",
       "       -6.97979798, -6.77777778, -6.57575758, -6.37373737, -6.17171717,\n",
       "       -5.96969697, -5.76767677, -5.56565657, -5.36363636, -5.16161616,\n",
       "       -4.95959596, -4.75757576, -4.55555556, -4.35353535, -4.15151515,\n",
       "       -3.94949495, -3.74747475, -3.54545455, -3.34343434, -3.14141414,\n",
       "       -2.93939394, -2.73737374, -2.53535354, -2.33333333, -2.13131313,\n",
       "       -1.92929293, -1.72727273, -1.52525253, -1.32323232, -1.12121212,\n",
       "       -0.91919192, -0.71717172, -0.51515152, -0.31313131, -0.11111111,\n",
       "        0.09090909,  0.29292929,  0.49494949,  0.6969697 ,  0.8989899 ,\n",
       "        1.1010101 ,  1.3030303 ,  1.50505051,  1.70707071,  1.90909091,\n",
       "        2.11111111,  2.31313131,  2.51515152,  2.71717172,  2.91919192,\n",
       "        3.12121212,  3.32323232,  3.52525253,  3.72727273,  3.92929293,\n",
       "        4.13131313,  4.33333333,  4.53535354,  4.73737374,  4.93939394,\n",
       "        5.14141414,  5.34343434,  5.54545455,  5.74747475,  5.94949495,\n",
       "        6.15151515,  6.35353535,  6.55555556,  6.75757576,  6.95959596,\n",
       "        7.16161616,  7.36363636,  7.56565657,  7.76767677,  7.96969697,\n",
       "        8.17171717,  8.37373737,  8.57575758,  8.77777778,  8.97979798,\n",
       "        9.18181818,  9.38383838,  9.58585859,  9.78787879,  9.98989899,\n",
       "       10.19191919, 10.39393939, 10.5959596 , 10.7979798 , 11.        ])"
      ]
     },
     "execution_count": 16,
     "metadata": {},
     "output_type": "execute_result"
    }
   ],
   "source": [
    "y2"
   ]
  },
  {
   "cell_type": "code",
   "execution_count": 17,
   "id": "6c2f6473",
   "metadata": {
    "scrolled": true
   },
   "outputs": [
    {
     "data": {
      "image/png": "[encoded data removed]",
      "text/plain": [
       "<Figure size 432x288 with 1 Axes>"
      ]
     },
     "metadata": {
      "needs_background": "light"
     },
     "output_type": "display_data"
    }
   ],
   "source": [
    "import matplotlib.pyplot as plt\n",
    "\n",
    "##plotting line1\n",
    "plt.plot(x,y1)\n",
    "\n",
    "##plotting line2\n",
    "plt.plot(x,y2)\n",
    "\n",
    "\n",
    "plt.axhline(0, c='grey', zorder=0)\n",
    "plt.axvline(0, c='grey', zorder=0)\n",
    "\n",
    "plt.show()"
   ]
  },
  {
   "cell_type": "code",
   "execution_count": 18,
   "id": "c51f2808",
   "metadata": {},
   "outputs": [],
   "source": [
    "A = np.array([[1, -3],\n",
    "              [1, -2]])\n",
    "\n",
    "b = np.array([2,1])"
   ]
  },
  {
   "cell_type": "markdown",
   "id": "366ad62c",
   "metadata": {},
   "source": [
    "## Solving it using:\n",
    "\n",
    "$$\n",
    "\\begin{aligned}\n",
    "x = A^{-1}b\n",
    "\\end{aligned}\n",
    "$$"
   ]
  },
  {
   "cell_type": "code",
   "execution_count": 19,
   "id": "4f83e8b8",
   "metadata": {},
   "outputs": [],
   "source": [
    "x = np.linalg.inv(A) @ b"
   ]
  },
  {
   "cell_type": "code",
   "execution_count": 20,
   "id": "84cb3a36",
   "metadata": {},
   "outputs": [
    {
     "data": {
      "text/plain": [
       "array([-1., -1.])"
      ]
     },
     "execution_count": 20,
     "metadata": {},
     "output_type": "execute_result"
    }
   ],
   "source": [
    "x"
   ]
  },
  {
   "cell_type": "code",
   "execution_count": null,
   "id": "dc9d714e",
   "metadata": {},
   "outputs": [],
   "source": []
  }
 ],
 "metadata": {
  "kernelspec": {
   "display_name": "Python 3",
   "language": "python",
   "name": "python3"
  },
  "language_info": {
   "codemirror_mode": {
    "name": "ipython",
    "version": 3
   },
   "file_extension": ".py",
   "mimetype": "text/x-python",
   "name": "python",
   "nbconvert_exporter": "python",
   "pygments_lexer": "ipython3",
   "version": "3.9.5"
  }
 },
 "nbformat": 4,
 "nbformat_minor": 5
}
