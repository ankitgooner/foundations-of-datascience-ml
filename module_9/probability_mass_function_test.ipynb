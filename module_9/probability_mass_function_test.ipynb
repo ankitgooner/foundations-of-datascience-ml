{
 "cells": [
  {
   "cell_type": "markdown",
   "id": "a6edb96c",
   "metadata": {},
   "source": [
    "# Describing discrete functions using Probability Mass Functions"
   ]
  },
  {
   "cell_type": "code",
   "execution_count": 4,
   "id": "09f709e9",
   "metadata": {},
   "outputs": [],
   "source": [
    "import numpy as np\n",
    "import matplotlib.pyplot as plt"
   ]
  },
  {
   "cell_type": "code",
   "execution_count": 16,
   "id": "e2c731af",
   "metadata": {},
   "outputs": [
    {
     "data": {
      "text/plain": [
       "array([1, 1, 5, 1, 2, 3, 5, 3, 1, 1, 4, 2, 2, 3, 3, 1, 5, 5, 6, 6, 2, 4,\n",
       "       5, 2, 2, 6, 6, 2, 6, 2, 1, 6, 3, 2, 6, 1, 1, 3, 4, 5, 3, 2, 3, 6,\n",
       "       6, 1, 2, 5, 6, 3])"
      ]
     },
     "execution_count": 16,
     "metadata": {},
     "output_type": "execute_result"
    }
   ],
   "source": [
    "## simulating a die rolling experiment(50 times) using numpy\n",
    "die_rolls = np.random.randint(1,7,50)\n",
    "die_rolls"
   ]
  },
  {
   "cell_type": "code",
   "execution_count": 17,
   "id": "4bf3819f",
   "metadata": {},
   "outputs": [
    {
     "data": {
      "text/plain": [
       "<BarContainer object of 6 artists>"
      ]
     },
     "execution_count": 17,
     "metadata": {},
     "output_type": "execute_result"
    },
    {
     "data": {
      "image/png": "[encoded data removed]",
      "text/plain": [
       "<Figure size 432x288 with 1 Axes>"
      ]
     },
     "metadata": {
      "needs_background": "light"
     },
     "output_type": "display_data"
    }
   ],
   "source": [
    "val, freq = np.unique(die_rolls, return_counts=True)\n",
    "plt.bar(val, freq/len(die_rolls))"
   ]
  },
  {
   "cell_type": "code",
   "execution_count": 18,
   "id": "e0eace1b",
   "metadata": {},
   "outputs": [
    {
     "data": {
      "text/plain": [
       "array([3, 4, 3, ..., 4, 3, 2])"
      ]
     },
     "execution_count": 18,
     "metadata": {},
     "output_type": "execute_result"
    }
   ],
   "source": [
    "## simulating a die rolling experiment(10000 times) using numpy\n",
    "die_rolls_10k = np.random.randint(1,7,10000)\n",
    "die_rolls_10k"
   ]
  },
  {
   "cell_type": "code",
   "execution_count": 19,
   "id": "9aa53d8b",
   "metadata": {},
   "outputs": [
    {
     "data": {
      "text/plain": [
       "<BarContainer object of 6 artists>"
      ]
     },
     "execution_count": 19,
     "metadata": {},
     "output_type": "execute_result"
    },
    {
     "data": {
      "image/png": "[encoded data removed]",
      "text/plain": [
       "<Figure size 432x288 with 1 Axes>"
      ]
     },
     "metadata": {
      "needs_background": "light"
     },
     "output_type": "display_data"
    }
   ],
   "source": [
    "val, freq = np.unique(die_rolls_10k, return_counts=True)\n",
    "plt.bar(val, freq/len(die_rolls_10k))"
   ]
  },
  {
   "cell_type": "code",
   "execution_count": null,
   "id": "0adff524",
   "metadata": {},
   "outputs": [],
   "source": []
  }
 ],
 "metadata": {
  "kernelspec": {
   "display_name": "Python 3",
   "language": "python",
   "name": "python3"
  },
  "language_info": {
   "codemirror_mode": {
    "name": "ipython",
    "version": 3
   },
   "file_extension": ".py",
   "mimetype": "text/x-python",
   "name": "python",
   "nbconvert_exporter": "python",
   "pygments_lexer": "ipython3",
   "version": "3.9.5"
  }
 },
 "nbformat": 4,
 "nbformat_minor": 5
}
