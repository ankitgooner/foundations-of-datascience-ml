{
 "cells": [
  {
   "cell_type": "markdown",
   "id": "a6edb96c",
   "metadata": {},
   "source": [
    "# Describing discrete functions using Probability Mass Functions"
   ]
  },
  {
   "cell_type": "code",
   "execution_count": 1,
   "id": "09f709e9",
   "metadata": {},
   "outputs": [],
   "source": [
    "import numpy as np\n",
    "import matplotlib.pyplot as plt"
   ]
  },
  {
   "cell_type": "code",
   "execution_count": 2,
   "id": "0adff524",
   "metadata": {},
   "outputs": [
    {
     "data": {
      "text/plain": [
       "array([6, 4, 4, 3, 6, 3, 3, 1, 1, 4, 6, 6, 6, 1, 3, 4, 4, 6, 5, 5, 4, 3,\n",
       "       2, 6, 3, 1, 5, 6, 6, 1, 6, 2, 2, 6, 5, 6, 4, 1, 2, 2, 5, 4, 3, 4,\n",
       "       6, 2, 3, 3, 5, 5])"
      ]
     },
     "execution_count": 2,
     "metadata": {},
     "output_type": "execute_result"
    }
   ],
   "source": [
    "##simulate a die rolling experiment\n",
    "die_rolls_50 = np.random.randint(1, 7, 50)\n",
    "die_rolls_50"
   ]
  },
  {
   "cell_type": "code",
   "execution_count": 3,
   "id": "70231c73",
   "metadata": {},
   "outputs": [
    {
     "name": "stdout",
     "output_type": "stream",
     "text": [
      "[1 2 3 4 5 6] [ 6  6  9  9  7 13]\n"
     ]
    }
   ],
   "source": [
    "val, freq = np.unique(die_rolls_50, return_counts=True)\n",
    "print(val, freq)"
   ]
  },
  {
   "cell_type": "code",
   "execution_count": 4,
   "id": "dc16f39b",
   "metadata": {},
   "outputs": [
    {
     "data": {
      "text/plain": [
       "<BarContainer object of 6 artists>"
      ]
     },
     "execution_count": 4,
     "metadata": {},
     "output_type": "execute_result"
    },
    {
     "data": {
      "image/png": "[encoded data removed]",
      "text/plain": [
       "<Figure size 432x288 with 1 Axes>"
      ]
     },
     "metadata": {
      "needs_background": "light"
     },
     "output_type": "display_data"
    }
   ],
   "source": [
    "plt.bar(val, freq/len(die_rolls_50))"
   ]
  },
  {
   "cell_type": "code",
   "execution_count": 5,
   "id": "1ed41808",
   "metadata": {},
   "outputs": [
    {
     "data": {
      "text/plain": [
       "array([3, 3, 6, ..., 5, 2, 2])"
      ]
     },
     "execution_count": 5,
     "metadata": {},
     "output_type": "execute_result"
    }
   ],
   "source": [
    "##simulating the same exp 10000 times\n",
    "\n",
    "die_rolls_10k = np.random.randint(1, 7, 10000)\n",
    "die_rolls_10k"
   ]
  },
  {
   "cell_type": "code",
   "execution_count": 6,
   "id": "001a8f5c",
   "metadata": {},
   "outputs": [
    {
     "data": {
      "text/plain": [
       "<BarContainer object of 6 artists>"
      ]
     },
     "execution_count": 6,
     "metadata": {},
     "output_type": "execute_result"
    },
    {
     "data": {
      "image/png": "[encoded data removed]",
      "text/plain": [
       "<Figure size 432x288 with 1 Axes>"
      ]
     },
     "metadata": {
      "needs_background": "light"
     },
     "output_type": "display_data"
    }
   ],
   "source": [
    "val, freq = np.unique(die_rolls_10k, return_counts=True)\n",
    "plt.bar(val, freq/len(die_rolls_10k))"
   ]
  },
  {
   "cell_type": "code",
   "execution_count": null,
   "id": "85b4e45b",
   "metadata": {},
   "outputs": [],
   "source": []
  }
 ],
 "metadata": {
  "kernelspec": {
   "display_name": "Python 3",
   "language": "python",
   "name": "python3"
  },
  "language_info": {
   "codemirror_mode": {
    "name": "ipython",
    "version": 3
   },
   "file_extension": ".py",
   "mimetype": "text/x-python",
   "name": "python",
   "nbconvert_exporter": "python",
   "pygments_lexer": "ipython3",
   "version": "3.9.5"
  }
 },
 "nbformat": 4,
 "nbformat_minor": 5
}
