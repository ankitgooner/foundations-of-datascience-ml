{
 "cells": [
  {
   "cell_type": "markdown",
   "id": "a6edb96c",
   "metadata": {},
   "source": [
    "# Law of Large Numbers"
   ]
  },
  {
   "cell_type": "code",
   "execution_count": 1,
   "id": "09f709e9",
   "metadata": {},
   "outputs": [],
   "source": [
    "import numpy as np\n",
    "import matplotlib.pyplot as plt\n",
    "\n",
    "from scipy.stats import norm"
   ]
  },
  {
   "cell_type": "code",
   "execution_count": 2,
   "id": "8d7a2070",
   "metadata": {},
   "outputs": [],
   "source": [
    "##define population data\n",
    "x_data = np.arange(20, 50, 1)\n",
    "y_data = norm.pdf(x_data, 35, 5)"
   ]
  },
  {
   "cell_type": "code",
   "execution_count": 3,
   "id": "9ac8802a",
   "metadata": {},
   "outputs": [
    {
     "data": {
      "text/plain": [
       "[<matplotlib.lines.Line2D at 0x7fc61396db50>]"
      ]
     },
     "execution_count": 3,
     "metadata": {},
     "output_type": "execute_result"
    },
    {
     "data": {
      "image/png": "[encoded data removed]",
      "text/plain": [
       "<Figure size 432x288 with 1 Axes>"
      ]
     },
     "metadata": {
      "needs_background": "light"
     },
     "output_type": "display_data"
    }
   ],
   "source": [
    "##plot the population dist\n",
    "plt.plot(x_data, y_data)"
   ]
  },
  {
   "cell_type": "code",
   "execution_count": 4,
   "id": "8c220f66",
   "metadata": {},
   "outputs": [],
   "source": [
    "##create samples of different sizes\n",
    "sizes = []\n",
    "for i in range(10, 10000, 200):\n",
    "    sizes.append(i)"
   ]
  },
  {
   "cell_type": "code",
   "execution_count": 5,
   "id": "eb2b0580",
   "metadata": {},
   "outputs": [
    {
     "data": {
      "text/plain": [
       "[10,\n",
       " 210,\n",
       " 410,\n",
       " 610,\n",
       " 810,\n",
       " 1010,\n",
       " 1210,\n",
       " 1410,\n",
       " 1610,\n",
       " 1810,\n",
       " 2010,\n",
       " 2210,\n",
       " 2410,\n",
       " 2610,\n",
       " 2810,\n",
       " 3010,\n",
       " 3210,\n",
       " 3410,\n",
       " 3610,\n",
       " 3810,\n",
       " 4010,\n",
       " 4210,\n",
       " 4410,\n",
       " 4610,\n",
       " 4810,\n",
       " 5010,\n",
       " 5210,\n",
       " 5410,\n",
       " 5610,\n",
       " 5810,\n",
       " 6010,\n",
       " 6210,\n",
       " 6410,\n",
       " 6610,\n",
       " 6810,\n",
       " 7010,\n",
       " 7210,\n",
       " 7410,\n",
       " 7610,\n",
       " 7810,\n",
       " 8010,\n",
       " 8210,\n",
       " 8410,\n",
       " 8610,\n",
       " 8810,\n",
       " 9010,\n",
       " 9210,\n",
       " 9410,\n",
       " 9610,\n",
       " 9810]"
      ]
     },
     "execution_count": 5,
     "metadata": {},
     "output_type": "execute_result"
    }
   ],
   "source": [
    "sizes"
   ]
  },
  {
   "cell_type": "code",
   "execution_count": 6,
   "id": "9c67845e",
   "metadata": {},
   "outputs": [],
   "source": [
    "sample_means = []\n",
    "\n",
    "for size in sizes:\n",
    "    mean = np.mean(5 * np.random.randn(size) + 35)\n",
    "    sample_means.append(mean)"
   ]
  },
  {
   "cell_type": "code",
   "execution_count": 7,
   "id": "0dfc2726",
   "metadata": {},
   "outputs": [
    {
     "data": {
      "text/plain": [
       "[35.917161003456656,\n",
       " 35.15246191578097,\n",
       " 34.92041491017312,\n",
       " 35.210762152702905,\n",
       " 34.99879867199636,\n",
       " 34.99350306676483,\n",
       " 34.683665841857184,\n",
       " 34.99864003650013,\n",
       " 34.71045431749495,\n",
       " 35.09359188884817,\n",
       " 34.86256199938592,\n",
       " 35.20887651136536,\n",
       " 34.99678242325516,\n",
       " 34.87412501030425,\n",
       " 34.98160849422057,\n",
       " 34.96810146365199,\n",
       " 34.93063595552144,\n",
       " 34.88688381847602,\n",
       " 35.1856760862009,\n",
       " 34.93669334098014,\n",
       " 34.999964497844296,\n",
       " 34.9738678489384,\n",
       " 35.10037431559684,\n",
       " 35.02247054816795,\n",
       " 34.87202956576914,\n",
       " 35.01098818527788,\n",
       " 34.93284608049311,\n",
       " 35.03122453545793,\n",
       " 35.06100705643335,\n",
       " 35.03912730112115,\n",
       " 35.032739827687706,\n",
       " 34.934950198186336,\n",
       " 35.02372677517052,\n",
       " 34.92713396122669,\n",
       " 34.998432544380925,\n",
       " 34.989938288858575,\n",
       " 35.079116077383894,\n",
       " 34.95245980393901,\n",
       " 34.91470216581742,\n",
       " 34.986771741512214,\n",
       " 35.0642742155057,\n",
       " 34.95149999299756,\n",
       " 34.975207843960575,\n",
       " 34.9804746871266,\n",
       " 35.0120774315016,\n",
       " 34.96765730937634,\n",
       " 34.91189634872539,\n",
       " 34.99127848948807,\n",
       " 34.986923441471454,\n",
       " 34.96535051986583]"
      ]
     },
     "execution_count": 7,
     "metadata": {},
     "output_type": "execute_result"
    }
   ],
   "source": [
    "sample_means"
   ]
  },
  {
   "cell_type": "code",
   "execution_count": 8,
   "id": "9bcebe76",
   "metadata": {},
   "outputs": [
    {
     "data": {
      "text/plain": [
       "<matplotlib.collections.PathCollection at 0x7fc613b7e280>"
      ]
     },
     "execution_count": 8,
     "metadata": {},
     "output_type": "execute_result"
    },
    {
     "data": {
      "image/png": "[encoded data removed]",
      "text/plain": [
       "<Figure size 432x288 with 1 Axes>"
      ]
     },
     "metadata": {
      "needs_background": "light"
     },
     "output_type": "display_data"
    }
   ],
   "source": [
    "plt.scatter(sizes, np.array(sample_means))"
   ]
  },
  {
   "cell_type": "code",
   "execution_count": null,
   "id": "bdb51e52",
   "metadata": {},
   "outputs": [],
   "source": []
  }
 ],
 "metadata": {
  "kernelspec": {
   "display_name": "Python 3",
   "language": "python",
   "name": "python3"
  },
  "language_info": {
   "codemirror_mode": {
    "name": "ipython",
    "version": 3
   },
   "file_extension": ".py",
   "mimetype": "text/x-python",
   "name": "python",
   "nbconvert_exporter": "python",
   "pygments_lexer": "ipython3",
   "version": "3.9.5"
  }
 },
 "nbformat": 4,
 "nbformat_minor": 5
}
