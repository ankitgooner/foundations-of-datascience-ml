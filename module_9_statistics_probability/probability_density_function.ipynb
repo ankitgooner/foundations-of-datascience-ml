{
 "cells": [
  {
   "cell_type": "markdown",
   "id": "a6edb96c",
   "metadata": {},
   "source": [
    "# Describing continuous variables using Probability Density Functions"
   ]
  },
  {
   "cell_type": "code",
   "execution_count": 1,
   "id": "09f709e9",
   "metadata": {},
   "outputs": [],
   "source": [
    "import numpy as np\n",
    "import matplotlib.pyplot as plt"
   ]
  },
  {
   "cell_type": "code",
   "execution_count": 2,
   "id": "c3cd2df0",
   "metadata": {},
   "outputs": [
    {
     "data": {
      "text/plain": [
       "array([0.58415714, 0.40192666, 0.56691413, 0.65068806, 0.55479112,\n",
       "       0.62075531, 0.49479857, 0.48604405, 0.45255907, 0.45627457,\n",
       "       0.42403097, 0.33375781, 0.56479573, 0.61047558, 0.44206913,\n",
       "       0.51789585, 0.34577314, 0.52161347, 0.51795715, 0.45989613,\n",
       "       0.4648632 , 0.61427467, 0.57416992, 0.4242655 , 0.54457781,\n",
       "       0.30731909, 0.42875477, 0.43105876, 0.43358396, 0.56745498,\n",
       "       0.54192412, 0.47052298, 0.69948351, 0.57648728, 0.43076938,\n",
       "       0.50565748, 0.41551886, 0.58054526, 0.59175852, 0.65597254,\n",
       "       0.57441882, 0.53952822, 0.65511606, 0.64687844, 0.65177216,\n",
       "       0.47761344, 0.53025566, 0.55624075, 0.49622438, 0.58673062,\n",
       "       0.53379367, 0.72647686, 0.39802384, 0.33888481, 0.6526339 ,\n",
       "       0.58381516, 0.58497067, 0.48856648, 0.48285289, 0.5582436 ,\n",
       "       0.23511794, 0.47667976, 0.50232781, 0.37956332, 0.49709245,\n",
       "       0.39829958, 0.54528274, 0.40618609, 0.49946812, 0.54198525,\n",
       "       0.64652128, 0.39772403, 0.59309961, 0.52188881, 0.6863132 ,\n",
       "       0.48878284, 0.55385712, 0.49273166, 0.56227051, 0.51628364,\n",
       "       0.66671822, 0.52734686, 0.44282545, 0.4509209 , 0.40162126,\n",
       "       0.41594787, 0.38797539, 0.4734889 , 0.52437598, 0.59121043,\n",
       "       0.63416994, 0.4437406 , 0.43043763, 0.4472197 , 0.58796826,\n",
       "       0.377709  , 0.44438959, 0.41482282, 0.50282795, 0.49252426,\n",
       "       0.50643413, 0.4864379 , 0.41255305, 0.55292741, 0.46887607,\n",
       "       0.47738041, 0.40982653, 0.49723284, 0.36259288, 0.42703951,\n",
       "       0.33765817, 0.48760471, 0.51018409, 0.62682058, 0.57300781,\n",
       "       0.571931  , 0.49067516, 0.5097143 , 0.49014834, 0.53234885,\n",
       "       0.58452106, 0.44242887, 0.43738961, 0.48060677, 0.64233062,\n",
       "       0.29449824, 0.40007543, 0.47696149, 0.49027374, 0.58537358,\n",
       "       0.56752478, 0.53705678, 0.28644115, 0.4491986 , 0.60251447,\n",
       "       0.5790654 , 0.45742521, 0.6479323 , 0.63273813, 0.57961524,\n",
       "       0.46632472, 0.37060669, 0.67869696, 0.42852385, 0.50625343,\n",
       "       0.58103612, 0.42887173, 0.4264773 , 0.56607039, 0.38456537,\n",
       "       0.59994069, 0.39939419, 0.44026495, 0.4268297 , 0.64326485,\n",
       "       0.49569897, 0.58330378, 0.50263604, 0.68903915, 0.46611968,\n",
       "       0.59525137, 0.42589695, 0.23422052, 0.49620963, 0.63817122,\n",
       "       0.42666682, 0.52676166, 0.66812278, 0.38009703, 0.56443913,\n",
       "       0.62781683, 0.50626211, 0.45977997, 0.44542917, 0.47659183,\n",
       "       0.42640498, 0.51422552, 0.5540842 , 0.5358112 , 0.3469229 ,\n",
       "       0.38844196, 0.44732648, 0.51198778, 0.65323383, 0.62434087,\n",
       "       0.38272068, 0.61286442, 0.59223135, 0.43008894, 0.55379932,\n",
       "       0.35926553, 0.48381203, 0.36040989, 0.54538424, 0.57096987,\n",
       "       0.67932883, 0.48238936, 0.55082451, 0.5628912 , 0.35426573,\n",
       "       0.62260841, 0.58870493, 0.50695246, 0.54098866, 0.38587827,\n",
       "       0.64669549, 0.55607003, 0.63858055, 0.62159061, 0.30325171,\n",
       "       0.54894473, 0.51299449, 0.48195298, 0.5634705 , 0.42893364,\n",
       "       0.39891081, 0.65265903, 0.54524495, 0.6588199 , 0.38814421,\n",
       "       0.43048278, 0.67257233, 0.60906418, 0.36220283, 0.42827361,\n",
       "       0.49663158, 0.5371405 , 0.72091077, 0.61493559, 0.48662055,\n",
       "       0.60436706, 0.56317272, 0.47256394, 0.43543482, 0.52618068,\n",
       "       0.47245428, 0.43845486, 0.61726236, 0.65565203, 0.48372917,\n",
       "       0.45618792, 0.53081549, 0.56772975, 0.50153432, 0.38535196,\n",
       "       0.36753701, 0.78288961, 0.50613806, 0.51941074, 0.42514604,\n",
       "       0.40356095, 0.38604278, 0.59152106, 0.39837261, 0.4456049 ,\n",
       "       0.41342384, 0.46908378, 0.50665598, 0.58179501, 0.53547409,\n",
       "       0.49407585, 0.54962376, 0.52898939, 0.55572378, 0.41786738,\n",
       "       0.44759394, 0.49026803, 0.56885089, 0.54655928, 0.63012731,\n",
       "       0.51801018, 0.4013414 , 0.5853474 , 0.5650017 , 0.60067624,\n",
       "       0.34127611, 0.47808428, 0.62160297, 0.4548364 , 0.43464807,\n",
       "       0.6366208 , 0.5897344 , 0.73446233, 0.62029995, 0.37143756,\n",
       "       0.42326288, 0.4809411 , 0.53142791, 0.63118856, 0.56360442,\n",
       "       0.66626553, 0.48363611, 0.39585284, 0.38945792, 0.58835881,\n",
       "       0.47007193, 0.4833631 , 0.5168895 , 0.49371423, 0.50273054,\n",
       "       0.41285219, 0.47199174, 0.48004588, 0.5034602 , 0.48817919,\n",
       "       0.40725298, 0.52462876, 0.54207245, 0.48186219, 0.502261  ,\n",
       "       0.58374029, 0.38492293, 0.57291475, 0.40688388, 0.36790217,\n",
       "       0.53638468, 0.51748216, 0.43450747, 0.47990293, 0.5636857 ,\n",
       "       0.43915923, 0.58947082, 0.6510438 , 0.42466152, 0.35032326,\n",
       "       0.50509737, 0.30117925, 0.39082206, 0.54420482, 0.49988501,\n",
       "       0.45062172, 0.70911864, 0.56950929, 0.41190338, 0.60645451,\n",
       "       0.56092115, 0.56145791, 0.50080512, 0.46287313, 0.48044969,\n",
       "       0.59580374, 0.48923903, 0.62618765, 0.33019873, 0.48096263,\n",
       "       0.46108632, 0.45019516, 0.45711969, 0.49039923, 0.56884793,\n",
       "       0.42615173, 0.4985272 , 0.4904841 , 0.65123417, 0.33039382,\n",
       "       0.45443665, 0.5132616 , 0.34356699, 0.43193952, 0.52691265,\n",
       "       0.55189452, 0.42208313, 0.40186749, 0.51744027, 0.37736833,\n",
       "       0.50549719, 0.39950107, 0.56956028, 0.51304748, 0.55462129,\n",
       "       0.59617119, 0.2927914 , 0.5572025 , 0.4490037 , 0.59490874,\n",
       "       0.5316057 , 0.39640623, 0.39824672, 0.45080698, 0.51059205,\n",
       "       0.51950308, 0.51637928, 0.42383198, 0.46200847, 0.56575191,\n",
       "       0.72523883, 0.3517661 , 0.55695932, 0.52183371, 0.60679178,\n",
       "       0.44931301, 0.40266447, 0.57803423, 0.49298251, 0.62404852,\n",
       "       0.65580709, 0.54055661, 0.51854418, 0.44000655, 0.39065799,\n",
       "       0.47823919, 0.6780031 , 0.45638673, 0.39593213, 0.49193508,\n",
       "       0.61255134, 0.60312824, 0.28342406, 0.60050615, 0.49860841,\n",
       "       0.38457295, 0.57273035, 0.60576422, 0.43083273, 0.62304308,\n",
       "       0.56181229, 0.56421304, 0.52564008, 0.64461363, 0.53395757,\n",
       "       0.64144725, 0.55851209, 0.35379782, 0.55520612, 0.2561301 ,\n",
       "       0.43894021, 0.35029471, 0.62284664, 0.48015106, 0.45377132,\n",
       "       0.33025958, 0.44164417, 0.54896398, 0.36401086, 0.438514  ,\n",
       "       0.38154081, 0.43564014, 0.53979279, 0.48061454, 0.53875934,\n",
       "       0.51686064, 0.43590431, 0.53394309, 0.50379649, 0.41685841,\n",
       "       0.6105362 , 0.3683137 , 0.46259993, 0.44670482, 0.47390836,\n",
       "       0.58399361, 0.31936859, 0.4489393 , 0.38285358, 0.49610515,\n",
       "       0.56787836, 0.38433432, 0.41998624, 0.43225439, 0.52868737,\n",
       "       0.44356117, 0.40930909, 0.64609887, 0.42274453, 0.53353861,\n",
       "       0.39478347, 0.35548692, 0.36892063, 0.40690785, 0.62830491,\n",
       "       0.48607522, 0.48721083, 0.58570898, 0.74352774, 0.49872911,\n",
       "       0.52886771, 0.60067076, 0.65359626, 0.35567447, 0.35206109,\n",
       "       0.37591716, 0.40391337, 0.42680043, 0.54772404, 0.42038144,\n",
       "       0.39417292, 0.48671654, 0.49636798, 0.54180999, 0.47022472,\n",
       "       0.60380264, 0.56846004, 0.3790802 , 0.33627115, 0.43915402,\n",
       "       0.60037902, 0.64638667, 0.61967802, 0.48895729, 0.55246692,\n",
       "       0.58845891, 0.4344064 , 0.80167504, 0.41797207, 0.58998606,\n",
       "       0.35777281, 0.37334569, 0.46431838, 0.43868314, 0.68960191,\n",
       "       0.45581587, 0.39756244, 0.42299916, 0.40744493, 0.51274028,\n",
       "       0.47704887, 0.52004327, 0.5160747 , 0.28478199, 0.47887846,\n",
       "       0.15817993, 0.44977206, 0.46878424, 0.49202569, 0.43105928,\n",
       "       0.50292434, 0.40123929, 0.38015604, 0.67677819, 0.6250289 ,\n",
       "       0.54939128, 0.52828623, 0.58528347, 0.35410333, 0.46698247,\n",
       "       0.57234497, 0.61241881, 0.29549415, 0.50393412, 0.50844132,\n",
       "       0.58452396, 0.39146037, 0.56049492, 0.4120884 , 0.66606399,\n",
       "       0.57025119, 0.33921648, 0.42782062, 0.59712677, 0.49361829,\n",
       "       0.47848422, 0.39664405, 0.56178644, 0.55722562, 0.388163  ,\n",
       "       0.35304426, 0.46528806, 0.47080412, 0.3360999 , 0.44487601,\n",
       "       0.41347962, 0.39465953, 0.43902435, 0.51395055, 0.29924021,\n",
       "       0.47562813, 0.64953312, 0.50863586, 0.47831455, 0.38054096,\n",
       "       0.60640322, 0.42929223, 0.4301095 , 0.25671534, 0.55563341,\n",
       "       0.4619271 , 0.38177406, 0.31533023, 0.53782841, 0.56500453,\n",
       "       0.54789012, 0.4210569 , 0.58102982, 0.65876872, 0.51187673,\n",
       "       0.62008073, 0.3915213 , 0.35185404, 0.51692516, 0.72017948,\n",
       "       0.63382817, 0.47691223, 0.37317858, 0.46347689, 0.47833338,\n",
       "       0.54637421, 0.61092587, 0.41834391, 0.40553996, 0.57149638,\n",
       "       0.43936232, 0.36728153, 0.48731347, 0.50770291, 0.69156629,\n",
       "       0.64469969, 0.3006275 , 0.63380799, 0.41053424, 0.49655313,\n",
       "       0.54958941, 0.56411475, 0.51535331, 0.44123939, 0.37661289,\n",
       "       0.50780651, 0.54510026, 0.62782089, 0.4891937 , 0.60449573,\n",
       "       0.59203765, 0.45922407, 0.59172571, 0.58072219, 0.58699883,\n",
       "       0.50049837, 0.46895586, 0.57259378, 0.53668672, 0.56817947,\n",
       "       0.182901  , 0.60409442, 0.53360765, 0.38402372, 0.29942871,\n",
       "       0.50441574, 0.53581267, 0.53580892, 0.53026385, 0.58612586,\n",
       "       0.62191596, 0.63081391, 0.38168771, 0.40997894, 0.51596001,\n",
       "       0.38124783, 0.64664122, 0.60719919, 0.70695997, 0.50841696,\n",
       "       0.40896655, 0.60872735, 0.48937823, 0.47586001, 0.42823796,\n",
       "       0.56041964, 0.6938647 , 0.48778158, 0.54483978, 0.54702051,\n",
       "       0.39647231, 0.3950691 , 0.50223428, 0.51248971, 0.66304267,\n",
       "       0.57651926, 0.50473125, 0.43883136, 0.39492116, 0.46214352,\n",
       "       0.52733043, 0.46887451, 0.45892171, 0.39267458, 0.48465239,\n",
       "       0.44110353, 0.53772604, 0.55035995, 0.53994454, 0.40285658,\n",
       "       0.62565979, 0.41483899, 0.55856406, 0.56378904, 0.50298796,\n",
       "       0.50190475, 0.48643612, 0.54488185, 0.54933583, 0.62504911,\n",
       "       0.52708835, 0.4864645 , 0.66980513, 0.45592242, 0.59452225,\n",
       "       0.32369303, 0.47380252, 0.58277303, 0.51884272, 0.58444734,\n",
       "       0.56507329, 0.58937831, 0.43079529, 0.51373242, 0.41512393,\n",
       "       0.58714617, 0.3663052 , 0.61266857, 0.52493765, 0.64762629,\n",
       "       0.33590994, 0.60546056, 0.48795105, 0.62376018, 0.36042047,\n",
       "       0.45586395, 0.41860096, 0.57232333, 0.49390605, 0.38576015,\n",
       "       0.29470749, 0.49290794, 0.47271126, 0.30955235, 0.46353343,\n",
       "       0.5820533 , 0.34895953, 0.59834067, 0.48384582, 0.41615252,\n",
       "       0.67621556, 0.64497809, 0.50267276, 0.51008162, 0.46484408,\n",
       "       0.48176454, 0.34257096, 0.37709707, 0.45653984, 0.38375813,\n",
       "       0.71024241, 0.60462695, 0.58782388, 0.37003103, 0.54027255,\n",
       "       0.50242494, 0.53318145, 0.5694473 , 0.60186087, 0.50099443,\n",
       "       0.69683249, 0.67457129, 0.5648961 , 0.55400857, 0.47313335,\n",
       "       0.43698839, 0.58016021, 0.17369324, 0.45270087, 0.4953275 ,\n",
       "       0.53768294, 0.63942566, 0.48494561, 0.44650851, 0.520602  ,\n",
       "       0.5098575 , 0.36071478, 0.6105329 , 0.64641025, 0.33989849,\n",
       "       0.59016579, 0.4144207 , 0.5548006 , 0.50113249, 0.43970689,\n",
       "       0.53431444, 0.51289153, 0.52517843, 0.51852795, 0.59264746,\n",
       "       0.55178546, 0.65549075, 0.46425046, 0.48569222, 0.58091594,\n",
       "       0.52054715, 0.51890678, 0.38707332, 0.34368879, 0.32613072,\n",
       "       0.60027908, 0.49936567, 0.37346335, 0.35768055, 0.35820524,\n",
       "       0.63066193, 0.35343414, 0.4607531 , 0.59877168, 0.47721161,\n",
       "       0.48495195, 0.38259397, 0.77269287, 0.66724897, 0.50148968,\n",
       "       0.30607157, 0.43865988, 0.51438254, 0.57153366, 0.42397417,\n",
       "       0.5433876 , 0.48424326, 0.59248782, 0.47808431, 0.37196066,\n",
       "       0.41330335, 0.54068458, 0.44471939, 0.63769029, 0.40976172,\n",
       "       0.60068759, 0.42864196, 0.4140908 , 0.61538758, 0.38166371,\n",
       "       0.48879774, 0.2079816 , 0.54741438, 0.58659861, 0.54739206,\n",
       "       0.56092318, 0.52249335, 0.57145435, 0.39532698, 0.45945301,\n",
       "       0.39933711, 0.51951946, 0.47866166, 0.5028094 , 0.53623363,\n",
       "       0.48164456, 0.60662788, 0.54502521, 0.50418862, 0.45285856,\n",
       "       0.49054377, 0.42865448, 0.4385727 , 0.43538266, 0.59863185,\n",
       "       0.56291552, 0.27799105, 0.45945685, 0.586799  , 0.42453149,\n",
       "       0.45002093, 0.20971247, 0.54928287, 0.62843081, 0.68229887,\n",
       "       0.39702106, 0.73040035, 0.45950764, 0.53212193, 0.56310867,\n",
       "       0.39017335, 0.51898895, 0.45898128, 0.51354234, 0.30162743,\n",
       "       0.35801251, 0.64682354, 0.55234787, 0.56792714, 0.45213995,\n",
       "       0.58457399, 0.58106988, 0.51877589, 0.46947575, 0.49599141,\n",
       "       0.50488323, 0.52845904, 0.52919531, 0.49694565, 0.52316174,\n",
       "       0.58849783, 0.44351462, 0.67335818, 0.6012271 , 0.57501328,\n",
       "       0.39172549, 0.50444547, 0.48516272, 0.54107227, 0.69579006,\n",
       "       0.43948588, 0.55395233, 0.6733279 , 0.66333759, 0.35747631,\n",
       "       0.52798854, 0.47096412, 0.76991123, 0.46271108, 0.52291751,\n",
       "       0.63256741, 0.47665064, 0.52069242, 0.72010306, 0.59760909,\n",
       "       0.61964696, 0.62642097, 0.36686834, 0.49391783, 0.50474627,\n",
       "       0.39844905, 0.528636  , 0.63408549, 0.4131155 , 0.47433027,\n",
       "       0.53078091, 0.33111848, 0.4096409 , 0.43172897, 0.53970017,\n",
       "       0.40147199, 0.36352066, 0.58140138, 0.40009829, 0.34341274,\n",
       "       0.34881081, 0.59517503, 0.47057137, 0.54538578, 0.51206104,\n",
       "       0.3396234 , 0.35909009, 0.49186901, 0.68180711, 0.33512576,\n",
       "       0.55774169, 0.39055693, 0.41586958, 0.48590135, 0.46022571,\n",
       "       0.45017721, 0.46392664, 0.52763102, 0.61593062, 0.50117809,\n",
       "       0.54762203, 0.37197207, 0.33378475, 0.40267828, 0.47279075,\n",
       "       0.65649079, 0.5018659 , 0.41015287, 0.36365591, 0.57151252,\n",
       "       0.55861693, 0.45638336, 0.63984889, 0.45732686, 0.61052242,\n",
       "       0.33114053, 0.51360929, 0.54260874, 0.46516425, 0.50226156,\n",
       "       0.54283589, 0.52794038, 0.48398324, 0.45781029, 0.59594221,\n",
       "       0.45492441, 0.65083156, 0.45920161, 0.45830454, 0.49269522,\n",
       "       0.54414331, 0.61876205, 0.45321467, 0.34627015, 0.50117918,\n",
       "       0.47403897, 0.45627642, 0.52908642, 0.45727578, 0.59403221,\n",
       "       0.47597705, 0.54889925, 0.56526113, 0.39669257, 0.67189959,\n",
       "       0.50982228, 0.54842134, 0.52853796, 0.57871653, 0.48538066])"
      ]
     },
     "execution_count": 2,
     "metadata": {},
     "output_type": "execute_result"
    }
   ],
   "source": [
    "data = np.random.normal(0.5, 0.1, 1000)\n",
    "data"
   ]
  },
  {
   "cell_type": "code",
   "execution_count": 3,
   "id": "0ad21795",
   "metadata": {},
   "outputs": [
    {
     "data": {
      "image/png": "[encoded data removed]",
      "text/plain": [
       "<Figure size 432x288 with 1 Axes>"
      ]
     },
     "metadata": {
      "needs_background": "light"
     },
     "output_type": "display_data"
    }
   ],
   "source": [
    "histogram = plt.hist(data, bins=10, range=(0.1, 1.5))"
   ]
  },
  {
   "cell_type": "code",
   "execution_count": 4,
   "id": "77741586",
   "metadata": {},
   "outputs": [
    {
     "data": {
      "image/png": "[encoded data removed]",
      "text/plain": [
       "<Figure size 432x288 with 1 Axes>"
      ]
     },
     "metadata": {
      "needs_background": "light"
     },
     "output_type": "display_data"
    }
   ],
   "source": [
    "histogram = plt.hist(data, bins=20, range=(0.1, 1.5), density=True)"
   ]
  },
  {
   "cell_type": "code",
   "execution_count": 6,
   "id": "ffd8bbb5",
   "metadata": {},
   "outputs": [
    {
     "data": {
      "text/plain": [
       "3.3714"
      ]
     },
     "execution_count": 6,
     "metadata": {},
     "output_type": "execute_result"
    }
   ],
   "source": [
    "height = histogram[0][6].round(4)\n",
    "height"
   ]
  },
  {
   "cell_type": "code",
   "execution_count": 8,
   "id": "e46aefb7",
   "metadata": {},
   "outputs": [
    {
     "data": {
      "text/plain": [
       "0.52"
      ]
     },
     "execution_count": 8,
     "metadata": {},
     "output_type": "execute_result"
    }
   ],
   "source": [
    "x1 = histogram[1][6].round(4)\n",
    "x1"
   ]
  },
  {
   "cell_type": "code",
   "execution_count": 9,
   "id": "b1283ca4",
   "metadata": {},
   "outputs": [
    {
     "data": {
      "text/plain": [
       "0.59"
      ]
     },
     "execution_count": 9,
     "metadata": {},
     "output_type": "execute_result"
    }
   ],
   "source": [
    "x2 = histogram[1][7].round(4)\n",
    "x2"
   ]
  },
  {
   "cell_type": "code",
   "execution_count": 11,
   "id": "fb95df25",
   "metadata": {},
   "outputs": [
    {
     "data": {
      "text/plain": [
       "0.235998"
      ]
     },
     "execution_count": 11,
     "metadata": {},
     "output_type": "execute_result"
    }
   ],
   "source": [
    "area = 3.3714 * 0.07\n",
    "area"
   ]
  },
  {
   "cell_type": "code",
   "execution_count": 14,
   "id": "6870caf6",
   "metadata": {},
   "outputs": [
    {
     "data": {
      "text/plain": [
       "1.0"
      ]
     },
     "execution_count": 14,
     "metadata": {},
     "output_type": "execute_result"
    }
   ],
   "source": [
    "##adding all the probabilities\n",
    "\n",
    "(histogram[0] * 0.07).sum().round(4)\n"
   ]
  },
  {
   "cell_type": "code",
   "execution_count": null,
   "id": "7765ba82",
   "metadata": {},
   "outputs": [],
   "source": []
  },
  {
   "cell_type": "code",
   "execution_count": null,
   "id": "d3f50a1e",
   "metadata": {},
   "outputs": [],
   "source": []
  },
  {
   "cell_type": "code",
   "execution_count": null,
   "id": "8fd0eab3",
   "metadata": {},
   "outputs": [],
   "source": []
  },
  {
   "cell_type": "code",
   "execution_count": null,
   "id": "d8d502c8",
   "metadata": {},
   "outputs": [],
   "source": []
  }
 ],
 "metadata": {
  "kernelspec": {
   "display_name": "Python 3",
   "language": "python",
   "name": "python3"
  },
  "language_info": {
   "codemirror_mode": {
    "name": "ipython",
    "version": 3
   },
   "file_extension": ".py",
   "mimetype": "text/x-python",
   "name": "python",
   "nbconvert_exporter": "python",
   "pygments_lexer": "ipython3",
   "version": "3.9.5"
  }
 },
 "nbformat": 4,
 "nbformat_minor": 5
}
