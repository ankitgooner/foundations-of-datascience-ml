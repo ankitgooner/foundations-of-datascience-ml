{
 "cells": [
  {
   "cell_type": "markdown",
   "id": "a6edb96c",
   "metadata": {},
   "source": [
    "# Describing continuous variables using Probability Density Functions"
   ]
  },
  {
   "cell_type": "code",
   "execution_count": 2,
   "id": "09f709e9",
   "metadata": {},
   "outputs": [],
   "source": [
    "import numpy as np\n",
    "import matplotlib.pyplot as plt"
   ]
  },
  {
   "cell_type": "code",
   "execution_count": 45,
   "id": "0adff524",
   "metadata": {},
   "outputs": [],
   "source": [
    "data = np.random.normal(0.5, 0.1, 1000)"
   ]
  },
  {
   "cell_type": "code",
   "execution_count": 47,
   "id": "49db414b",
   "metadata": {},
   "outputs": [
    {
     "data": {
      "image/png": "[encoded data removed]",
      "text/plain": [
       "<Figure size 432x288 with 1 Axes>"
      ]
     },
     "metadata": {
      "needs_background": "light"
     },
     "output_type": "display_data"
    }
   ],
   "source": [
    "histogram = plt.hist(data, bins=10, range=(0.1, 1.5))"
   ]
  },
  {
   "cell_type": "code",
   "execution_count": 48,
   "id": "1e7c8850",
   "metadata": {
    "scrolled": true
   },
   "outputs": [
    {
     "data": {
      "image/png": "[encoded data removed]",
      "text/plain": [
       "<Figure size 432x288 with 1 Axes>"
      ]
     },
     "metadata": {
      "needs_background": "light"
     },
     "output_type": "display_data"
    }
   ],
   "source": [
    "histogram = plt.hist(data, bins=20, range=(0.1, 1.5), density=True)"
   ]
  },
  {
   "cell_type": "code",
   "execution_count": 50,
   "id": "9a38f365",
   "metadata": {},
   "outputs": [
    {
     "data": {
      "text/plain": [
       "3.2429"
      ]
     },
     "execution_count": 50,
     "metadata": {},
     "output_type": "execute_result"
    }
   ],
   "source": [
    "height = histogram[0][6].round(4)"
   ]
  },
  {
   "cell_type": "code",
   "execution_count": 51,
   "id": "def0cbc9",
   "metadata": {},
   "outputs": [
    {
     "data": {
      "text/plain": [
       "0.52"
      ]
     },
     "execution_count": 51,
     "metadata": {},
     "output_type": "execute_result"
    }
   ],
   "source": [
    "x1 = histogram[1][6].round(4)"
   ]
  },
  {
   "cell_type": "code",
   "execution_count": 54,
   "id": "a682e4f2",
   "metadata": {},
   "outputs": [],
   "source": [
    "x2 = histogram[1][7].round(4)"
   ]
  },
  {
   "cell_type": "code",
   "execution_count": 53,
   "id": "ceb381f5",
   "metadata": {},
   "outputs": [
    {
     "data": {
      "text/plain": [
       "0.22680000000000003"
      ]
     },
     "execution_count": 53,
     "metadata": {},
     "output_type": "execute_result"
    }
   ],
   "source": [
    "3.24 * 0.07"
   ]
  },
  {
   "cell_type": "code",
   "execution_count": null,
   "id": "0ad21795",
   "metadata": {},
   "outputs": [],
   "source": []
  }
 ],
 "metadata": {
  "kernelspec": {
   "display_name": "Python 3",
   "language": "python",
   "name": "python3"
  },
  "language_info": {
   "codemirror_mode": {
    "name": "ipython",
    "version": 3
   },
   "file_extension": ".py",
   "mimetype": "text/x-python",
   "name": "python",
   "nbconvert_exporter": "python",
   "pygments_lexer": "ipython3",
   "version": "3.9.5"
  }
 },
 "nbformat": 4,
 "nbformat_minor": 5
}
