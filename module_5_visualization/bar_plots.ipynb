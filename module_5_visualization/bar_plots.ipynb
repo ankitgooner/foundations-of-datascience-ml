{
 "cells": [
  {
   "cell_type": "markdown",
   "id": "e7b6e7aa",
   "metadata": {},
   "source": [
    "## Learning Objectives\n",
    "\n",
    "1. Plotting random data on a bar chart.\n",
    "2. Plotting monthly returns from Microsoft data.\n",
    "3. Horizontal bar plots\n"
   ]
  },
  {
   "cell_type": "code",
   "execution_count": 1,
   "id": "4dfd4ea4",
   "metadata": {},
   "outputs": [],
   "source": [
    "import numpy as np\n",
    "import pandas as pd\n",
    "\n",
    "import matplotlib.pyplot as plt\n",
    "%matplotlib inline\n",
    "\n",
    "plt.rcParams[\"figure.figsize\"] = (12,8)"
   ]
  },
  {
   "cell_type": "markdown",
   "id": "d0b33021",
   "metadata": {},
   "source": [
    "## Plotting random data from a dataframe"
   ]
  },
  {
   "cell_type": "code",
   "execution_count": 2,
   "id": "30e4a935",
   "metadata": {},
   "outputs": [
    {
     "data": {
      "text/html": [
       "<div>\n",
       "<style scoped>\n",
       "    .dataframe tbody tr th:only-of-type {\n",
       "        vertical-align: middle;\n",
       "    }\n",
       "\n",
       "    .dataframe tbody tr th {\n",
       "        vertical-align: top;\n",
       "    }\n",
       "\n",
       "    .dataframe thead th {\n",
       "        text-align: right;\n",
       "    }\n",
       "</style>\n",
       "<table border=\"1\" class=\"dataframe\">\n",
       "  <thead>\n",
       "    <tr style=\"text-align: right;\">\n",
       "      <th></th>\n",
       "      <th>A</th>\n",
       "      <th>B</th>\n",
       "      <th>C</th>\n",
       "      <th>D</th>\n",
       "    </tr>\n",
       "  </thead>\n",
       "  <tbody>\n",
       "    <tr>\n",
       "      <th>X1</th>\n",
       "      <td>0.773508</td>\n",
       "      <td>0.614058</td>\n",
       "      <td>0.119144</td>\n",
       "      <td>0.510385</td>\n",
       "    </tr>\n",
       "    <tr>\n",
       "      <th>X2</th>\n",
       "      <td>0.285740</td>\n",
       "      <td>0.558600</td>\n",
       "      <td>0.194682</td>\n",
       "      <td>0.549564</td>\n",
       "    </tr>\n",
       "    <tr>\n",
       "      <th>X3</th>\n",
       "      <td>0.640771</td>\n",
       "      <td>0.400097</td>\n",
       "      <td>0.501731</td>\n",
       "      <td>0.987156</td>\n",
       "    </tr>\n",
       "    <tr>\n",
       "      <th>X4</th>\n",
       "      <td>0.747926</td>\n",
       "      <td>0.576637</td>\n",
       "      <td>0.753395</td>\n",
       "      <td>0.444841</td>\n",
       "    </tr>\n",
       "    <tr>\n",
       "      <th>X5</th>\n",
       "      <td>0.094405</td>\n",
       "      <td>0.602810</td>\n",
       "      <td>0.109123</td>\n",
       "      <td>0.290046</td>\n",
       "    </tr>\n",
       "  </tbody>\n",
       "</table>\n",
       "</div>"
      ],
      "text/plain": [
       "           A         B         C         D\n",
       "X1  0.773508  0.614058  0.119144  0.510385\n",
       "X2  0.285740  0.558600  0.194682  0.549564\n",
       "X3  0.640771  0.400097  0.501731  0.987156\n",
       "X4  0.747926  0.576637  0.753395  0.444841\n",
       "X5  0.094405  0.602810  0.109123  0.290046"
      ]
     },
     "execution_count": 2,
     "metadata": {},
     "output_type": "execute_result"
    }
   ],
   "source": [
    "df = pd.DataFrame(np.random.rand(5, 4),\n",
    "                 index=['X1', 'X2', 'X3', 'X4', 'X5'],\n",
    "                 columns = ['A', 'B', 'C', 'D'])\n",
    "\n",
    "df"
   ]
  },
  {
   "cell_type": "code",
   "execution_count": 3,
   "id": "fe64dbfa",
   "metadata": {},
   "outputs": [
    {
     "data": {
      "text/plain": [
       "<AxesSubplot:>"
      ]
     },
     "execution_count": 3,
     "metadata": {},
     "output_type": "execute_result"
    },
    {
     "data": {
      "image/png": "[encoded data removed]",
      "text/plain": [
       "<Figure size 864x576 with 1 Axes>"
      ]
     },
     "metadata": {
      "needs_background": "light"
     },
     "output_type": "display_data"
    }
   ],
   "source": [
    "df.plot.bar()"
   ]
  },
  {
   "cell_type": "code",
   "execution_count": 4,
   "id": "fe834923",
   "metadata": {},
   "outputs": [
    {
     "data": {
      "text/plain": [
       "<AxesSubplot:>"
      ]
     },
     "execution_count": 4,
     "metadata": {},
     "output_type": "execute_result"
    },
    {
     "data": {
      "image/png": "[encoded data removed]",
      "text/plain": [
       "<Figure size 864x576 with 1 Axes>"
      ]
     },
     "metadata": {
      "needs_background": "light"
     },
     "output_type": "display_data"
    }
   ],
   "source": [
    "df.plot.barh()"
   ]
  },
  {
   "cell_type": "code",
   "execution_count": 5,
   "id": "b9fa7f40",
   "metadata": {},
   "outputs": [
    {
     "data": {
      "text/plain": [
       "<AxesSubplot:>"
      ]
     },
     "execution_count": 5,
     "metadata": {},
     "output_type": "execute_result"
    },
    {
     "data": {
      "image/png": "[encoded data removed]",
      "text/plain": [
       "<Figure size 864x576 with 1 Axes>"
      ]
     },
     "metadata": {
      "needs_background": "light"
     },
     "output_type": "display_data"
    }
   ],
   "source": [
    "df.plot.bar(stacked=True)"
   ]
  },
  {
   "cell_type": "markdown",
   "id": "cbd862cd",
   "metadata": {},
   "source": [
    "## Plotting monthly returns for MSFT stocks"
   ]
  },
  {
   "cell_type": "code",
   "execution_count": 6,
   "id": "82d045e1",
   "metadata": {},
   "outputs": [
    {
     "data": {
      "text/html": [
       "<div>\n",
       "<style scoped>\n",
       "    .dataframe tbody tr th:only-of-type {\n",
       "        vertical-align: middle;\n",
       "    }\n",
       "\n",
       "    .dataframe tbody tr th {\n",
       "        vertical-align: top;\n",
       "    }\n",
       "\n",
       "    .dataframe thead th {\n",
       "        text-align: right;\n",
       "    }\n",
       "</style>\n",
       "<table border=\"1\" class=\"dataframe\">\n",
       "  <thead>\n",
       "    <tr style=\"text-align: right;\">\n",
       "      <th></th>\n",
       "      <th>Open</th>\n",
       "      <th>High</th>\n",
       "      <th>Low</th>\n",
       "      <th>Close</th>\n",
       "      <th>Volume</th>\n",
       "    </tr>\n",
       "    <tr>\n",
       "      <th>Date</th>\n",
       "      <th></th>\n",
       "      <th></th>\n",
       "      <th></th>\n",
       "      <th></th>\n",
       "      <th></th>\n",
       "    </tr>\n",
       "  </thead>\n",
       "  <tbody>\n",
       "    <tr>\n",
       "      <th>2015-01-02</th>\n",
       "      <td>46.660000</td>\n",
       "      <td>47.419998</td>\n",
       "      <td>46.540001</td>\n",
       "      <td>46.759998</td>\n",
       "      <td>27913900</td>\n",
       "    </tr>\n",
       "    <tr>\n",
       "      <th>2015-01-05</th>\n",
       "      <td>46.369999</td>\n",
       "      <td>46.730000</td>\n",
       "      <td>46.250000</td>\n",
       "      <td>46.330002</td>\n",
       "      <td>39673900</td>\n",
       "    </tr>\n",
       "    <tr>\n",
       "      <th>2015-01-06</th>\n",
       "      <td>46.380001</td>\n",
       "      <td>46.750000</td>\n",
       "      <td>45.540001</td>\n",
       "      <td>45.650002</td>\n",
       "      <td>36447900</td>\n",
       "    </tr>\n",
       "    <tr>\n",
       "      <th>2015-01-07</th>\n",
       "      <td>45.980000</td>\n",
       "      <td>46.459999</td>\n",
       "      <td>45.490002</td>\n",
       "      <td>46.230000</td>\n",
       "      <td>29114100</td>\n",
       "    </tr>\n",
       "    <tr>\n",
       "      <th>2015-01-08</th>\n",
       "      <td>46.750000</td>\n",
       "      <td>47.750000</td>\n",
       "      <td>46.720001</td>\n",
       "      <td>47.590000</td>\n",
       "      <td>29645200</td>\n",
       "    </tr>\n",
       "    <tr>\n",
       "      <th>...</th>\n",
       "      <td>...</td>\n",
       "      <td>...</td>\n",
       "      <td>...</td>\n",
       "      <td>...</td>\n",
       "      <td>...</td>\n",
       "    </tr>\n",
       "    <tr>\n",
       "      <th>2020-12-23</th>\n",
       "      <td>223.110001</td>\n",
       "      <td>223.559998</td>\n",
       "      <td>220.800003</td>\n",
       "      <td>221.020004</td>\n",
       "      <td>18699600</td>\n",
       "    </tr>\n",
       "    <tr>\n",
       "      <th>2020-12-24</th>\n",
       "      <td>221.419998</td>\n",
       "      <td>223.610001</td>\n",
       "      <td>221.199997</td>\n",
       "      <td>222.750000</td>\n",
       "      <td>10550600</td>\n",
       "    </tr>\n",
       "    <tr>\n",
       "      <th>2020-12-28</th>\n",
       "      <td>224.449997</td>\n",
       "      <td>226.029999</td>\n",
       "      <td>223.020004</td>\n",
       "      <td>224.960007</td>\n",
       "      <td>17933500</td>\n",
       "    </tr>\n",
       "    <tr>\n",
       "      <th>2020-12-29</th>\n",
       "      <td>226.309998</td>\n",
       "      <td>227.179993</td>\n",
       "      <td>223.580002</td>\n",
       "      <td>224.149994</td>\n",
       "      <td>17403200</td>\n",
       "    </tr>\n",
       "    <tr>\n",
       "      <th>2020-12-30</th>\n",
       "      <td>225.229996</td>\n",
       "      <td>225.630005</td>\n",
       "      <td>221.470001</td>\n",
       "      <td>221.679993</td>\n",
       "      <td>20272300</td>\n",
       "    </tr>\n",
       "  </tbody>\n",
       "</table>\n",
       "<p>1510 rows × 5 columns</p>\n",
       "</div>"
      ],
      "text/plain": [
       "                  Open        High         Low       Close    Volume\n",
       "Date                                                                \n",
       "2015-01-02   46.660000   47.419998   46.540001   46.759998  27913900\n",
       "2015-01-05   46.369999   46.730000   46.250000   46.330002  39673900\n",
       "2015-01-06   46.380001   46.750000   45.540001   45.650002  36447900\n",
       "2015-01-07   45.980000   46.459999   45.490002   46.230000  29114100\n",
       "2015-01-08   46.750000   47.750000   46.720001   47.590000  29645200\n",
       "...                ...         ...         ...         ...       ...\n",
       "2020-12-23  223.110001  223.559998  220.800003  221.020004  18699600\n",
       "2020-12-24  221.419998  223.610001  221.199997  222.750000  10550600\n",
       "2020-12-28  224.449997  226.029999  223.020004  224.960007  17933500\n",
       "2020-12-29  226.309998  227.179993  223.580002  224.149994  17403200\n",
       "2020-12-30  225.229996  225.630005  221.470001  221.679993  20272300\n",
       "\n",
       "[1510 rows x 5 columns]"
      ]
     },
     "execution_count": 6,
     "metadata": {},
     "output_type": "execute_result"
    }
   ],
   "source": [
    "msft_df = pd.read_csv('../data/MSFT.csv', index_col=0, parse_dates=True)\n",
    "msft_df"
   ]
  },
  {
   "cell_type": "code",
   "execution_count": 7,
   "id": "642035d9",
   "metadata": {},
   "outputs": [
    {
     "data": {
      "text/plain": [
       "Date\n",
       "2015-01-30     45.514000\n",
       "2015-02-27     43.078421\n",
       "2015-03-31     42.131818\n",
       "2015-04-30     43.466666\n",
       "2015-05-29     47.530000\n",
       "                 ...    \n",
       "2020-08-31    214.353333\n",
       "2020-09-30    208.807143\n",
       "2020-10-30    212.890455\n",
       "2020-11-30    214.138999\n",
       "2020-12-31    217.750952\n",
       "Freq: BM, Name: Close, Length: 72, dtype: float64"
      ]
     },
     "execution_count": 7,
     "metadata": {},
     "output_type": "execute_result"
    }
   ],
   "source": [
    "##resample the daily data to monthly data\n",
    "msft_df['Close'].resample('BM').mean()"
   ]
  },
  {
   "cell_type": "code",
   "execution_count": 8,
   "id": "249f1a64",
   "metadata": {},
   "outputs": [
    {
     "data": {
      "text/plain": [
       "Date\n",
       "2020-01-31    163.999046\n",
       "2020-02-28    178.719474\n",
       "2020-03-31    152.554091\n",
       "2020-04-30    169.039525\n",
       "2020-05-29    182.342500\n",
       "2020-06-30    192.699547\n",
       "2020-07-31    207.080455\n",
       "2020-08-31    214.353333\n",
       "2020-09-30    208.807143\n",
       "2020-10-30    212.890455\n",
       "2020-11-30    214.138999\n",
       "2020-12-31    217.750952\n",
       "Freq: BM, Name: Close, dtype: float64"
      ]
     },
     "execution_count": 8,
     "metadata": {},
     "output_type": "execute_result"
    }
   ],
   "source": [
    "monthly_return = msft_df['Close'].resample('BM').mean().iloc[-12:]\n",
    "monthly_return"
   ]
  },
  {
   "cell_type": "code",
   "execution_count": 12,
   "id": "6d888efc",
   "metadata": {},
   "outputs": [
    {
     "data": {
      "text/plain": [
       "[Text(0, 0, 'Jan'),\n",
       " Text(0, 1, 'Feb'),\n",
       " Text(0, 2, 'Mar'),\n",
       " Text(0, 3, 'Apr'),\n",
       " Text(0, 4, 'May'),\n",
       " Text(0, 5, 'Jun'),\n",
       " Text(0, 6, 'Jul'),\n",
       " Text(0, 7, 'Aug'),\n",
       " Text(0, 8, 'Sep'),\n",
       " Text(0, 9, 'Oct'),\n",
       " Text(0, 10, 'Nov'),\n",
       " Text(0, 11, 'Dec')]"
      ]
     },
     "execution_count": 12,
     "metadata": {},
     "output_type": "execute_result"
    },
    {
     "data": {
      "image/png": "[encoded data removed]",
      "text/plain": [
       "<Figure size 864x576 with 1 Axes>"
      ]
     },
     "metadata": {
      "needs_background": "light"
     },
     "output_type": "display_data"
    }
   ],
   "source": [
    "fig, ax = plt.subplots(1,1)\n",
    "\n",
    "monthly_return.plot.barh(ax=ax)\n",
    "\n",
    "\n",
    "ax.set_yticklabels(['Jan', 'Feb', 'Mar', 'Apr', 'May',\n",
    "                   'Jun', 'Jul', 'Aug', 'Sep', 'Oct',\n",
    "                   'Nov', 'Dec'])"
   ]
  },
  {
   "cell_type": "code",
   "execution_count": null,
   "id": "a862b37b",
   "metadata": {},
   "outputs": [],
   "source": []
  },
  {
   "cell_type": "code",
   "execution_count": null,
   "id": "0720ca88",
   "metadata": {},
   "outputs": [],
   "source": []
  },
  {
   "cell_type": "code",
   "execution_count": null,
   "id": "032a54e8",
   "metadata": {},
   "outputs": [],
   "source": []
  },
  {
   "cell_type": "code",
   "execution_count": null,
   "id": "0e3bfa79",
   "metadata": {},
   "outputs": [],
   "source": []
  },
  {
   "cell_type": "code",
   "execution_count": null,
   "id": "9886b296",
   "metadata": {},
   "outputs": [],
   "source": []
  },
  {
   "cell_type": "code",
   "execution_count": null,
   "id": "33ff1742",
   "metadata": {},
   "outputs": [],
   "source": []
  },
  {
   "cell_type": "code",
   "execution_count": null,
   "id": "ab7de916",
   "metadata": {},
   "outputs": [],
   "source": []
  }
 ],
 "metadata": {
  "kernelspec": {
   "display_name": "Python 3",
   "language": "python",
   "name": "python3"
  },
  "language_info": {
   "codemirror_mode": {
    "name": "ipython",
    "version": 3
   },
   "file_extension": ".py",
   "mimetype": "text/x-python",
   "name": "python",
   "nbconvert_exporter": "python",
   "pygments_lexer": "ipython3",
   "version": "3.9.5"
  }
 },
 "nbformat": 4,
 "nbformat_minor": 5
}
