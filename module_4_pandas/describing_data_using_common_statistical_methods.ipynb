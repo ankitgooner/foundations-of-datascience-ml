{
 "cells": [
  {
   "cell_type": "markdown",
   "id": "f142db81",
   "metadata": {},
   "source": [
    "# Learning Objectives:\n",
    "\n",
    "1. Statistical methods offered by pandas:\n",
    "2. Finding min/max in each column\n",
    "3. Describing data using one function"
   ]
  },
  {
   "cell_type": "code",
   "execution_count": 1,
   "id": "80b72462",
   "metadata": {},
   "outputs": [],
   "source": [
    "import numpy as np\n",
    "import pandas as pd"
   ]
  },
  {
   "cell_type": "code",
   "execution_count": 2,
   "id": "937947e5",
   "metadata": {},
   "outputs": [
    {
     "data": {
      "text/html": [
       "<div>\n",
       "<style scoped>\n",
       "    .dataframe tbody tr th:only-of-type {\n",
       "        vertical-align: middle;\n",
       "    }\n",
       "\n",
       "    .dataframe tbody tr th {\n",
       "        vertical-align: top;\n",
       "    }\n",
       "\n",
       "    .dataframe thead th {\n",
       "        text-align: right;\n",
       "    }\n",
       "</style>\n",
       "<table border=\"1\" class=\"dataframe\">\n",
       "  <thead>\n",
       "    <tr style=\"text-align: right;\">\n",
       "      <th></th>\n",
       "      <th>Student</th>\n",
       "      <th>Age</th>\n",
       "      <th>Sub1_Score</th>\n",
       "      <th>Sub2_Score</th>\n",
       "      <th>Sub3_Score</th>\n",
       "      <th>Sub4_Score</th>\n",
       "    </tr>\n",
       "  </thead>\n",
       "  <tbody>\n",
       "    <tr>\n",
       "      <th>0</th>\n",
       "      <td>Tom</td>\n",
       "      <td>24</td>\n",
       "      <td>82</td>\n",
       "      <td>53</td>\n",
       "      <td>67</td>\n",
       "      <td>67.0</td>\n",
       "    </tr>\n",
       "    <tr>\n",
       "      <th>1</th>\n",
       "      <td>Katey</td>\n",
       "      <td>24</td>\n",
       "      <td>45</td>\n",
       "      <td>47</td>\n",
       "      <td>54</td>\n",
       "      <td>56.0</td>\n",
       "    </tr>\n",
       "    <tr>\n",
       "      <th>2</th>\n",
       "      <td>Mak</td>\n",
       "      <td>24</td>\n",
       "      <td>85</td>\n",
       "      <td>99</td>\n",
       "      <td>83</td>\n",
       "      <td>89.0</td>\n",
       "    </tr>\n",
       "    <tr>\n",
       "      <th>3</th>\n",
       "      <td>Bill</td>\n",
       "      <td>20</td>\n",
       "      <td>41</td>\n",
       "      <td>78</td>\n",
       "      <td>56</td>\n",
       "      <td>NaN</td>\n",
       "    </tr>\n",
       "    <tr>\n",
       "      <th>4</th>\n",
       "      <td>Tom</td>\n",
       "      <td>20</td>\n",
       "      <td>67</td>\n",
       "      <td>87</td>\n",
       "      <td>82</td>\n",
       "      <td>78.0</td>\n",
       "    </tr>\n",
       "    <tr>\n",
       "      <th>5</th>\n",
       "      <td>Rahul</td>\n",
       "      <td>21</td>\n",
       "      <td>75</td>\n",
       "      <td>44</td>\n",
       "      <td>87</td>\n",
       "      <td>NaN</td>\n",
       "    </tr>\n",
       "  </tbody>\n",
       "</table>\n",
       "</div>"
      ],
      "text/plain": [
       "  Student  Age  Sub1_Score  Sub2_Score  Sub3_Score  Sub4_Score\n",
       "0     Tom   24          82          53          67        67.0\n",
       "1   Katey   24          45          47          54        56.0\n",
       "2     Mak   24          85          99          83        89.0\n",
       "3    Bill   20          41          78          56         NaN\n",
       "4     Tom   20          67          87          82        78.0\n",
       "5   Rahul   21          75          44          87         NaN"
      ]
     },
     "execution_count": 2,
     "metadata": {},
     "output_type": "execute_result"
    }
   ],
   "source": [
    "scores_data = {\"Student\": [\"Tom\", \"Katey\", \"Mak\", \"Bill\", \"Tom\", \"Rahul\"],\n",
    "               \"Age\": np.random.randint(20, 25, size=6),\n",
    "               \"Sub1_Score\": np.random.randint(40, 100, size=6),\n",
    "               \"Sub2_Score\": np.random.randint(40, 100, size=6),\n",
    "               \"Sub3_Score\": np.random.randint(40, 100, size=6)\n",
    "              }\n",
    "\n",
    "scores_df = pd.DataFrame(scores_data)\n",
    "scores_df['Sub4_Score'] = [67, 56, 89, np.nan, 78, None]\n",
    "scores_df"
   ]
  },
  {
   "cell_type": "markdown",
   "id": "5e08bd84",
   "metadata": {},
   "source": [
    "## Statistical methods\n",
    "\n",
    "* `count()`\n",
    "* `sum()`\n",
    "* `mean()`\n",
    "* `std()`\n",
    "* `median()`"
   ]
  },
  {
   "cell_type": "code",
   "execution_count": 3,
   "id": "1c3d6f40",
   "metadata": {},
   "outputs": [
    {
     "data": {
      "text/plain": [
       "Student       6\n",
       "Age           6\n",
       "Sub1_Score    6\n",
       "Sub2_Score    6\n",
       "Sub3_Score    6\n",
       "Sub4_Score    4\n",
       "dtype: int64"
      ]
     },
     "execution_count": 3,
     "metadata": {},
     "output_type": "execute_result"
    }
   ],
   "source": [
    "scores_df.count()"
   ]
  },
  {
   "cell_type": "code",
   "execution_count": 4,
   "id": "ac257bd3",
   "metadata": {},
   "outputs": [
    {
     "data": {
      "text/plain": [
       "Age           22.166667\n",
       "Sub1_Score    65.833333\n",
       "Sub2_Score    68.000000\n",
       "Sub3_Score    71.500000\n",
       "Sub4_Score    72.500000\n",
       "dtype: float64"
      ]
     },
     "execution_count": 4,
     "metadata": {},
     "output_type": "execute_result"
    }
   ],
   "source": [
    "scores_df.mean()"
   ]
  },
  {
   "cell_type": "code",
   "execution_count": 5,
   "id": "99b4ba90",
   "metadata": {},
   "outputs": [
    {
     "data": {
      "text/plain": [
       "Student       TomKateyMakBillTomRahul\n",
       "Age                               133\n",
       "Sub1_Score                        395\n",
       "Sub2_Score                        408\n",
       "Sub3_Score                        429\n",
       "Sub4_Score                      290.0\n",
       "dtype: object"
      ]
     },
     "execution_count": 5,
     "metadata": {},
     "output_type": "execute_result"
    }
   ],
   "source": [
    "scores_df.sum()"
   ]
  },
  {
   "cell_type": "code",
   "execution_count": 6,
   "id": "2b7ba456",
   "metadata": {},
   "outputs": [
    {
     "data": {
      "text/plain": [
       "Age            2.041241\n",
       "Sub1_Score    18.787407\n",
       "Sub2_Score    23.082461\n",
       "Sub3_Score    14.487926\n",
       "Sub4_Score    14.200939\n",
       "dtype: float64"
      ]
     },
     "execution_count": 6,
     "metadata": {},
     "output_type": "execute_result"
    }
   ],
   "source": [
    "scores_df.std()"
   ]
  },
  {
   "cell_type": "code",
   "execution_count": 7,
   "id": "273f27f9",
   "metadata": {},
   "outputs": [
    {
     "data": {
      "text/plain": [
       "Age           22.5\n",
       "Sub1_Score    71.0\n",
       "Sub2_Score    65.5\n",
       "Sub3_Score    74.5\n",
       "Sub4_Score    72.5\n",
       "dtype: float64"
      ]
     },
     "execution_count": 7,
     "metadata": {},
     "output_type": "execute_result"
    }
   ],
   "source": [
    "scores_df.median()"
   ]
  },
  {
   "cell_type": "code",
   "execution_count": 9,
   "id": "e2b02cb8",
   "metadata": {},
   "outputs": [
    {
     "data": {
      "text/plain": [
       "Sub1_Score    65.833333\n",
       "Sub2_Score    68.000000\n",
       "Sub3_Score    71.500000\n",
       "Sub4_Score    72.500000\n",
       "dtype: float64"
      ]
     },
     "execution_count": 9,
     "metadata": {},
     "output_type": "execute_result"
    }
   ],
   "source": [
    "scores_df.iloc[: , 2:].mean()"
   ]
  },
  {
   "cell_type": "markdown",
   "id": "fd28c9dc",
   "metadata": {},
   "source": [
    "## Finding min/max in each column"
   ]
  },
  {
   "cell_type": "code",
   "execution_count": 10,
   "id": "d22a13d4",
   "metadata": {},
   "outputs": [
    {
     "data": {
      "text/plain": [
       "0"
      ]
     },
     "execution_count": 10,
     "metadata": {},
     "output_type": "execute_result"
    }
   ],
   "source": [
    "scores_df['Age'].idxmax()"
   ]
  },
  {
   "cell_type": "code",
   "execution_count": 11,
   "id": "985b8dbc",
   "metadata": {},
   "outputs": [
    {
     "data": {
      "text/plain": [
       "24"
      ]
     },
     "execution_count": 11,
     "metadata": {},
     "output_type": "execute_result"
    }
   ],
   "source": [
    "scores_df['Age'].max()"
   ]
  },
  {
   "cell_type": "code",
   "execution_count": 12,
   "id": "f16adc6b",
   "metadata": {},
   "outputs": [
    {
     "data": {
      "text/plain": [
       "3"
      ]
     },
     "execution_count": 12,
     "metadata": {},
     "output_type": "execute_result"
    }
   ],
   "source": [
    "scores_df['Age'].idxmin()"
   ]
  },
  {
   "cell_type": "code",
   "execution_count": 13,
   "id": "57a69ca0",
   "metadata": {},
   "outputs": [
    {
     "data": {
      "text/plain": [
       "20"
      ]
     },
     "execution_count": 13,
     "metadata": {},
     "output_type": "execute_result"
    }
   ],
   "source": [
    "scores_df['Age'].min()"
   ]
  },
  {
   "cell_type": "markdown",
   "id": "43bf1e06",
   "metadata": {},
   "source": [
    "## Describe your data using one function"
   ]
  },
  {
   "cell_type": "code",
   "execution_count": 14,
   "id": "78cff7a0",
   "metadata": {},
   "outputs": [
    {
     "data": {
      "text/html": [
       "<div>\n",
       "<style scoped>\n",
       "    .dataframe tbody tr th:only-of-type {\n",
       "        vertical-align: middle;\n",
       "    }\n",
       "\n",
       "    .dataframe tbody tr th {\n",
       "        vertical-align: top;\n",
       "    }\n",
       "\n",
       "    .dataframe thead th {\n",
       "        text-align: right;\n",
       "    }\n",
       "</style>\n",
       "<table border=\"1\" class=\"dataframe\">\n",
       "  <thead>\n",
       "    <tr style=\"text-align: right;\">\n",
       "      <th></th>\n",
       "      <th>Age</th>\n",
       "      <th>Sub1_Score</th>\n",
       "      <th>Sub2_Score</th>\n",
       "      <th>Sub3_Score</th>\n",
       "      <th>Sub4_Score</th>\n",
       "    </tr>\n",
       "  </thead>\n",
       "  <tbody>\n",
       "    <tr>\n",
       "      <th>count</th>\n",
       "      <td>6.000000</td>\n",
       "      <td>6.000000</td>\n",
       "      <td>6.000000</td>\n",
       "      <td>6.000000</td>\n",
       "      <td>4.000000</td>\n",
       "    </tr>\n",
       "    <tr>\n",
       "      <th>mean</th>\n",
       "      <td>22.166667</td>\n",
       "      <td>65.833333</td>\n",
       "      <td>68.000000</td>\n",
       "      <td>71.500000</td>\n",
       "      <td>72.500000</td>\n",
       "    </tr>\n",
       "    <tr>\n",
       "      <th>std</th>\n",
       "      <td>2.041241</td>\n",
       "      <td>18.787407</td>\n",
       "      <td>23.082461</td>\n",
       "      <td>14.487926</td>\n",
       "      <td>14.200939</td>\n",
       "    </tr>\n",
       "    <tr>\n",
       "      <th>min</th>\n",
       "      <td>20.000000</td>\n",
       "      <td>41.000000</td>\n",
       "      <td>44.000000</td>\n",
       "      <td>54.000000</td>\n",
       "      <td>56.000000</td>\n",
       "    </tr>\n",
       "    <tr>\n",
       "      <th>25%</th>\n",
       "      <td>20.250000</td>\n",
       "      <td>50.500000</td>\n",
       "      <td>48.500000</td>\n",
       "      <td>58.750000</td>\n",
       "      <td>64.250000</td>\n",
       "    </tr>\n",
       "    <tr>\n",
       "      <th>50%</th>\n",
       "      <td>22.500000</td>\n",
       "      <td>71.000000</td>\n",
       "      <td>65.500000</td>\n",
       "      <td>74.500000</td>\n",
       "      <td>72.500000</td>\n",
       "    </tr>\n",
       "    <tr>\n",
       "      <th>75%</th>\n",
       "      <td>24.000000</td>\n",
       "      <td>80.250000</td>\n",
       "      <td>84.750000</td>\n",
       "      <td>82.750000</td>\n",
       "      <td>80.750000</td>\n",
       "    </tr>\n",
       "    <tr>\n",
       "      <th>max</th>\n",
       "      <td>24.000000</td>\n",
       "      <td>85.000000</td>\n",
       "      <td>99.000000</td>\n",
       "      <td>87.000000</td>\n",
       "      <td>89.000000</td>\n",
       "    </tr>\n",
       "  </tbody>\n",
       "</table>\n",
       "</div>"
      ],
      "text/plain": [
       "             Age  Sub1_Score  Sub2_Score  Sub3_Score  Sub4_Score\n",
       "count   6.000000    6.000000    6.000000    6.000000    4.000000\n",
       "mean   22.166667   65.833333   68.000000   71.500000   72.500000\n",
       "std     2.041241   18.787407   23.082461   14.487926   14.200939\n",
       "min    20.000000   41.000000   44.000000   54.000000   56.000000\n",
       "25%    20.250000   50.500000   48.500000   58.750000   64.250000\n",
       "50%    22.500000   71.000000   65.500000   74.500000   72.500000\n",
       "75%    24.000000   80.250000   84.750000   82.750000   80.750000\n",
       "max    24.000000   85.000000   99.000000   87.000000   89.000000"
      ]
     },
     "execution_count": 14,
     "metadata": {},
     "output_type": "execute_result"
    }
   ],
   "source": [
    "scores_df.describe()"
   ]
  },
  {
   "cell_type": "code",
   "execution_count": 15,
   "id": "339fb293",
   "metadata": {},
   "outputs": [
    {
     "data": {
      "text/html": [
       "<div>\n",
       "<style scoped>\n",
       "    .dataframe tbody tr th:only-of-type {\n",
       "        vertical-align: middle;\n",
       "    }\n",
       "\n",
       "    .dataframe tbody tr th {\n",
       "        vertical-align: top;\n",
       "    }\n",
       "\n",
       "    .dataframe thead th {\n",
       "        text-align: right;\n",
       "    }\n",
       "</style>\n",
       "<table border=\"1\" class=\"dataframe\">\n",
       "  <thead>\n",
       "    <tr style=\"text-align: right;\">\n",
       "      <th></th>\n",
       "      <th>Student</th>\n",
       "    </tr>\n",
       "  </thead>\n",
       "  <tbody>\n",
       "    <tr>\n",
       "      <th>count</th>\n",
       "      <td>6</td>\n",
       "    </tr>\n",
       "    <tr>\n",
       "      <th>unique</th>\n",
       "      <td>5</td>\n",
       "    </tr>\n",
       "    <tr>\n",
       "      <th>top</th>\n",
       "      <td>Tom</td>\n",
       "    </tr>\n",
       "    <tr>\n",
       "      <th>freq</th>\n",
       "      <td>2</td>\n",
       "    </tr>\n",
       "  </tbody>\n",
       "</table>\n",
       "</div>"
      ],
      "text/plain": [
       "       Student\n",
       "count        6\n",
       "unique       5\n",
       "top        Tom\n",
       "freq         2"
      ]
     },
     "execution_count": 15,
     "metadata": {},
     "output_type": "execute_result"
    }
   ],
   "source": [
    "scores_df.describe(include=\"object\")"
   ]
  },
  {
   "cell_type": "code",
   "execution_count": null,
   "id": "81140e42",
   "metadata": {},
   "outputs": [],
   "source": []
  },
  {
   "cell_type": "code",
   "execution_count": null,
   "id": "ecf19752",
   "metadata": {},
   "outputs": [],
   "source": []
  }
 ],
 "metadata": {
  "kernelspec": {
   "display_name": "Python 3",
   "language": "python",
   "name": "python3"
  },
  "language_info": {
   "codemirror_mode": {
    "name": "ipython",
    "version": 3
   },
   "file_extension": ".py",
   "mimetype": "text/x-python",
   "name": "python",
   "nbconvert_exporter": "python",
   "pygments_lexer": "ipython3",
   "version": "3.9.5"
  }
 },
 "nbformat": 4,
 "nbformat_minor": 5
}
