{
 "cells": [
  {
   "cell_type": "markdown",
   "id": "25fd16d3",
   "metadata": {},
   "source": [
    "## Learning Objectives:\n",
    "\n",
    "1. Index of a Dataframe\n",
    "2. Adding new values to specific indices\n",
    "3. Index object in pandas\n",
    "4. Reindexing a dataframe\n",
    "5. Setting and Resetting Index"
   ]
  },
  {
   "cell_type": "code",
   "execution_count": 1,
   "id": "007ea08e",
   "metadata": {},
   "outputs": [],
   "source": [
    "import numpy as np\n",
    "import pandas as pd\n"
   ]
  },
  {
   "cell_type": "code",
   "execution_count": 2,
   "id": "e7f91749",
   "metadata": {},
   "outputs": [
    {
     "data": {
      "text/html": [
       "<div>\n",
       "<style scoped>\n",
       "    .dataframe tbody tr th:only-of-type {\n",
       "        vertical-align: middle;\n",
       "    }\n",
       "\n",
       "    .dataframe tbody tr th {\n",
       "        vertical-align: top;\n",
       "    }\n",
       "\n",
       "    .dataframe thead th {\n",
       "        text-align: right;\n",
       "    }\n",
       "</style>\n",
       "<table border=\"1\" class=\"dataframe\">\n",
       "  <thead>\n",
       "    <tr style=\"text-align: right;\">\n",
       "      <th></th>\n",
       "      <th>Student</th>\n",
       "      <th>Age</th>\n",
       "      <th>Sub1_Score</th>\n",
       "      <th>Sub2_Score</th>\n",
       "      <th>Sub3_Score</th>\n",
       "    </tr>\n",
       "  </thead>\n",
       "  <tbody>\n",
       "    <tr>\n",
       "      <th>0</th>\n",
       "      <td>Tom</td>\n",
       "      <td>22</td>\n",
       "      <td>98</td>\n",
       "      <td>78</td>\n",
       "      <td>66</td>\n",
       "    </tr>\n",
       "    <tr>\n",
       "      <th>1</th>\n",
       "      <td>Katey</td>\n",
       "      <td>22</td>\n",
       "      <td>96</td>\n",
       "      <td>84</td>\n",
       "      <td>80</td>\n",
       "    </tr>\n",
       "    <tr>\n",
       "      <th>2</th>\n",
       "      <td>Mak</td>\n",
       "      <td>23</td>\n",
       "      <td>44</td>\n",
       "      <td>54</td>\n",
       "      <td>90</td>\n",
       "    </tr>\n",
       "    <tr>\n",
       "      <th>3</th>\n",
       "      <td>Bill</td>\n",
       "      <td>21</td>\n",
       "      <td>65</td>\n",
       "      <td>83</td>\n",
       "      <td>51</td>\n",
       "    </tr>\n",
       "    <tr>\n",
       "      <th>4</th>\n",
       "      <td>Rahul</td>\n",
       "      <td>23</td>\n",
       "      <td>41</td>\n",
       "      <td>47</td>\n",
       "      <td>75</td>\n",
       "    </tr>\n",
       "  </tbody>\n",
       "</table>\n",
       "</div>"
      ],
      "text/plain": [
       "  Student  Age  Sub1_Score  Sub2_Score  Sub3_Score\n",
       "0     Tom   22          98          78          66\n",
       "1   Katey   22          96          84          80\n",
       "2     Mak   23          44          54          90\n",
       "3    Bill   21          65          83          51\n",
       "4   Rahul   23          41          47          75"
      ]
     },
     "execution_count": 2,
     "metadata": {},
     "output_type": "execute_result"
    }
   ],
   "source": [
    "##creating a dataframe using dictionary\n",
    "scores_data = {\"Student\": [\"Tom\", \"Katey\", \"Mak\", \"Bill\", \"Rahul\"],\n",
    "               \"Age\": np.random.randint(20, 25, size=5),\n",
    "               \"Sub1_Score\": np.random.randint(40, 100, size=5),\n",
    "               \"Sub2_Score\": np.random.randint(40, 100, size=5),\n",
    "               \"Sub3_Score\": np.random.randint(40, 100, size=5)\n",
    "              }\n",
    "\n",
    "scores_df = pd.DataFrame(scores_data)\n",
    "scores_df"
   ]
  },
  {
   "cell_type": "code",
   "execution_count": 3,
   "id": "389f959c",
   "metadata": {},
   "outputs": [
    {
     "data": {
      "text/plain": [
       "RangeIndex(start=0, stop=5, step=1)"
      ]
     },
     "execution_count": 3,
     "metadata": {},
     "output_type": "execute_result"
    }
   ],
   "source": [
    "scores_df.index"
   ]
  },
  {
   "cell_type": "code",
   "execution_count": 4,
   "id": "7faddb57",
   "metadata": {},
   "outputs": [
    {
     "data": {
      "text/plain": [
       "[0, 1, 2, 3, 4]"
      ]
     },
     "execution_count": 4,
     "metadata": {},
     "output_type": "execute_result"
    }
   ],
   "source": [
    "list(scores_df.index)"
   ]
  },
  {
   "cell_type": "code",
   "execution_count": 5,
   "id": "39892d9b",
   "metadata": {},
   "outputs": [
    {
     "data": {
      "text/html": [
       "<div>\n",
       "<style scoped>\n",
       "    .dataframe tbody tr th:only-of-type {\n",
       "        vertical-align: middle;\n",
       "    }\n",
       "\n",
       "    .dataframe tbody tr th {\n",
       "        vertical-align: top;\n",
       "    }\n",
       "\n",
       "    .dataframe thead th {\n",
       "        text-align: right;\n",
       "    }\n",
       "</style>\n",
       "<table border=\"1\" class=\"dataframe\">\n",
       "  <thead>\n",
       "    <tr style=\"text-align: right;\">\n",
       "      <th></th>\n",
       "      <th>Student</th>\n",
       "      <th>Age</th>\n",
       "      <th>Sub1_Score</th>\n",
       "      <th>Sub2_Score</th>\n",
       "      <th>Sub3_Score</th>\n",
       "    </tr>\n",
       "  </thead>\n",
       "  <tbody>\n",
       "    <tr>\n",
       "      <th>A</th>\n",
       "      <td>Tom</td>\n",
       "      <td>22</td>\n",
       "      <td>98</td>\n",
       "      <td>78</td>\n",
       "      <td>66</td>\n",
       "    </tr>\n",
       "    <tr>\n",
       "      <th>B</th>\n",
       "      <td>Katey</td>\n",
       "      <td>22</td>\n",
       "      <td>96</td>\n",
       "      <td>84</td>\n",
       "      <td>80</td>\n",
       "    </tr>\n",
       "    <tr>\n",
       "      <th>C</th>\n",
       "      <td>Mak</td>\n",
       "      <td>23</td>\n",
       "      <td>44</td>\n",
       "      <td>54</td>\n",
       "      <td>90</td>\n",
       "    </tr>\n",
       "    <tr>\n",
       "      <th>D</th>\n",
       "      <td>Bill</td>\n",
       "      <td>21</td>\n",
       "      <td>65</td>\n",
       "      <td>83</td>\n",
       "      <td>51</td>\n",
       "    </tr>\n",
       "    <tr>\n",
       "      <th>E</th>\n",
       "      <td>Rahul</td>\n",
       "      <td>23</td>\n",
       "      <td>41</td>\n",
       "      <td>47</td>\n",
       "      <td>75</td>\n",
       "    </tr>\n",
       "  </tbody>\n",
       "</table>\n",
       "</div>"
      ],
      "text/plain": [
       "  Student  Age  Sub1_Score  Sub2_Score  Sub3_Score\n",
       "A     Tom   22          98          78          66\n",
       "B   Katey   22          96          84          80\n",
       "C     Mak   23          44          54          90\n",
       "D    Bill   21          65          83          51\n",
       "E   Rahul   23          41          47          75"
      ]
     },
     "execution_count": 5,
     "metadata": {},
     "output_type": "execute_result"
    }
   ],
   "source": [
    "##setting a custom index\n",
    "\n",
    "scores_df.index = ['A', 'B', 'C', 'D', 'E']\n",
    "\n",
    "scores_df"
   ]
  },
  {
   "cell_type": "markdown",
   "id": "eb9bfcac",
   "metadata": {},
   "source": [
    "## Add new values to specific indices"
   ]
  },
  {
   "cell_type": "code",
   "execution_count": 6,
   "id": "0725080d",
   "metadata": {},
   "outputs": [
    {
     "data": {
      "text/html": [
       "<div>\n",
       "<style scoped>\n",
       "    .dataframe tbody tr th:only-of-type {\n",
       "        vertical-align: middle;\n",
       "    }\n",
       "\n",
       "    .dataframe tbody tr th {\n",
       "        vertical-align: top;\n",
       "    }\n",
       "\n",
       "    .dataframe thead th {\n",
       "        text-align: right;\n",
       "    }\n",
       "</style>\n",
       "<table border=\"1\" class=\"dataframe\">\n",
       "  <thead>\n",
       "    <tr style=\"text-align: right;\">\n",
       "      <th></th>\n",
       "      <th>Student</th>\n",
       "      <th>Age</th>\n",
       "      <th>Sub1_Score</th>\n",
       "      <th>Sub2_Score</th>\n",
       "      <th>Sub3_Score</th>\n",
       "      <th>sub4_score</th>\n",
       "    </tr>\n",
       "  </thead>\n",
       "  <tbody>\n",
       "    <tr>\n",
       "      <th>A</th>\n",
       "      <td>Tom</td>\n",
       "      <td>22</td>\n",
       "      <td>98</td>\n",
       "      <td>78</td>\n",
       "      <td>66</td>\n",
       "      <td>NaN</td>\n",
       "    </tr>\n",
       "    <tr>\n",
       "      <th>B</th>\n",
       "      <td>Katey</td>\n",
       "      <td>22</td>\n",
       "      <td>96</td>\n",
       "      <td>84</td>\n",
       "      <td>80</td>\n",
       "      <td>NaN</td>\n",
       "    </tr>\n",
       "    <tr>\n",
       "      <th>C</th>\n",
       "      <td>Mak</td>\n",
       "      <td>23</td>\n",
       "      <td>44</td>\n",
       "      <td>54</td>\n",
       "      <td>90</td>\n",
       "      <td>NaN</td>\n",
       "    </tr>\n",
       "    <tr>\n",
       "      <th>D</th>\n",
       "      <td>Bill</td>\n",
       "      <td>21</td>\n",
       "      <td>65</td>\n",
       "      <td>83</td>\n",
       "      <td>51</td>\n",
       "      <td>NaN</td>\n",
       "    </tr>\n",
       "    <tr>\n",
       "      <th>E</th>\n",
       "      <td>Rahul</td>\n",
       "      <td>23</td>\n",
       "      <td>41</td>\n",
       "      <td>47</td>\n",
       "      <td>75</td>\n",
       "      <td>NaN</td>\n",
       "    </tr>\n",
       "  </tbody>\n",
       "</table>\n",
       "</div>"
      ],
      "text/plain": [
       "  Student  Age  Sub1_Score  Sub2_Score  Sub3_Score  sub4_score\n",
       "A     Tom   22          98          78          66         NaN\n",
       "B   Katey   22          96          84          80         NaN\n",
       "C     Mak   23          44          54          90         NaN\n",
       "D    Bill   21          65          83          51         NaN\n",
       "E   Rahul   23          41          47          75         NaN"
      ]
     },
     "execution_count": 6,
     "metadata": {},
     "output_type": "execute_result"
    }
   ],
   "source": [
    "scores_df['sub4_score'] = np.nan\n",
    "scores_df"
   ]
  },
  {
   "cell_type": "code",
   "execution_count": 7,
   "id": "d52dea02",
   "metadata": {},
   "outputs": [
    {
     "data": {
      "text/html": [
       "<div>\n",
       "<style scoped>\n",
       "    .dataframe tbody tr th:only-of-type {\n",
       "        vertical-align: middle;\n",
       "    }\n",
       "\n",
       "    .dataframe tbody tr th {\n",
       "        vertical-align: top;\n",
       "    }\n",
       "\n",
       "    .dataframe thead th {\n",
       "        text-align: right;\n",
       "    }\n",
       "</style>\n",
       "<table border=\"1\" class=\"dataframe\">\n",
       "  <thead>\n",
       "    <tr style=\"text-align: right;\">\n",
       "      <th></th>\n",
       "      <th>Student</th>\n",
       "      <th>Age</th>\n",
       "      <th>Sub1_Score</th>\n",
       "      <th>Sub2_Score</th>\n",
       "      <th>Sub3_Score</th>\n",
       "      <th>sub4_score</th>\n",
       "    </tr>\n",
       "  </thead>\n",
       "  <tbody>\n",
       "    <tr>\n",
       "      <th>A</th>\n",
       "      <td>Tom</td>\n",
       "      <td>22</td>\n",
       "      <td>98</td>\n",
       "      <td>78</td>\n",
       "      <td>66</td>\n",
       "      <td>NaN</td>\n",
       "    </tr>\n",
       "    <tr>\n",
       "      <th>B</th>\n",
       "      <td>Katey</td>\n",
       "      <td>22</td>\n",
       "      <td>96</td>\n",
       "      <td>84</td>\n",
       "      <td>80</td>\n",
       "      <td>98.0</td>\n",
       "    </tr>\n",
       "    <tr>\n",
       "      <th>C</th>\n",
       "      <td>Mak</td>\n",
       "      <td>23</td>\n",
       "      <td>44</td>\n",
       "      <td>54</td>\n",
       "      <td>90</td>\n",
       "      <td>NaN</td>\n",
       "    </tr>\n",
       "    <tr>\n",
       "      <th>D</th>\n",
       "      <td>Bill</td>\n",
       "      <td>21</td>\n",
       "      <td>65</td>\n",
       "      <td>83</td>\n",
       "      <td>51</td>\n",
       "      <td>78.0</td>\n",
       "    </tr>\n",
       "    <tr>\n",
       "      <th>E</th>\n",
       "      <td>Rahul</td>\n",
       "      <td>23</td>\n",
       "      <td>41</td>\n",
       "      <td>47</td>\n",
       "      <td>75</td>\n",
       "      <td>65.0</td>\n",
       "    </tr>\n",
       "  </tbody>\n",
       "</table>\n",
       "</div>"
      ],
      "text/plain": [
       "  Student  Age  Sub1_Score  Sub2_Score  Sub3_Score  sub4_score\n",
       "A     Tom   22          98          78          66         NaN\n",
       "B   Katey   22          96          84          80        98.0\n",
       "C     Mak   23          44          54          90         NaN\n",
       "D    Bill   21          65          83          51        78.0\n",
       "E   Rahul   23          41          47          75        65.0"
      ]
     },
     "execution_count": 7,
     "metadata": {},
     "output_type": "execute_result"
    }
   ],
   "source": [
    "## some of the scores for sub4 has come in\n",
    "\n",
    "scores_df['sub4_score'] = pd.Series([98, 78, 65], index=['B', 'D', 'E'])\n",
    "scores_df"
   ]
  },
  {
   "cell_type": "code",
   "execution_count": 8,
   "id": "5746a16e",
   "metadata": {},
   "outputs": [
    {
     "data": {
      "text/plain": [
       "Int64Index([0, 1, 2, 3, 4], dtype='int64')"
      ]
     },
     "execution_count": 8,
     "metadata": {},
     "output_type": "execute_result"
    }
   ],
   "source": [
    "index = pd.Index(np.arange(5))\n",
    "index"
   ]
  },
  {
   "cell_type": "code",
   "execution_count": 11,
   "id": "d4ae22d5",
   "metadata": {},
   "outputs": [
    {
     "ename": "TypeError",
     "evalue": "Index does not support mutable operations",
     "output_type": "error",
     "traceback": [
      "\u001b[0;31m---------------------------------------------------------------------------\u001b[0m",
      "\u001b[0;31mTypeError\u001b[0m                                 Traceback (most recent call last)",
      "\u001b[0;32m<ipython-input-11-bdbf8b003221>\u001b[0m in \u001b[0;36m<module>\u001b[0;34m\u001b[0m\n\u001b[0;32m----> 1\u001b[0;31m \u001b[0mindex\u001b[0m\u001b[0;34m[\u001b[0m\u001b[0;36m3\u001b[0m\u001b[0;34m]\u001b[0m \u001b[0;34m=\u001b[0m \u001b[0;34m'A'\u001b[0m\u001b[0;34m\u001b[0m\u001b[0;34m\u001b[0m\u001b[0m\n\u001b[0m",
      "\u001b[0;32m~/pms_for_ml/pms_env/lib/python3.9/site-packages/pandas/core/indexes/base.py\u001b[0m in \u001b[0;36m__setitem__\u001b[0;34m(self, key, value)\u001b[0m\n\u001b[1;32m   4275\u001b[0m     \u001b[0;34m@\u001b[0m\u001b[0mfinal\u001b[0m\u001b[0;34m\u001b[0m\u001b[0;34m\u001b[0m\u001b[0m\n\u001b[1;32m   4276\u001b[0m     \u001b[0;32mdef\u001b[0m \u001b[0m__setitem__\u001b[0m\u001b[0;34m(\u001b[0m\u001b[0mself\u001b[0m\u001b[0;34m,\u001b[0m \u001b[0mkey\u001b[0m\u001b[0;34m,\u001b[0m \u001b[0mvalue\u001b[0m\u001b[0;34m)\u001b[0m\u001b[0;34m:\u001b[0m\u001b[0;34m\u001b[0m\u001b[0;34m\u001b[0m\u001b[0m\n\u001b[0;32m-> 4277\u001b[0;31m         \u001b[0;32mraise\u001b[0m \u001b[0mTypeError\u001b[0m\u001b[0;34m(\u001b[0m\u001b[0;34m\"Index does not support mutable operations\"\u001b[0m\u001b[0;34m)\u001b[0m\u001b[0;34m\u001b[0m\u001b[0;34m\u001b[0m\u001b[0m\n\u001b[0m\u001b[1;32m   4278\u001b[0m \u001b[0;34m\u001b[0m\u001b[0m\n\u001b[1;32m   4279\u001b[0m     \u001b[0;32mdef\u001b[0m \u001b[0m__getitem__\u001b[0m\u001b[0;34m(\u001b[0m\u001b[0mself\u001b[0m\u001b[0;34m,\u001b[0m \u001b[0mkey\u001b[0m\u001b[0;34m)\u001b[0m\u001b[0;34m:\u001b[0m\u001b[0;34m\u001b[0m\u001b[0;34m\u001b[0m\u001b[0m\n",
      "\u001b[0;31mTypeError\u001b[0m: Index does not support mutable operations"
     ]
    }
   ],
   "source": [
    "index[3] = 'A'"
   ]
  },
  {
   "cell_type": "code",
   "execution_count": 12,
   "id": "71b6f561",
   "metadata": {},
   "outputs": [
    {
     "data": {
      "text/html": [
       "<div>\n",
       "<style scoped>\n",
       "    .dataframe tbody tr th:only-of-type {\n",
       "        vertical-align: middle;\n",
       "    }\n",
       "\n",
       "    .dataframe tbody tr th {\n",
       "        vertical-align: top;\n",
       "    }\n",
       "\n",
       "    .dataframe thead th {\n",
       "        text-align: right;\n",
       "    }\n",
       "</style>\n",
       "<table border=\"1\" class=\"dataframe\">\n",
       "  <thead>\n",
       "    <tr style=\"text-align: right;\">\n",
       "      <th></th>\n",
       "      <th>Student</th>\n",
       "      <th>Age</th>\n",
       "      <th>Sub1_Score</th>\n",
       "      <th>Sub2_Score</th>\n",
       "      <th>Sub3_Score</th>\n",
       "      <th>sub4_score</th>\n",
       "    </tr>\n",
       "  </thead>\n",
       "  <tbody>\n",
       "    <tr>\n",
       "      <th>0</th>\n",
       "      <td>Tom</td>\n",
       "      <td>22</td>\n",
       "      <td>98</td>\n",
       "      <td>78</td>\n",
       "      <td>66</td>\n",
       "      <td>NaN</td>\n",
       "    </tr>\n",
       "    <tr>\n",
       "      <th>1</th>\n",
       "      <td>Katey</td>\n",
       "      <td>22</td>\n",
       "      <td>96</td>\n",
       "      <td>84</td>\n",
       "      <td>80</td>\n",
       "      <td>98.0</td>\n",
       "    </tr>\n",
       "    <tr>\n",
       "      <th>2</th>\n",
       "      <td>Mak</td>\n",
       "      <td>23</td>\n",
       "      <td>44</td>\n",
       "      <td>54</td>\n",
       "      <td>90</td>\n",
       "      <td>NaN</td>\n",
       "    </tr>\n",
       "    <tr>\n",
       "      <th>3</th>\n",
       "      <td>Bill</td>\n",
       "      <td>21</td>\n",
       "      <td>65</td>\n",
       "      <td>83</td>\n",
       "      <td>51</td>\n",
       "      <td>78.0</td>\n",
       "    </tr>\n",
       "    <tr>\n",
       "      <th>4</th>\n",
       "      <td>Rahul</td>\n",
       "      <td>23</td>\n",
       "      <td>41</td>\n",
       "      <td>47</td>\n",
       "      <td>75</td>\n",
       "      <td>65.0</td>\n",
       "    </tr>\n",
       "  </tbody>\n",
       "</table>\n",
       "</div>"
      ],
      "text/plain": [
       "  Student  Age  Sub1_Score  Sub2_Score  Sub3_Score  sub4_score\n",
       "0     Tom   22          98          78          66         NaN\n",
       "1   Katey   22          96          84          80        98.0\n",
       "2     Mak   23          44          54          90         NaN\n",
       "3    Bill   21          65          83          51        78.0\n",
       "4   Rahul   23          41          47          75        65.0"
      ]
     },
     "execution_count": 12,
     "metadata": {},
     "output_type": "execute_result"
    }
   ],
   "source": [
    "scores_df.index = index\n",
    "scores_df"
   ]
  },
  {
   "cell_type": "code",
   "execution_count": 14,
   "id": "e2feb9e8",
   "metadata": {},
   "outputs": [
    {
     "data": {
      "text/plain": [
       "True"
      ]
     },
     "execution_count": 14,
     "metadata": {},
     "output_type": "execute_result"
    }
   ],
   "source": [
    "'Student' in scores_df.columns"
   ]
  },
  {
   "cell_type": "code",
   "execution_count": 15,
   "id": "997d97f6",
   "metadata": {},
   "outputs": [
    {
     "data": {
      "text/plain": [
       "Index(['Names', 'Sub1_Score', 'Sub6_Score'], dtype='object')"
      ]
     },
     "execution_count": 15,
     "metadata": {},
     "output_type": "execute_result"
    }
   ],
   "source": [
    "dummy_cols = pd.Index(['Names', 'Sub1_Score', 'Sub6_Score'])\n",
    "dummy_cols"
   ]
  },
  {
   "cell_type": "code",
   "execution_count": 16,
   "id": "df82bb71",
   "metadata": {},
   "outputs": [
    {
     "data": {
      "text/plain": [
       "Index(['Student', 'Age', 'Sub1_Score', 'Sub2_Score', 'Sub3_Score',\n",
       "       'sub4_score'],\n",
       "      dtype='object')"
      ]
     },
     "execution_count": 16,
     "metadata": {},
     "output_type": "execute_result"
    }
   ],
   "source": [
    "cols = scores_df.columns\n",
    "cols"
   ]
  },
  {
   "cell_type": "code",
   "execution_count": 17,
   "id": "022d375b",
   "metadata": {},
   "outputs": [
    {
     "data": {
      "text/plain": [
       "Index(['Sub1_Score'], dtype='object')"
      ]
     },
     "execution_count": 17,
     "metadata": {},
     "output_type": "execute_result"
    }
   ],
   "source": [
    "dummy_cols.intersection(cols)"
   ]
  },
  {
   "cell_type": "code",
   "execution_count": 18,
   "id": "c6c76dd6",
   "metadata": {},
   "outputs": [
    {
     "data": {
      "text/plain": [
       "Index(['Age', 'Names', 'Student', 'Sub1_Score', 'Sub2_Score', 'Sub3_Score',\n",
       "       'Sub6_Score', 'sub4_score'],\n",
       "      dtype='object')"
      ]
     },
     "execution_count": 18,
     "metadata": {},
     "output_type": "execute_result"
    }
   ],
   "source": [
    "dummy_cols.union(cols)"
   ]
  },
  {
   "cell_type": "markdown",
   "id": "c0357448",
   "metadata": {},
   "source": [
    "## Setting and resetting index\n"
   ]
  },
  {
   "cell_type": "code",
   "execution_count": 19,
   "id": "b6efe293",
   "metadata": {},
   "outputs": [
    {
     "data": {
      "text/html": [
       "<div>\n",
       "<style scoped>\n",
       "    .dataframe tbody tr th:only-of-type {\n",
       "        vertical-align: middle;\n",
       "    }\n",
       "\n",
       "    .dataframe tbody tr th {\n",
       "        vertical-align: top;\n",
       "    }\n",
       "\n",
       "    .dataframe thead th {\n",
       "        text-align: right;\n",
       "    }\n",
       "</style>\n",
       "<table border=\"1\" class=\"dataframe\">\n",
       "  <thead>\n",
       "    <tr style=\"text-align: right;\">\n",
       "      <th></th>\n",
       "      <th>Age</th>\n",
       "      <th>Sub1_Score</th>\n",
       "      <th>Sub2_Score</th>\n",
       "      <th>Sub3_Score</th>\n",
       "      <th>sub4_score</th>\n",
       "    </tr>\n",
       "    <tr>\n",
       "      <th>Student</th>\n",
       "      <th></th>\n",
       "      <th></th>\n",
       "      <th></th>\n",
       "      <th></th>\n",
       "      <th></th>\n",
       "    </tr>\n",
       "  </thead>\n",
       "  <tbody>\n",
       "    <tr>\n",
       "      <th>Tom</th>\n",
       "      <td>22</td>\n",
       "      <td>98</td>\n",
       "      <td>78</td>\n",
       "      <td>66</td>\n",
       "      <td>NaN</td>\n",
       "    </tr>\n",
       "    <tr>\n",
       "      <th>Katey</th>\n",
       "      <td>22</td>\n",
       "      <td>96</td>\n",
       "      <td>84</td>\n",
       "      <td>80</td>\n",
       "      <td>98.0</td>\n",
       "    </tr>\n",
       "    <tr>\n",
       "      <th>Mak</th>\n",
       "      <td>23</td>\n",
       "      <td>44</td>\n",
       "      <td>54</td>\n",
       "      <td>90</td>\n",
       "      <td>NaN</td>\n",
       "    </tr>\n",
       "    <tr>\n",
       "      <th>Bill</th>\n",
       "      <td>21</td>\n",
       "      <td>65</td>\n",
       "      <td>83</td>\n",
       "      <td>51</td>\n",
       "      <td>78.0</td>\n",
       "    </tr>\n",
       "    <tr>\n",
       "      <th>Rahul</th>\n",
       "      <td>23</td>\n",
       "      <td>41</td>\n",
       "      <td>47</td>\n",
       "      <td>75</td>\n",
       "      <td>65.0</td>\n",
       "    </tr>\n",
       "  </tbody>\n",
       "</table>\n",
       "</div>"
      ],
      "text/plain": [
       "         Age  Sub1_Score  Sub2_Score  Sub3_Score  sub4_score\n",
       "Student                                                     \n",
       "Tom       22          98          78          66         NaN\n",
       "Katey     22          96          84          80        98.0\n",
       "Mak       23          44          54          90         NaN\n",
       "Bill      21          65          83          51        78.0\n",
       "Rahul     23          41          47          75        65.0"
      ]
     },
     "execution_count": 19,
     "metadata": {},
     "output_type": "execute_result"
    }
   ],
   "source": [
    "scores_df = scores_df.set_index('Student')\n",
    "scores_df"
   ]
  },
  {
   "cell_type": "code",
   "execution_count": 20,
   "id": "dc3e92c0",
   "metadata": {},
   "outputs": [
    {
     "data": {
      "text/html": [
       "<div>\n",
       "<style scoped>\n",
       "    .dataframe tbody tr th:only-of-type {\n",
       "        vertical-align: middle;\n",
       "    }\n",
       "\n",
       "    .dataframe tbody tr th {\n",
       "        vertical-align: top;\n",
       "    }\n",
       "\n",
       "    .dataframe thead th {\n",
       "        text-align: right;\n",
       "    }\n",
       "</style>\n",
       "<table border=\"1\" class=\"dataframe\">\n",
       "  <thead>\n",
       "    <tr style=\"text-align: right;\">\n",
       "      <th></th>\n",
       "      <th>Student</th>\n",
       "      <th>Age</th>\n",
       "      <th>Sub1_Score</th>\n",
       "      <th>Sub2_Score</th>\n",
       "      <th>Sub3_Score</th>\n",
       "      <th>sub4_score</th>\n",
       "    </tr>\n",
       "  </thead>\n",
       "  <tbody>\n",
       "    <tr>\n",
       "      <th>0</th>\n",
       "      <td>Tom</td>\n",
       "      <td>22</td>\n",
       "      <td>98</td>\n",
       "      <td>78</td>\n",
       "      <td>66</td>\n",
       "      <td>NaN</td>\n",
       "    </tr>\n",
       "    <tr>\n",
       "      <th>1</th>\n",
       "      <td>Katey</td>\n",
       "      <td>22</td>\n",
       "      <td>96</td>\n",
       "      <td>84</td>\n",
       "      <td>80</td>\n",
       "      <td>98.0</td>\n",
       "    </tr>\n",
       "    <tr>\n",
       "      <th>2</th>\n",
       "      <td>Mak</td>\n",
       "      <td>23</td>\n",
       "      <td>44</td>\n",
       "      <td>54</td>\n",
       "      <td>90</td>\n",
       "      <td>NaN</td>\n",
       "    </tr>\n",
       "    <tr>\n",
       "      <th>3</th>\n",
       "      <td>Bill</td>\n",
       "      <td>21</td>\n",
       "      <td>65</td>\n",
       "      <td>83</td>\n",
       "      <td>51</td>\n",
       "      <td>78.0</td>\n",
       "    </tr>\n",
       "    <tr>\n",
       "      <th>4</th>\n",
       "      <td>Rahul</td>\n",
       "      <td>23</td>\n",
       "      <td>41</td>\n",
       "      <td>47</td>\n",
       "      <td>75</td>\n",
       "      <td>65.0</td>\n",
       "    </tr>\n",
       "  </tbody>\n",
       "</table>\n",
       "</div>"
      ],
      "text/plain": [
       "  Student  Age  Sub1_Score  Sub2_Score  Sub3_Score  sub4_score\n",
       "0     Tom   22          98          78          66         NaN\n",
       "1   Katey   22          96          84          80        98.0\n",
       "2     Mak   23          44          54          90         NaN\n",
       "3    Bill   21          65          83          51        78.0\n",
       "4   Rahul   23          41          47          75        65.0"
      ]
     },
     "execution_count": 20,
     "metadata": {},
     "output_type": "execute_result"
    }
   ],
   "source": [
    "scores_df = scores_df.reset_index(drop=False)\n",
    "scores_df"
   ]
  },
  {
   "cell_type": "code",
   "execution_count": null,
   "id": "e6a16744",
   "metadata": {},
   "outputs": [],
   "source": []
  },
  {
   "cell_type": "code",
   "execution_count": null,
   "id": "e3c7f0f9",
   "metadata": {},
   "outputs": [],
   "source": []
  },
  {
   "cell_type": "code",
   "execution_count": null,
   "id": "430a6f2d",
   "metadata": {},
   "outputs": [],
   "source": []
  },
  {
   "cell_type": "code",
   "execution_count": null,
   "id": "65256826",
   "metadata": {},
   "outputs": [],
   "source": []
  },
  {
   "cell_type": "code",
   "execution_count": null,
   "id": "c58b1681",
   "metadata": {},
   "outputs": [],
   "source": []
  }
 ],
 "metadata": {
  "kernelspec": {
   "display_name": "Python 3",
   "language": "python",
   "name": "python3"
  },
  "language_info": {
   "codemirror_mode": {
    "name": "ipython",
    "version": 3
   },
   "file_extension": ".py",
   "mimetype": "text/x-python",
   "name": "python",
   "nbconvert_exporter": "python",
   "pygments_lexer": "ipython3",
   "version": "3.9.5"
  }
 },
 "nbformat": 4,
 "nbformat_minor": 5
}
