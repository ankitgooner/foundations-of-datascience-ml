{
 "cells": [
  {
   "cell_type": "markdown",
   "id": "e5966532",
   "metadata": {},
   "source": [
    "## Learning Objectives:\n",
    "\n",
    "* Introduction to pandas special data structures - series\n",
    "* How to define series\n",
    "* Working with series along with NumPy ."
   ]
  },
  {
   "cell_type": "code",
   "execution_count": 17,
   "id": "915b7a10",
   "metadata": {},
   "outputs": [],
   "source": [
    "import numpy as np\n",
    "import pandas as pd"
   ]
  },
  {
   "cell_type": "markdown",
   "id": "27c160df",
   "metadata": {},
   "source": [
    "## Creating series"
   ]
  },
  {
   "cell_type": "code",
   "execution_count": 2,
   "id": "e7283f96",
   "metadata": {},
   "outputs": [
    {
     "data": {
      "text/plain": [
       "0    2\n",
       "1    3\n",
       "2    4\n",
       "3    5\n",
       "4    6\n",
       "dtype: int64"
      ]
     },
     "execution_count": 2,
     "metadata": {},
     "output_type": "execute_result"
    }
   ],
   "source": [
    "ser1 = pd.Series([2,3,4,5,6])\n",
    "ser1"
   ]
  },
  {
   "cell_type": "code",
   "execution_count": 3,
   "id": "82dc5023",
   "metadata": {},
   "outputs": [
    {
     "data": {
      "text/plain": [
       "pandas.core.series.Series"
      ]
     },
     "execution_count": 3,
     "metadata": {},
     "output_type": "execute_result"
    }
   ],
   "source": [
    "type(ser1)"
   ]
  },
  {
   "cell_type": "code",
   "execution_count": 4,
   "id": "fb081557",
   "metadata": {},
   "outputs": [
    {
     "data": {
      "text/plain": [
       "RangeIndex(start=0, stop=5, step=1)"
      ]
     },
     "execution_count": 4,
     "metadata": {},
     "output_type": "execute_result"
    }
   ],
   "source": [
    "ser1.index"
   ]
  },
  {
   "cell_type": "code",
   "execution_count": 5,
   "id": "442c185c",
   "metadata": {},
   "outputs": [
    {
     "data": {
      "text/plain": [
       "array([2, 3, 4, 5, 6])"
      ]
     },
     "execution_count": 5,
     "metadata": {},
     "output_type": "execute_result"
    }
   ],
   "source": [
    "ser1.values"
   ]
  },
  {
   "cell_type": "code",
   "execution_count": 6,
   "id": "2c8469d0",
   "metadata": {},
   "outputs": [
    {
     "data": {
      "text/plain": [
       "numpy.ndarray"
      ]
     },
     "execution_count": 6,
     "metadata": {},
     "output_type": "execute_result"
    }
   ],
   "source": [
    "type(ser1.values)"
   ]
  },
  {
   "cell_type": "code",
   "execution_count": 7,
   "id": "7df171ef",
   "metadata": {},
   "outputs": [],
   "source": [
    "##creating a series with index\n",
    "\n",
    "scores = pd.Series([100, 200, 300, 400, 500],\n",
    "                  index=['s1', 's2', 's3', 's4', 's5'])\n"
   ]
  },
  {
   "cell_type": "code",
   "execution_count": 8,
   "id": "c2196207",
   "metadata": {},
   "outputs": [
    {
     "data": {
      "text/plain": [
       "s1    100\n",
       "s2    200\n",
       "s3    300\n",
       "s4    400\n",
       "s5    500\n",
       "dtype: int64"
      ]
     },
     "execution_count": 8,
     "metadata": {},
     "output_type": "execute_result"
    }
   ],
   "source": [
    "scores"
   ]
  },
  {
   "cell_type": "code",
   "execution_count": 9,
   "id": "971a1e59",
   "metadata": {},
   "outputs": [
    {
     "data": {
      "text/plain": [
       "Index(['s1', 's2', 's3', 's4', 's5'], dtype='object')"
      ]
     },
     "execution_count": 9,
     "metadata": {},
     "output_type": "execute_result"
    }
   ],
   "source": [
    "scores.index"
   ]
  },
  {
   "cell_type": "code",
   "execution_count": 10,
   "id": "7cf698cf",
   "metadata": {},
   "outputs": [
    {
     "data": {
      "text/plain": [
       "array([100, 200, 300, 400, 500])"
      ]
     },
     "execution_count": 10,
     "metadata": {},
     "output_type": "execute_result"
    }
   ],
   "source": [
    "scores.values"
   ]
  },
  {
   "cell_type": "code",
   "execution_count": 11,
   "id": "ad5650a4",
   "metadata": {},
   "outputs": [
    {
     "data": {
      "text/plain": [
       "200"
      ]
     },
     "execution_count": 11,
     "metadata": {},
     "output_type": "execute_result"
    }
   ],
   "source": [
    "scores[1]"
   ]
  },
  {
   "cell_type": "code",
   "execution_count": 12,
   "id": "7027ab45",
   "metadata": {},
   "outputs": [
    {
     "data": {
      "text/plain": [
       "200"
      ]
     },
     "execution_count": 12,
     "metadata": {},
     "output_type": "execute_result"
    }
   ],
   "source": [
    "scores['s2']"
   ]
  },
  {
   "cell_type": "code",
   "execution_count": 13,
   "id": "8d32975f",
   "metadata": {},
   "outputs": [
    {
     "data": {
      "text/plain": [
       "s1    False\n",
       "s2    False\n",
       "s3     True\n",
       "s4     True\n",
       "s5     True\n",
       "dtype: bool"
      ]
     },
     "execution_count": 13,
     "metadata": {},
     "output_type": "execute_result"
    }
   ],
   "source": [
    "scores > 250"
   ]
  },
  {
   "cell_type": "code",
   "execution_count": 14,
   "id": "2f6964e0",
   "metadata": {},
   "outputs": [
    {
     "data": {
      "text/plain": [
       "s3    300\n",
       "s4    400\n",
       "s5    500\n",
       "dtype: int64"
      ]
     },
     "execution_count": 14,
     "metadata": {},
     "output_type": "execute_result"
    }
   ],
   "source": [
    "scores[scores > 250]"
   ]
  },
  {
   "cell_type": "code",
   "execution_count": 15,
   "id": "ed7214da",
   "metadata": {},
   "outputs": [
    {
     "data": {
      "text/plain": [
       "s1     5.0\n",
       "s2    10.0\n",
       "s3    15.0\n",
       "s4    20.0\n",
       "s5    25.0\n",
       "dtype: float64"
      ]
     },
     "execution_count": 15,
     "metadata": {},
     "output_type": "execute_result"
    }
   ],
   "source": [
    "## perform arithmetic operations\n",
    "(scores * 5)/100\n"
   ]
  },
  {
   "cell_type": "code",
   "execution_count": 18,
   "id": "e7162708",
   "metadata": {},
   "outputs": [
    {
     "data": {
      "text/plain": [
       "s1   -0.506366\n",
       "s2   -0.873297\n",
       "s3   -0.999756\n",
       "s4   -0.850919\n",
       "s5   -0.467772\n",
       "dtype: float64"
      ]
     },
     "execution_count": 18,
     "metadata": {},
     "output_type": "execute_result"
    }
   ],
   "source": [
    "np.sin(scores)"
   ]
  },
  {
   "cell_type": "code",
   "execution_count": 19,
   "id": "e9315288",
   "metadata": {},
   "outputs": [
    {
     "data": {
      "text/plain": [
       "s1    4.605170\n",
       "s2    5.298317\n",
       "s3    5.703782\n",
       "s4    5.991465\n",
       "s5    6.214608\n",
       "dtype: float64"
      ]
     },
     "execution_count": 19,
     "metadata": {},
     "output_type": "execute_result"
    }
   ],
   "source": [
    "np.log(scores)"
   ]
  },
  {
   "cell_type": "code",
   "execution_count": 20,
   "id": "412a376a",
   "metadata": {},
   "outputs": [
    {
     "data": {
      "text/plain": [
       "s1    100\n",
       "s2    200\n",
       "s3    300\n",
       "s4    400\n",
       "s5    500\n",
       "dtype: int64"
      ]
     },
     "execution_count": 20,
     "metadata": {},
     "output_type": "execute_result"
    }
   ],
   "source": [
    "scores"
   ]
  },
  {
   "cell_type": "code",
   "execution_count": 21,
   "id": "1d7689c6",
   "metadata": {},
   "outputs": [
    {
     "data": {
      "text/plain": [
       "s1    100\n",
       "s2    200\n",
       "s3    150\n",
       "s4    400\n",
       "s5    500\n",
       "dtype: int64"
      ]
     },
     "execution_count": 21,
     "metadata": {},
     "output_type": "execute_result"
    }
   ],
   "source": [
    "scores['s3'] = 150\n",
    "scores"
   ]
  },
  {
   "cell_type": "code",
   "execution_count": 23,
   "id": "36df828d",
   "metadata": {},
   "outputs": [
    {
     "data": {
      "text/plain": [
       "True"
      ]
     },
     "execution_count": 23,
     "metadata": {},
     "output_type": "execute_result"
    }
   ],
   "source": [
    "'s3' in scores"
   ]
  },
  {
   "cell_type": "code",
   "execution_count": 24,
   "id": "71767313",
   "metadata": {},
   "outputs": [
    {
     "data": {
      "text/plain": [
       "{'laptop': 1500, 'bag': 50, 'TV': 300, 'speakers': 400}"
      ]
     },
     "execution_count": 24,
     "metadata": {},
     "output_type": "execute_result"
    }
   ],
   "source": [
    "inventory = {'laptop': 1500, 'bag': 50, 'TV': 300, 'speakers': 400}\n",
    "inventory"
   ]
  },
  {
   "cell_type": "code",
   "execution_count": 25,
   "id": "13f3a27b",
   "metadata": {},
   "outputs": [
    {
     "data": {
      "text/plain": [
       "laptop      1500\n",
       "bag           50\n",
       "TV           300\n",
       "speakers     400\n",
       "dtype: int64"
      ]
     },
     "execution_count": 25,
     "metadata": {},
     "output_type": "execute_result"
    }
   ],
   "source": [
    "inventory_ser = pd.Series(inventory)\n",
    "inventory_ser"
   ]
  },
  {
   "cell_type": "code",
   "execution_count": 26,
   "id": "41c69542",
   "metadata": {},
   "outputs": [
    {
     "data": {
      "text/plain": [
       "array([1500,   50,  300,  400])"
      ]
     },
     "execution_count": 26,
     "metadata": {},
     "output_type": "execute_result"
    }
   ],
   "source": [
    "inventory_ser.values"
   ]
  },
  {
   "cell_type": "code",
   "execution_count": 27,
   "id": "b29e42ce",
   "metadata": {},
   "outputs": [
    {
     "data": {
      "text/plain": [
       "laptop      1500\n",
       "bag           50\n",
       "TV           300\n",
       "speakers     400\n",
       "keyboard    None\n",
       "dtype: object"
      ]
     },
     "execution_count": 27,
     "metadata": {},
     "output_type": "execute_result"
    }
   ],
   "source": [
    "inventory_ser['keyboard'] = None\n",
    "inventory_ser"
   ]
  },
  {
   "cell_type": "code",
   "execution_count": 28,
   "id": "56711b90",
   "metadata": {},
   "outputs": [
    {
     "data": {
      "text/plain": [
       "laptop      False\n",
       "bag         False\n",
       "TV          False\n",
       "speakers    False\n",
       "keyboard     True\n",
       "dtype: bool"
      ]
     },
     "execution_count": 28,
     "metadata": {},
     "output_type": "execute_result"
    }
   ],
   "source": [
    "inventory_ser.isnull()"
   ]
  },
  {
   "cell_type": "code",
   "execution_count": 29,
   "id": "662212f3",
   "metadata": {},
   "outputs": [
    {
     "data": {
      "text/plain": [
       "keyboard    None\n",
       "dtype: object"
      ]
     },
     "execution_count": 29,
     "metadata": {},
     "output_type": "execute_result"
    }
   ],
   "source": [
    "inventory_ser[inventory_ser.isnull()]"
   ]
  },
  {
   "cell_type": "code",
   "execution_count": null,
   "id": "f0f5a19a",
   "metadata": {},
   "outputs": [],
   "source": []
  },
  {
   "cell_type": "code",
   "execution_count": null,
   "id": "2682f07d",
   "metadata": {},
   "outputs": [],
   "source": []
  },
  {
   "cell_type": "code",
   "execution_count": null,
   "id": "f650334a",
   "metadata": {},
   "outputs": [],
   "source": []
  }
 ],
 "metadata": {
  "kernelspec": {
   "display_name": "Python 3",
   "language": "python",
   "name": "python3"
  },
  "language_info": {
   "codemirror_mode": {
    "name": "ipython",
    "version": 3
   },
   "file_extension": ".py",
   "mimetype": "text/x-python",
   "name": "python",
   "nbconvert_exporter": "python",
   "pygments_lexer": "ipython3",
   "version": "3.9.5"
  }
 },
 "nbformat": 4,
 "nbformat_minor": 5
}
