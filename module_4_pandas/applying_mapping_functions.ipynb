{
 "cells": [
  {
   "cell_type": "markdown",
   "id": "51302de7",
   "metadata": {},
   "source": [
    "# Learning Objectives\n",
    "\n",
    "1. Applying NumPy functions\n",
    "2. Applying lambda functions\n",
    "3. Applying regular python functions\n",
    "4. Mapping a function to a dataframe"
   ]
  },
  {
   "cell_type": "code",
   "execution_count": 1,
   "id": "d67eafc5",
   "metadata": {},
   "outputs": [],
   "source": [
    "import numpy as np\n",
    "import pandas as pd"
   ]
  },
  {
   "cell_type": "code",
   "execution_count": 2,
   "id": "ff9973ed",
   "metadata": {},
   "outputs": [
    {
     "data": {
      "text/html": [
       "<div>\n",
       "<style scoped>\n",
       "    .dataframe tbody tr th:only-of-type {\n",
       "        vertical-align: middle;\n",
       "    }\n",
       "\n",
       "    .dataframe tbody tr th {\n",
       "        vertical-align: top;\n",
       "    }\n",
       "\n",
       "    .dataframe thead th {\n",
       "        text-align: right;\n",
       "    }\n",
       "</style>\n",
       "<table border=\"1\" class=\"dataframe\">\n",
       "  <thead>\n",
       "    <tr style=\"text-align: right;\">\n",
       "      <th></th>\n",
       "      <th>Student</th>\n",
       "      <th>Age</th>\n",
       "      <th>Sub1_Score</th>\n",
       "      <th>Sub2_Score</th>\n",
       "      <th>Sub3_Score</th>\n",
       "    </tr>\n",
       "  </thead>\n",
       "  <tbody>\n",
       "    <tr>\n",
       "      <th>0</th>\n",
       "      <td>Tom</td>\n",
       "      <td>23</td>\n",
       "      <td>50</td>\n",
       "      <td>56</td>\n",
       "      <td>70</td>\n",
       "    </tr>\n",
       "    <tr>\n",
       "      <th>1</th>\n",
       "      <td>Katey</td>\n",
       "      <td>22</td>\n",
       "      <td>92</td>\n",
       "      <td>78</td>\n",
       "      <td>72</td>\n",
       "    </tr>\n",
       "    <tr>\n",
       "      <th>2</th>\n",
       "      <td>Mak</td>\n",
       "      <td>23</td>\n",
       "      <td>79</td>\n",
       "      <td>66</td>\n",
       "      <td>79</td>\n",
       "    </tr>\n",
       "    <tr>\n",
       "      <th>3</th>\n",
       "      <td>Bill</td>\n",
       "      <td>21</td>\n",
       "      <td>57</td>\n",
       "      <td>91</td>\n",
       "      <td>75</td>\n",
       "    </tr>\n",
       "    <tr>\n",
       "      <th>4</th>\n",
       "      <td>Tom</td>\n",
       "      <td>21</td>\n",
       "      <td>89</td>\n",
       "      <td>83</td>\n",
       "      <td>98</td>\n",
       "    </tr>\n",
       "    <tr>\n",
       "      <th>5</th>\n",
       "      <td>Rahul</td>\n",
       "      <td>21</td>\n",
       "      <td>68</td>\n",
       "      <td>80</td>\n",
       "      <td>65</td>\n",
       "    </tr>\n",
       "  </tbody>\n",
       "</table>\n",
       "</div>"
      ],
      "text/plain": [
       "  Student  Age  Sub1_Score  Sub2_Score  Sub3_Score\n",
       "0     Tom   23          50          56          70\n",
       "1   Katey   22          92          78          72\n",
       "2     Mak   23          79          66          79\n",
       "3    Bill   21          57          91          75\n",
       "4     Tom   21          89          83          98\n",
       "5   Rahul   21          68          80          65"
      ]
     },
     "execution_count": 2,
     "metadata": {},
     "output_type": "execute_result"
    }
   ],
   "source": [
    "scores_data = {\"Student\": [\"Tom\", \"Katey\", \"Mak\", \"Bill\", \"Tom\", \"Rahul\"],\n",
    "               \"Age\": np.random.randint(20, 25, size=6),\n",
    "               \"Sub1_Score\": np.random.randint(40, 100, size=6),\n",
    "               \"Sub2_Score\": np.random.randint(40, 100, size=6),\n",
    "               \"Sub3_Score\": np.random.randint(40, 100, size=6)\n",
    "              }\n",
    "\n",
    "scores_df = pd.DataFrame(scores_data)\n",
    "scores_df"
   ]
  },
  {
   "cell_type": "markdown",
   "id": "d688ba14",
   "metadata": {},
   "source": [
    "## Applying NumPy functions"
   ]
  },
  {
   "cell_type": "code",
   "execution_count": 3,
   "id": "37ce2ff9",
   "metadata": {},
   "outputs": [
    {
     "data": {
      "text/plain": [
       "72.5"
      ]
     },
     "execution_count": 3,
     "metadata": {},
     "output_type": "execute_result"
    }
   ],
   "source": [
    "mean = np.mean(scores_df['Sub1_Score'])\n",
    "mean"
   ]
  },
  {
   "cell_type": "code",
   "execution_count": 4,
   "id": "7e61b81d",
   "metadata": {},
   "outputs": [
    {
     "data": {
      "text/plain": [
       "0    56\n",
       "1    92\n",
       "2    79\n",
       "3    91\n",
       "4    89\n",
       "5    80\n",
       "dtype: int64"
      ]
     },
     "execution_count": 4,
     "metadata": {},
     "output_type": "execute_result"
    }
   ],
   "source": [
    "np.maximum(scores_df['Sub1_Score'], scores_df['Sub2_Score'])"
   ]
  },
  {
   "cell_type": "markdown",
   "id": "e0b8a731",
   "metadata": {},
   "source": [
    "## Applying lambda functions"
   ]
  },
  {
   "cell_type": "code",
   "execution_count": 5,
   "id": "d65f479a",
   "metadata": {},
   "outputs": [
    {
     "data": {
      "text/plain": [
       "0    40.0\n",
       "1    73.6\n",
       "2    63.2\n",
       "3    45.6\n",
       "4    71.2\n",
       "5    54.4\n",
       "Name: Sub1_Score, dtype: float64"
      ]
     },
     "execution_count": 5,
     "metadata": {},
     "output_type": "execute_result"
    }
   ],
   "source": [
    "fn = lambda x : 0.8*x\n",
    "scores_df['Sub1_Score'].apply(fn)"
   ]
  },
  {
   "cell_type": "code",
   "execution_count": 6,
   "id": "f75b8f8b",
   "metadata": {},
   "outputs": [
    {
     "data": {
      "text/html": [
       "<div>\n",
       "<style scoped>\n",
       "    .dataframe tbody tr th:only-of-type {\n",
       "        vertical-align: middle;\n",
       "    }\n",
       "\n",
       "    .dataframe tbody tr th {\n",
       "        vertical-align: top;\n",
       "    }\n",
       "\n",
       "    .dataframe thead th {\n",
       "        text-align: right;\n",
       "    }\n",
       "</style>\n",
       "<table border=\"1\" class=\"dataframe\">\n",
       "  <thead>\n",
       "    <tr style=\"text-align: right;\">\n",
       "      <th></th>\n",
       "      <th>Sub1_Score</th>\n",
       "      <th>Sub2_Score</th>\n",
       "      <th>Sub3_Score</th>\n",
       "    </tr>\n",
       "  </thead>\n",
       "  <tbody>\n",
       "    <tr>\n",
       "      <th>0</th>\n",
       "      <td>-22.5</td>\n",
       "      <td>-16.5</td>\n",
       "      <td>-2.5</td>\n",
       "    </tr>\n",
       "    <tr>\n",
       "      <th>1</th>\n",
       "      <td>19.5</td>\n",
       "      <td>5.5</td>\n",
       "      <td>-0.5</td>\n",
       "    </tr>\n",
       "    <tr>\n",
       "      <th>2</th>\n",
       "      <td>6.5</td>\n",
       "      <td>-6.5</td>\n",
       "      <td>6.5</td>\n",
       "    </tr>\n",
       "    <tr>\n",
       "      <th>3</th>\n",
       "      <td>-15.5</td>\n",
       "      <td>18.5</td>\n",
       "      <td>2.5</td>\n",
       "    </tr>\n",
       "    <tr>\n",
       "      <th>4</th>\n",
       "      <td>16.5</td>\n",
       "      <td>10.5</td>\n",
       "      <td>25.5</td>\n",
       "    </tr>\n",
       "    <tr>\n",
       "      <th>5</th>\n",
       "      <td>-4.5</td>\n",
       "      <td>7.5</td>\n",
       "      <td>-7.5</td>\n",
       "    </tr>\n",
       "  </tbody>\n",
       "</table>\n",
       "</div>"
      ],
      "text/plain": [
       "   Sub1_Score  Sub2_Score  Sub3_Score\n",
       "0       -22.5       -16.5        -2.5\n",
       "1        19.5         5.5        -0.5\n",
       "2         6.5        -6.5         6.5\n",
       "3       -15.5        18.5         2.5\n",
       "4        16.5        10.5        25.5\n",
       "5        -4.5         7.5        -7.5"
      ]
     },
     "execution_count": 6,
     "metadata": {},
     "output_type": "execute_result"
    }
   ],
   "source": [
    "fn = lambda x: x - mean\n",
    "\n",
    "scores_df[['Sub1_Score', 'Sub2_Score', 'Sub3_Score']].apply(fn)"
   ]
  },
  {
   "cell_type": "markdown",
   "id": "79fa78e9",
   "metadata": {},
   "source": [
    "## Apply regular python functions"
   ]
  },
  {
   "cell_type": "code",
   "execution_count": 7,
   "id": "9aec48d2",
   "metadata": {},
   "outputs": [],
   "source": [
    "def standardise(x):\n",
    "    return (x - x.mean()) / x.std()"
   ]
  },
  {
   "cell_type": "code",
   "execution_count": 8,
   "id": "89edbcc4",
   "metadata": {},
   "outputs": [
    {
     "data": {
      "text/html": [
       "<div>\n",
       "<style scoped>\n",
       "    .dataframe tbody tr th:only-of-type {\n",
       "        vertical-align: middle;\n",
       "    }\n",
       "\n",
       "    .dataframe tbody tr th {\n",
       "        vertical-align: top;\n",
       "    }\n",
       "\n",
       "    .dataframe thead th {\n",
       "        text-align: right;\n",
       "    }\n",
       "</style>\n",
       "<table border=\"1\" class=\"dataframe\">\n",
       "  <thead>\n",
       "    <tr style=\"text-align: right;\">\n",
       "      <th></th>\n",
       "      <th>Sub1_Score</th>\n",
       "      <th>Sub2_Score</th>\n",
       "      <th>Sub3_Score</th>\n",
       "    </tr>\n",
       "  </thead>\n",
       "  <tbody>\n",
       "    <tr>\n",
       "      <th>0</th>\n",
       "      <td>-1.316037</td>\n",
       "      <td>-1.561306</td>\n",
       "      <td>-0.563410</td>\n",
       "    </tr>\n",
       "    <tr>\n",
       "      <th>1</th>\n",
       "      <td>1.140565</td>\n",
       "      <td>0.185240</td>\n",
       "      <td>-0.390053</td>\n",
       "    </tr>\n",
       "    <tr>\n",
       "      <th>2</th>\n",
       "      <td>0.380188</td>\n",
       "      <td>-0.767421</td>\n",
       "      <td>0.216696</td>\n",
       "    </tr>\n",
       "    <tr>\n",
       "      <th>3</th>\n",
       "      <td>-0.906603</td>\n",
       "      <td>1.217289</td>\n",
       "      <td>-0.130018</td>\n",
       "    </tr>\n",
       "    <tr>\n",
       "      <th>4</th>\n",
       "      <td>0.965094</td>\n",
       "      <td>0.582182</td>\n",
       "      <td>1.863586</td>\n",
       "    </tr>\n",
       "    <tr>\n",
       "      <th>5</th>\n",
       "      <td>-0.263207</td>\n",
       "      <td>0.344016</td>\n",
       "      <td>-0.996802</td>\n",
       "    </tr>\n",
       "  </tbody>\n",
       "</table>\n",
       "</div>"
      ],
      "text/plain": [
       "   Sub1_Score  Sub2_Score  Sub3_Score\n",
       "0   -1.316037   -1.561306   -0.563410\n",
       "1    1.140565    0.185240   -0.390053\n",
       "2    0.380188   -0.767421    0.216696\n",
       "3   -0.906603    1.217289   -0.130018\n",
       "4    0.965094    0.582182    1.863586\n",
       "5   -0.263207    0.344016   -0.996802"
      ]
     },
     "execution_count": 8,
     "metadata": {},
     "output_type": "execute_result"
    }
   ],
   "source": [
    "std_df = scores_df.iloc[: , 2:].apply(standardise)\n",
    "std_df "
   ]
  },
  {
   "cell_type": "markdown",
   "id": "6586f307",
   "metadata": {},
   "source": [
    "## Mapping a function to a dataframe"
   ]
  },
  {
   "cell_type": "code",
   "execution_count": 9,
   "id": "59f53a72",
   "metadata": {},
   "outputs": [
    {
     "data": {
      "text/html": [
       "<div>\n",
       "<style scoped>\n",
       "    .dataframe tbody tr th:only-of-type {\n",
       "        vertical-align: middle;\n",
       "    }\n",
       "\n",
       "    .dataframe tbody tr th {\n",
       "        vertical-align: top;\n",
       "    }\n",
       "\n",
       "    .dataframe thead th {\n",
       "        text-align: right;\n",
       "    }\n",
       "</style>\n",
       "<table border=\"1\" class=\"dataframe\">\n",
       "  <thead>\n",
       "    <tr style=\"text-align: right;\">\n",
       "      <th></th>\n",
       "      <th>Sub1_Score</th>\n",
       "      <th>Sub2_Score</th>\n",
       "      <th>Sub3_Score</th>\n",
       "    </tr>\n",
       "  </thead>\n",
       "  <tbody>\n",
       "    <tr>\n",
       "      <th>0</th>\n",
       "      <td>-1.316</td>\n",
       "      <td>-1.561</td>\n",
       "      <td>-0.563</td>\n",
       "    </tr>\n",
       "    <tr>\n",
       "      <th>1</th>\n",
       "      <td>1.141</td>\n",
       "      <td>0.185</td>\n",
       "      <td>-0.390</td>\n",
       "    </tr>\n",
       "    <tr>\n",
       "      <th>2</th>\n",
       "      <td>0.380</td>\n",
       "      <td>-0.767</td>\n",
       "      <td>0.217</td>\n",
       "    </tr>\n",
       "    <tr>\n",
       "      <th>3</th>\n",
       "      <td>-0.907</td>\n",
       "      <td>1.217</td>\n",
       "      <td>-0.130</td>\n",
       "    </tr>\n",
       "    <tr>\n",
       "      <th>4</th>\n",
       "      <td>0.965</td>\n",
       "      <td>0.582</td>\n",
       "      <td>1.864</td>\n",
       "    </tr>\n",
       "    <tr>\n",
       "      <th>5</th>\n",
       "      <td>-0.263</td>\n",
       "      <td>0.344</td>\n",
       "      <td>-0.997</td>\n",
       "    </tr>\n",
       "  </tbody>\n",
       "</table>\n",
       "</div>"
      ],
      "text/plain": [
       "  Sub1_Score Sub2_Score Sub3_Score\n",
       "0     -1.316     -1.561     -0.563\n",
       "1      1.141      0.185     -0.390\n",
       "2      0.380     -0.767      0.217\n",
       "3     -0.907      1.217     -0.130\n",
       "4      0.965      0.582      1.864\n",
       "5     -0.263      0.344     -0.997"
      ]
     },
     "execution_count": 9,
     "metadata": {},
     "output_type": "execute_result"
    }
   ],
   "source": [
    "std_df.applymap(lambda x: '%0.3f'%x)"
   ]
  },
  {
   "cell_type": "code",
   "execution_count": 10,
   "id": "ad068f95",
   "metadata": {},
   "outputs": [
    {
     "data": {
      "text/plain": [
       "0    -1.316\n",
       "1     1.141\n",
       "2     0.380\n",
       "3    -0.907\n",
       "4     0.965\n",
       "5    -0.263\n",
       "Name: Sub1_Score, dtype: object"
      ]
     },
     "execution_count": 10,
     "metadata": {},
     "output_type": "execute_result"
    }
   ],
   "source": [
    "std_df['Sub1_Score'].map(lambda x: '%0.3f'%x)"
   ]
  },
  {
   "cell_type": "code",
   "execution_count": 11,
   "id": "c20b3b21",
   "metadata": {},
   "outputs": [
    {
     "data": {
      "text/html": [
       "<div>\n",
       "<style scoped>\n",
       "    .dataframe tbody tr th:only-of-type {\n",
       "        vertical-align: middle;\n",
       "    }\n",
       "\n",
       "    .dataframe tbody tr th {\n",
       "        vertical-align: top;\n",
       "    }\n",
       "\n",
       "    .dataframe thead th {\n",
       "        text-align: right;\n",
       "    }\n",
       "</style>\n",
       "<table border=\"1\" class=\"dataframe\">\n",
       "  <thead>\n",
       "    <tr style=\"text-align: right;\">\n",
       "      <th></th>\n",
       "      <th>Student</th>\n",
       "      <th>Age</th>\n",
       "      <th>Sub1_Score</th>\n",
       "      <th>Sub2_Score</th>\n",
       "      <th>Sub3_Score</th>\n",
       "    </tr>\n",
       "  </thead>\n",
       "  <tbody>\n",
       "    <tr>\n",
       "      <th>0</th>\n",
       "      <td>Tom</td>\n",
       "      <td>23</td>\n",
       "      <td>50</td>\n",
       "      <td>56</td>\n",
       "      <td>70</td>\n",
       "    </tr>\n",
       "    <tr>\n",
       "      <th>1</th>\n",
       "      <td>Katey</td>\n",
       "      <td>22</td>\n",
       "      <td>92</td>\n",
       "      <td>78</td>\n",
       "      <td>72</td>\n",
       "    </tr>\n",
       "    <tr>\n",
       "      <th>2</th>\n",
       "      <td>Mak</td>\n",
       "      <td>23</td>\n",
       "      <td>79</td>\n",
       "      <td>66</td>\n",
       "      <td>79</td>\n",
       "    </tr>\n",
       "    <tr>\n",
       "      <th>3</th>\n",
       "      <td>Bill</td>\n",
       "      <td>21</td>\n",
       "      <td>57</td>\n",
       "      <td>91</td>\n",
       "      <td>75</td>\n",
       "    </tr>\n",
       "    <tr>\n",
       "      <th>4</th>\n",
       "      <td>Tom</td>\n",
       "      <td>21</td>\n",
       "      <td>89</td>\n",
       "      <td>83</td>\n",
       "      <td>98</td>\n",
       "    </tr>\n",
       "    <tr>\n",
       "      <th>5</th>\n",
       "      <td>Rahul</td>\n",
       "      <td>21</td>\n",
       "      <td>68</td>\n",
       "      <td>80</td>\n",
       "      <td>65</td>\n",
       "    </tr>\n",
       "  </tbody>\n",
       "</table>\n",
       "</div>"
      ],
      "text/plain": [
       "  Student  Age  Sub1_Score  Sub2_Score  Sub3_Score\n",
       "0     Tom   23          50          56          70\n",
       "1   Katey   22          92          78          72\n",
       "2     Mak   23          79          66          79\n",
       "3    Bill   21          57          91          75\n",
       "4     Tom   21          89          83          98\n",
       "5   Rahul   21          68          80          65"
      ]
     },
     "execution_count": 11,
     "metadata": {},
     "output_type": "execute_result"
    }
   ],
   "source": [
    "scores_df"
   ]
  },
  {
   "cell_type": "code",
   "execution_count": 13,
   "id": "bc728396",
   "metadata": {},
   "outputs": [],
   "source": [
    "scores_df.columns = scores_df.columns.map(str.lower)"
   ]
  },
  {
   "cell_type": "code",
   "execution_count": 14,
   "id": "3a445b34",
   "metadata": {},
   "outputs": [
    {
     "data": {
      "text/html": [
       "<div>\n",
       "<style scoped>\n",
       "    .dataframe tbody tr th:only-of-type {\n",
       "        vertical-align: middle;\n",
       "    }\n",
       "\n",
       "    .dataframe tbody tr th {\n",
       "        vertical-align: top;\n",
       "    }\n",
       "\n",
       "    .dataframe thead th {\n",
       "        text-align: right;\n",
       "    }\n",
       "</style>\n",
       "<table border=\"1\" class=\"dataframe\">\n",
       "  <thead>\n",
       "    <tr style=\"text-align: right;\">\n",
       "      <th></th>\n",
       "      <th>student</th>\n",
       "      <th>age</th>\n",
       "      <th>sub1_score</th>\n",
       "      <th>sub2_score</th>\n",
       "      <th>sub3_score</th>\n",
       "    </tr>\n",
       "  </thead>\n",
       "  <tbody>\n",
       "    <tr>\n",
       "      <th>0</th>\n",
       "      <td>Tom</td>\n",
       "      <td>23</td>\n",
       "      <td>50</td>\n",
       "      <td>56</td>\n",
       "      <td>70</td>\n",
       "    </tr>\n",
       "    <tr>\n",
       "      <th>1</th>\n",
       "      <td>Katey</td>\n",
       "      <td>22</td>\n",
       "      <td>92</td>\n",
       "      <td>78</td>\n",
       "      <td>72</td>\n",
       "    </tr>\n",
       "    <tr>\n",
       "      <th>2</th>\n",
       "      <td>Mak</td>\n",
       "      <td>23</td>\n",
       "      <td>79</td>\n",
       "      <td>66</td>\n",
       "      <td>79</td>\n",
       "    </tr>\n",
       "    <tr>\n",
       "      <th>3</th>\n",
       "      <td>Bill</td>\n",
       "      <td>21</td>\n",
       "      <td>57</td>\n",
       "      <td>91</td>\n",
       "      <td>75</td>\n",
       "    </tr>\n",
       "    <tr>\n",
       "      <th>4</th>\n",
       "      <td>Tom</td>\n",
       "      <td>21</td>\n",
       "      <td>89</td>\n",
       "      <td>83</td>\n",
       "      <td>98</td>\n",
       "    </tr>\n",
       "    <tr>\n",
       "      <th>5</th>\n",
       "      <td>Rahul</td>\n",
       "      <td>21</td>\n",
       "      <td>68</td>\n",
       "      <td>80</td>\n",
       "      <td>65</td>\n",
       "    </tr>\n",
       "  </tbody>\n",
       "</table>\n",
       "</div>"
      ],
      "text/plain": [
       "  student  age  sub1_score  sub2_score  sub3_score\n",
       "0     Tom   23          50          56          70\n",
       "1   Katey   22          92          78          72\n",
       "2     Mak   23          79          66          79\n",
       "3    Bill   21          57          91          75\n",
       "4     Tom   21          89          83          98\n",
       "5   Rahul   21          68          80          65"
      ]
     },
     "execution_count": 14,
     "metadata": {},
     "output_type": "execute_result"
    }
   ],
   "source": [
    "scores_df"
   ]
  },
  {
   "cell_type": "code",
   "execution_count": null,
   "id": "c17ac1f0",
   "metadata": {},
   "outputs": [],
   "source": []
  },
  {
   "cell_type": "code",
   "execution_count": null,
   "id": "ba06fe89",
   "metadata": {},
   "outputs": [],
   "source": []
  },
  {
   "cell_type": "code",
   "execution_count": null,
   "id": "bfdf6969",
   "metadata": {},
   "outputs": [],
   "source": []
  },
  {
   "cell_type": "code",
   "execution_count": null,
   "id": "30649ad1",
   "metadata": {},
   "outputs": [],
   "source": []
  },
  {
   "cell_type": "code",
   "execution_count": null,
   "id": "426b9f4d",
   "metadata": {},
   "outputs": [],
   "source": []
  }
 ],
 "metadata": {
  "kernelspec": {
   "display_name": "Python 3",
   "language": "python",
   "name": "python3"
  },
  "language_info": {
   "codemirror_mode": {
    "name": "ipython",
    "version": 3
   },
   "file_extension": ".py",
   "mimetype": "text/x-python",
   "name": "python",
   "nbconvert_exporter": "python",
   "pygments_lexer": "ipython3",
   "version": "3.9.5"
  }
 },
 "nbformat": 4,
 "nbformat_minor": 5
}
