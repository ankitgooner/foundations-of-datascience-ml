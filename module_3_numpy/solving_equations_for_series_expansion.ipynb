{
 "cells": [
  {
   "cell_type": "markdown",
   "id": "c5fef56a",
   "metadata": {},
   "source": [
    "## Learning Objective:\n",
    "\n",
    "To code a series expansion on a numpy array\n",
    "\n",
    "$\n",
    "e^x = \\sum_{n=0}^\\infty \\frac{x^n}{n!} = 1 + x + \\frac{x^2}{2!} + \\frac{x^3}{3!} + ...\n",
    "$"
   ]
  },
  {
   "cell_type": "code",
   "execution_count": 1,
   "id": "707419ec",
   "metadata": {},
   "outputs": [],
   "source": [
    "import numpy as np\n",
    "\n",
    "from math import factorial\n",
    "\n",
    "vect_fact = np.vectorize(factorial)"
   ]
  },
  {
   "cell_type": "code",
   "execution_count": 2,
   "id": "3cf21a82",
   "metadata": {},
   "outputs": [],
   "source": [
    "def e_to_x(x, num_terms=10):\n",
    "    \"\"\"\n",
    "    Approximates the value of e^x\n",
    "    using maclaurin series\n",
    "    \"\"\"\n",
    "    n = np.arange(num_terms)\n",
    "    result = np.sum(np.divide(np.power(x, n), vect_fact(n)))\n",
    "    return result"
   ]
  },
  {
   "cell_type": "code",
   "execution_count": 3,
   "id": "324366ce",
   "metadata": {},
   "outputs": [
    {
     "data": {
      "text/plain": [
       "54.598150033144236"
      ]
     },
     "execution_count": 3,
     "metadata": {},
     "output_type": "execute_result"
    }
   ],
   "source": [
    "original_val = np.exp(4)\n",
    "original_val"
   ]
  },
  {
   "cell_type": "code",
   "execution_count": 4,
   "id": "352b2481",
   "metadata": {},
   "outputs": [
    {
     "data": {
      "text/plain": [
       "23.666666666666664"
      ]
     },
     "execution_count": 4,
     "metadata": {},
     "output_type": "execute_result"
    }
   ],
   "source": [
    "series_val = e_to_x(4, 4)\n",
    "series_val"
   ]
  },
  {
   "cell_type": "code",
   "execution_count": 5,
   "id": "c3377ba7",
   "metadata": {},
   "outputs": [
    {
     "data": {
      "text/plain": [
       "30.931483366477572"
      ]
     },
     "execution_count": 5,
     "metadata": {},
     "output_type": "execute_result"
    }
   ],
   "source": [
    "error = original_val - series_val\n",
    "error"
   ]
  },
  {
   "cell_type": "code",
   "execution_count": 12,
   "id": "5b004f10",
   "metadata": {},
   "outputs": [
    {
     "name": "stdout",
     "output_type": "stream",
     "text": [
      "N(terms)\tOriginal\tSeries Approx\tError\n",
      "1\t\t54.5982\t\t1.0000\t\t53.598\n",
      "2\t\t54.5982\t\t5.0000\t\t49.598\n",
      "3\t\t54.5982\t\t13.0000\t\t41.598\n",
      "4\t\t54.5982\t\t23.6667\t\t30.931\n",
      "5\t\t54.5982\t\t34.3333\t\t20.265\n",
      "6\t\t54.5982\t\t42.8667\t\t11.731\n",
      "7\t\t54.5982\t\t48.5556\t\t6.043\n",
      "8\t\t54.5982\t\t51.8063\t\t2.792\n",
      "9\t\t54.5982\t\t53.4317\t\t1.166\n",
      "10\t\t54.5982\t\t54.1541\t\t0.444\n",
      "11\t\t54.5982\t\t54.4431\t\t0.155\n",
      "12\t\t54.5982\t\t54.5482\t\t0.050\n",
      "13\t\t54.5982\t\t54.5832\t\t0.015\n",
      "14\t\t54.5982\t\t54.5940\t\t0.004\n"
     ]
    }
   ],
   "source": [
    "print(\"N(terms)\\tOriginal\\tSeries Approx\\tError\")\n",
    "for i in range(1, 15):\n",
    "    series_val = e_to_x(4, i)\n",
    "    print(f\"{i}\\t\\t{original_val:.04f}\\t\\t{series_val:.04f}\\t\\t{(original_val - series_val):.03f}\")"
   ]
  },
  {
   "cell_type": "code",
   "execution_count": null,
   "id": "2255b4ee",
   "metadata": {},
   "outputs": [],
   "source": []
  },
  {
   "cell_type": "code",
   "execution_count": null,
   "id": "981a177f",
   "metadata": {},
   "outputs": [],
   "source": []
  },
  {
   "cell_type": "code",
   "execution_count": null,
   "id": "ad5251ff",
   "metadata": {},
   "outputs": [],
   "source": []
  },
  {
   "cell_type": "code",
   "execution_count": null,
   "id": "5cbe5b49",
   "metadata": {},
   "outputs": [],
   "source": []
  },
  {
   "cell_type": "code",
   "execution_count": null,
   "id": "aac79bd1",
   "metadata": {},
   "outputs": [],
   "source": []
  },
  {
   "cell_type": "code",
   "execution_count": null,
   "id": "c15f1aec",
   "metadata": {},
   "outputs": [],
   "source": []
  },
  {
   "cell_type": "code",
   "execution_count": null,
   "id": "42356b5f",
   "metadata": {},
   "outputs": [],
   "source": []
  },
  {
   "cell_type": "code",
   "execution_count": null,
   "id": "0c6e138c",
   "metadata": {},
   "outputs": [],
   "source": []
  }
 ],
 "metadata": {
  "kernelspec": {
   "display_name": "Python 3",
   "language": "python",
   "name": "python3"
  },
  "language_info": {
   "codemirror_mode": {
    "name": "ipython",
    "version": 3
   },
   "file_extension": ".py",
   "mimetype": "text/x-python",
   "name": "python",
   "nbconvert_exporter": "python",
   "pygments_lexer": "ipython3",
   "version": "3.9.5"
  }
 },
 "nbformat": 4,
 "nbformat_minor": 5
}
