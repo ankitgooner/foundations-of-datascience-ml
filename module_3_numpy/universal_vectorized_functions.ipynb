{
 "cells": [
  {
   "cell_type": "markdown",
   "id": "809f8f4d",
   "metadata": {},
   "source": [
    "## Learning Objectives:\n",
    "\n",
    "* Exploring commonly used universal mathematical and statistical functions.\n",
    "* Unary and binary functions\n",
    "* Making a non-vectorized function vectorized"
   ]
  },
  {
   "cell_type": "code",
   "execution_count": 10,
   "id": "77760a04",
   "metadata": {},
   "outputs": [],
   "source": [
    "import numpy as np"
   ]
  },
  {
   "cell_type": "code",
   "execution_count": 11,
   "id": "99a91cb5",
   "metadata": {},
   "outputs": [
    {
     "data": {
      "text/plain": [
       "array([ 1, 11, 21, 31, 41, 51, 61, 71, 81, 91])"
      ]
     },
     "execution_count": 11,
     "metadata": {},
     "output_type": "execute_result"
    }
   ],
   "source": [
    "x = np.arange(1, 100, 10)\n",
    "x"
   ]
  },
  {
   "cell_type": "code",
   "execution_count": 12,
   "id": "2a63d5a1",
   "metadata": {},
   "outputs": [
    {
     "data": {
      "text/plain": [
       "array([   1,  121,  441,  961, 1681, 2601, 3721, 5041, 6561, 8281])"
      ]
     },
     "execution_count": 12,
     "metadata": {},
     "output_type": "execute_result"
    }
   ],
   "source": [
    "sq = np.square(x)\n",
    "sq"
   ]
  },
  {
   "cell_type": "code",
   "execution_count": 13,
   "id": "44775308",
   "metadata": {},
   "outputs": [
    {
     "data": {
      "text/plain": [
       "array([2.71828183e+00, 5.98741417e+04, 1.31881573e+09, 2.90488497e+13,\n",
       "       6.39843494e+17, 1.40934908e+22, 3.10429794e+26, 6.83767123e+30,\n",
       "       1.50609731e+35, 3.31740010e+39])"
      ]
     },
     "execution_count": 13,
     "metadata": {},
     "output_type": "execute_result"
    }
   ],
   "source": [
    "exp = np.exp(x)\n",
    "exp"
   ]
  },
  {
   "cell_type": "code",
   "execution_count": 14,
   "id": "988686ba",
   "metadata": {},
   "outputs": [
    {
     "data": {
      "text/plain": [
       "array([ 0.84147098, -0.99999021,  0.83665564, -0.40403765, -0.15862267,\n",
       "        0.67022918, -0.96611777,  0.95105465, -0.62988799,  0.10598751])"
      ]
     },
     "execution_count": 14,
     "metadata": {},
     "output_type": "execute_result"
    }
   ],
   "source": [
    "np.sin(x)"
   ]
  },
  {
   "cell_type": "code",
   "execution_count": 15,
   "id": "b730e347",
   "metadata": {},
   "outputs": [
    {
     "data": {
      "text/plain": [
       "array([ 1.        ,  1.47368421,  1.94736842,  2.42105263,  2.89473684,\n",
       "        3.36842105,  3.84210526,  4.31578947,  4.78947368,  5.26315789,\n",
       "        5.73684211,  6.21052632,  6.68421053,  7.15789474,  7.63157895,\n",
       "        8.10526316,  8.57894737,  9.05263158,  9.52631579, 10.        ])"
      ]
     },
     "execution_count": 15,
     "metadata": {},
     "output_type": "execute_result"
    }
   ],
   "source": [
    "y = np.linspace(1, 10, 20)\n",
    "y"
   ]
  },
  {
   "cell_type": "code",
   "execution_count": 16,
   "id": "82b5e767",
   "metadata": {},
   "outputs": [
    {
     "data": {
      "text/plain": [
       "array([ 1.,  2.,  2.,  3.,  3.,  4.,  4.,  5.,  5.,  6.,  6.,  7.,  7.,\n",
       "        8.,  8.,  9.,  9., 10., 10., 10.])"
      ]
     },
     "execution_count": 16,
     "metadata": {},
     "output_type": "execute_result"
    }
   ],
   "source": [
    "np.ceil(y)"
   ]
  },
  {
   "cell_type": "code",
   "execution_count": 17,
   "id": "b2589c3c",
   "metadata": {},
   "outputs": [
    {
     "data": {
      "text/plain": [
       "array([ 1.,  1.,  1.,  2.,  2.,  3.,  3.,  4.,  4.,  5.,  5.,  6.,  6.,\n",
       "        7.,  7.,  8.,  8.,  9.,  9., 10.])"
      ]
     },
     "execution_count": 17,
     "metadata": {},
     "output_type": "execute_result"
    }
   ],
   "source": [
    "np.floor(y)"
   ]
  },
  {
   "cell_type": "markdown",
   "id": "dc025b96",
   "metadata": {},
   "source": [
    "## Binary universal functions"
   ]
  },
  {
   "cell_type": "code",
   "execution_count": 18,
   "id": "605fb928",
   "metadata": {},
   "outputs": [],
   "source": [
    "sub1_scores = np.random.randint(20, 100, size=(10))\n",
    "sub2_scores = np.random.randint(20, 100, size=(10))"
   ]
  },
  {
   "cell_type": "code",
   "execution_count": 19,
   "id": "4cbe7dbc",
   "metadata": {},
   "outputs": [
    {
     "name": "stdout",
     "output_type": "stream",
     "text": [
      "[77 49 98 88 95 76 81 20 74 85]\n",
      "[71 95 27 85 40 44 32 36 83 94]\n"
     ]
    }
   ],
   "source": [
    "print(sub1_scores)\n",
    "print(sub2_scores)"
   ]
  },
  {
   "cell_type": "code",
   "execution_count": 20,
   "id": "7b0daf12",
   "metadata": {},
   "outputs": [
    {
     "data": {
      "text/plain": [
       "array([148, 144, 125, 173, 135, 120, 113,  56, 157, 179])"
      ]
     },
     "execution_count": 20,
     "metadata": {},
     "output_type": "execute_result"
    }
   ],
   "source": [
    "total_score = np.add(sub1_scores, sub2_scores)\n",
    "total_score"
   ]
  },
  {
   "cell_type": "code",
   "execution_count": 21,
   "id": "66e7eadd",
   "metadata": {},
   "outputs": [],
   "source": [
    "best_score_out_of_two = np.maximum(sub1_scores, sub2_scores)"
   ]
  },
  {
   "cell_type": "code",
   "execution_count": 22,
   "id": "ed663c45",
   "metadata": {},
   "outputs": [
    {
     "data": {
      "text/plain": [
       "array([77, 95, 98, 88, 95, 76, 81, 36, 83, 94])"
      ]
     },
     "execution_count": 22,
     "metadata": {},
     "output_type": "execute_result"
    }
   ],
   "source": [
    "best_score_out_of_two"
   ]
  },
  {
   "cell_type": "code",
   "execution_count": 23,
   "id": "d8776884",
   "metadata": {},
   "outputs": [
    {
     "data": {
      "text/plain": [
       "array([        1,         4,        27,       256,      3125,     46656,\n",
       "          823543,  16777216, 387420489])"
      ]
     },
     "execution_count": 23,
     "metadata": {},
     "output_type": "execute_result"
    }
   ],
   "source": [
    "base_arr = np.arange(1, 10)\n",
    "power_arr = np.arange(1, 10)\n",
    "ans = np.power(base_arr, power_arr)\n",
    "ans"
   ]
  },
  {
   "cell_type": "markdown",
   "id": "28142af9",
   "metadata": {},
   "source": [
    "## Making a non-vectorized function vectorized"
   ]
  },
  {
   "cell_type": "code",
   "execution_count": 24,
   "id": "d4bd27b3",
   "metadata": {},
   "outputs": [],
   "source": [
    "from math import factorial"
   ]
  },
  {
   "cell_type": "code",
   "execution_count": 25,
   "id": "a039ea9d",
   "metadata": {},
   "outputs": [
    {
     "data": {
      "text/plain": [
       "120"
      ]
     },
     "execution_count": 25,
     "metadata": {},
     "output_type": "execute_result"
    }
   ],
   "source": [
    "a = 5\n",
    "factorial(a)"
   ]
  },
  {
   "cell_type": "code",
   "execution_count": 26,
   "id": "f1c84413",
   "metadata": {},
   "outputs": [
    {
     "ename": "TypeError",
     "evalue": "only integer scalar arrays can be converted to a scalar index",
     "output_type": "error",
     "traceback": [
      "\u001b[0;31m---------------------------------------------------------------------------\u001b[0m",
      "\u001b[0;31mTypeError\u001b[0m                                 Traceback (most recent call last)",
      "\u001b[0;32m<ipython-input-26-6fc1a09f1a9f>\u001b[0m in \u001b[0;36m<module>\u001b[0;34m\u001b[0m\n\u001b[1;32m      1\u001b[0m \u001b[0mx\u001b[0m \u001b[0;34m=\u001b[0m \u001b[0mnp\u001b[0m\u001b[0;34m.\u001b[0m\u001b[0marange\u001b[0m\u001b[0;34m(\u001b[0m\u001b[0;36m1\u001b[0m\u001b[0;34m,\u001b[0m \u001b[0;36m6\u001b[0m\u001b[0;34m)\u001b[0m\u001b[0;34m\u001b[0m\u001b[0;34m\u001b[0m\u001b[0m\n\u001b[0;32m----> 2\u001b[0;31m \u001b[0mfactorial\u001b[0m\u001b[0;34m(\u001b[0m\u001b[0mx\u001b[0m\u001b[0;34m)\u001b[0m\u001b[0;34m\u001b[0m\u001b[0;34m\u001b[0m\u001b[0m\n\u001b[0m",
      "\u001b[0;31mTypeError\u001b[0m: only integer scalar arrays can be converted to a scalar index"
     ]
    }
   ],
   "source": [
    "x = np.arange(1, 6)\n",
    "factorial(x)"
   ]
  },
  {
   "cell_type": "code",
   "execution_count": 27,
   "id": "72df5e5d",
   "metadata": {},
   "outputs": [],
   "source": [
    "vec_fact = np.vectorize(factorial)\n"
   ]
  },
  {
   "cell_type": "code",
   "execution_count": 28,
   "id": "ad0c17e2",
   "metadata": {},
   "outputs": [
    {
     "name": "stdout",
     "output_type": "stream",
     "text": [
      "[1 2 3 4 5]\n",
      "[  1   2   6  24 120]\n"
     ]
    }
   ],
   "source": [
    "print(x)\n",
    "print(vec_fact(x))"
   ]
  },
  {
   "cell_type": "code",
   "execution_count": null,
   "id": "e56b29e7",
   "metadata": {},
   "outputs": [],
   "source": []
  },
  {
   "cell_type": "code",
   "execution_count": null,
   "id": "27c6559d",
   "metadata": {},
   "outputs": [],
   "source": []
  },
  {
   "cell_type": "code",
   "execution_count": null,
   "id": "51dc040d",
   "metadata": {},
   "outputs": [],
   "source": []
  },
  {
   "cell_type": "code",
   "execution_count": null,
   "id": "71508de4",
   "metadata": {},
   "outputs": [],
   "source": []
  },
  {
   "cell_type": "code",
   "execution_count": null,
   "id": "ecea2315",
   "metadata": {},
   "outputs": [],
   "source": []
  },
  {
   "cell_type": "code",
   "execution_count": null,
   "id": "e1fe8636",
   "metadata": {},
   "outputs": [],
   "source": []
  }
 ],
 "metadata": {
  "kernelspec": {
   "display_name": "Python 3",
   "language": "python",
   "name": "python3"
  },
  "language_info": {
   "codemirror_mode": {
    "name": "ipython",
    "version": 3
   },
   "file_extension": ".py",
   "mimetype": "text/x-python",
   "name": "python",
   "nbconvert_exporter": "python",
   "pygments_lexer": "ipython3",
   "version": "3.9.5"
  }
 },
 "nbformat": 4,
 "nbformat_minor": 5
}
