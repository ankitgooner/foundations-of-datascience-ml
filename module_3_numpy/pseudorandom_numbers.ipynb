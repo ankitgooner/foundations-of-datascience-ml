{
 "cells": [
  {
   "cell_type": "markdown",
   "id": "66a86b05",
   "metadata": {},
   "source": [
    "## Learning Objectives:\n",
    "\n",
    "* Generating random numbers using `np.random` module.\n",
    "* Generating random normally distributed data.\n",
    "* How to generate the same set of numbers everytime using seed.\n",
    "* Other functions you can use."
   ]
  },
  {
   "cell_type": "code",
   "execution_count": 1,
   "id": "528b1f4a",
   "metadata": {},
   "outputs": [],
   "source": [
    "import numpy as np"
   ]
  },
  {
   "cell_type": "code",
   "execution_count": 2,
   "id": "b1c87d5d",
   "metadata": {},
   "outputs": [
    {
     "data": {
      "text/plain": [
       "array([[ 0.64579048,  0.03257397,  0.59808065],\n",
       "       [ 0.70817173,  0.5781209 ,  0.14540588],\n",
       "       [-0.51033706, -0.64039698,  1.12909601],\n",
       "       [-0.17433335,  0.0944369 , -1.39771109],\n",
       "       [ 0.68876983,  0.44019564,  1.1440783 ]])"
      ]
     },
     "execution_count": 2,
     "metadata": {},
     "output_type": "execute_result"
    }
   ],
   "source": [
    "normal_data = np.random.normal(size=(5,3))\n",
    "normal_data"
   ]
  },
  {
   "cell_type": "markdown",
   "id": "c9db5ff1",
   "metadata": {},
   "source": [
    "## Compare the speed with python's builtin random module"
   ]
  },
  {
   "cell_type": "code",
   "execution_count": 3,
   "id": "d7ae4485",
   "metadata": {},
   "outputs": [
    {
     "name": "stdout",
     "output_type": "stream",
     "text": [
      "5.67 ms ± 136 µs per loop (mean ± std. dev. of 7 runs, 100 loops each)\n"
     ]
    }
   ],
   "source": [
    "from random import normalvariate\n",
    "\n",
    "n = 10000\n",
    "%timeit [normalvariate(0,1) for _ in range(n)]"
   ]
  },
  {
   "cell_type": "code",
   "execution_count": 4,
   "id": "33b0a044",
   "metadata": {},
   "outputs": [
    {
     "name": "stdout",
     "output_type": "stream",
     "text": [
      "211 µs ± 6.71 µs per loop (mean ± std. dev. of 7 runs, 1000 loops each)\n"
     ]
    }
   ],
   "source": [
    "%timeit np.random.normal(size=n)"
   ]
  },
  {
   "cell_type": "markdown",
   "id": "e1ba5180",
   "metadata": {},
   "source": [
    "## Using seed()"
   ]
  },
  {
   "cell_type": "code",
   "execution_count": 7,
   "id": "4d5ee786",
   "metadata": {},
   "outputs": [
    {
     "data": {
      "text/plain": [
       "array([9, 1, 6, 1, 9, 7, 2, 4, 3, 8])"
      ]
     },
     "execution_count": 7,
     "metadata": {},
     "output_type": "execute_result"
    }
   ],
   "source": [
    "np.random.randint(1, 10, size=(10))"
   ]
  },
  {
   "cell_type": "code",
   "execution_count": 10,
   "id": "0935203a",
   "metadata": {},
   "outputs": [
    {
     "data": {
      "text/plain": [
       "array([4, 7, 7, 1, 9, 5, 8, 1, 1, 8])"
      ]
     },
     "execution_count": 10,
     "metadata": {},
     "output_type": "execute_result"
    }
   ],
   "source": [
    "np.random.seed(5)\n",
    "np.random.randint(1, 10, size=(10))"
   ]
  },
  {
   "cell_type": "markdown",
   "id": "2144aa12",
   "metadata": {},
   "source": [
    "## Other important random generation functions"
   ]
  },
  {
   "cell_type": "code",
   "execution_count": 12,
   "id": "d78ad9e9",
   "metadata": {},
   "outputs": [
    {
     "data": {
      "text/plain": [
       "array([14, 11, 12,  3, 13,  6,  4,  8, 10,  5,  0,  7,  2,  1,  9])"
      ]
     },
     "execution_count": 12,
     "metadata": {},
     "output_type": "execute_result"
    }
   ],
   "source": [
    "perm1 = np.random.permutation(15)\n",
    "\n",
    "perm1"
   ]
  },
  {
   "cell_type": "code",
   "execution_count": 15,
   "id": "abb49a61",
   "metadata": {},
   "outputs": [],
   "source": [
    "arr = [5,6,2,1,0]\n",
    "np.random.shuffle(arr)"
   ]
  },
  {
   "cell_type": "code",
   "execution_count": 16,
   "id": "ce2cd905",
   "metadata": {},
   "outputs": [
    {
     "data": {
      "text/plain": [
       "[2, 1, 6, 5, 0]"
      ]
     },
     "execution_count": 16,
     "metadata": {},
     "output_type": "execute_result"
    }
   ],
   "source": [
    "arr"
   ]
  },
  {
   "cell_type": "code",
   "execution_count": 17,
   "id": "e8b37ee5",
   "metadata": {},
   "outputs": [
    {
     "data": {
      "text/plain": [
       "array([0, 1, 1, 1, 0, 1, 1, 0, 1, 1])"
      ]
     },
     "execution_count": 17,
     "metadata": {},
     "output_type": "execute_result"
    }
   ],
   "source": [
    "np.random.binomial(1, 0.5, size=(10))"
   ]
  },
  {
   "cell_type": "code",
   "execution_count": 18,
   "id": "f06149ce",
   "metadata": {},
   "outputs": [
    {
     "data": {
      "text/plain": [
       "array([0.5797214 , 0.0645069 , 0.17724613, 0.34152709, 0.60870258,\n",
       "       0.19547496, 0.12154847, 0.93467951, 0.31097992, 0.47431657])"
      ]
     },
     "execution_count": 18,
     "metadata": {},
     "output_type": "execute_result"
    }
   ],
   "source": [
    "np.random.uniform(size=(10))"
   ]
  },
  {
   "cell_type": "code",
   "execution_count": null,
   "id": "088135ce",
   "metadata": {},
   "outputs": [],
   "source": []
  },
  {
   "cell_type": "code",
   "execution_count": null,
   "id": "73eaddfa",
   "metadata": {},
   "outputs": [],
   "source": []
  },
  {
   "cell_type": "code",
   "execution_count": null,
   "id": "bea3e5ec",
   "metadata": {},
   "outputs": [],
   "source": []
  },
  {
   "cell_type": "code",
   "execution_count": null,
   "id": "54e923ea",
   "metadata": {},
   "outputs": [],
   "source": []
  }
 ],
 "metadata": {
  "kernelspec": {
   "display_name": "Python 3",
   "language": "python",
   "name": "python3"
  },
  "language_info": {
   "codemirror_mode": {
    "name": "ipython",
    "version": 3
   },
   "file_extension": ".py",
   "mimetype": "text/x-python",
   "name": "python",
   "nbconvert_exporter": "python",
   "pygments_lexer": "ipython3",
   "version": "3.9.5"
  }
 },
 "nbformat": 4,
 "nbformat_minor": 5
}
